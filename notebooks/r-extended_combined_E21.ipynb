{
 "cells": [
  {
   "cell_type": "markdown",
   "metadata": {
    "slideshow": {
     "slide_type": "slide"
    },
    "tags": []
   },
   "source": [
    "# Extended introduction to R"
   ]
  },
  {
   "cell_type": "markdown",
   "metadata": {
    "slideshow": {
     "slide_type": "slide"
    },
    "tags": []
   },
   "source": [
    "## Content of the workshop\n",
    "\n",
    "This workshop introduces various useful concepts in R. The workshop contains the following sections:\n",
    "\n",
    "- Common errors when working with data in R\n",
    "- Recoding categories in R\n",
    "- Working with strings\n",
    "- Control structuresin R\n",
    "- Functions in R"
   ]
  },
  {
   "cell_type": "markdown",
   "metadata": {
    "slideshow": {
     "slide_type": "slide"
    },
    "tags": []
   },
   "source": [
    "# Common errors when working with data in R\n",
    "\n",
    "R makes some assumptions about how the data being imported is set up (value delimiters, decimal points etc.). Furthermore, data may contain errors or need some handling before being ready for any kind of analysis. \n",
    "\n",
    "Errors that one encounters when working with data can be rather unique and solving them will often involve a lot of trial and error specific to the data being worked with.\n",
    "\n",
    "In this section we take a look at some of the errors one may encounter when working with tabular data in R. The section uses the same subset of ESS 2018 from the introduction but with some errors added to the data."
   ]
  },
  {
   "cell_type": "markdown",
   "metadata": {
    "slideshow": {
     "slide_type": "slide"
    },
    "tags": []
   },
   "source": [
    "## Common error 1: Data uses a non-standard separator\n",
    "\n",
    "This error can occur when working with CSV files. \"CSV\" stands for comma-separated values but the standard csv-format actually differs a bit across countries: some countries use commas; others used semi-commas.\n",
    "\n",
    "\"CSV\" is a type of \"delimited data file\". Delimited data files are all made of lines where each value is separated by some character (tab, comma, semi-comma or something else).\n",
    "\n",
    "In the code below, the dataset is imported with the standard `read_csv()` function from `readr`:"
   ]
  },
  {
   "cell_type": "code",
   "execution_count": 3,
   "metadata": {
    "slideshow": {
     "slide_type": "slide"
    },
    "tags": []
   },
   "outputs": [
    {
     "name": "stderr",
     "output_type": "stream",
     "text": [
      "Parsed with column specification:\n",
      "cols(\n",
      "  `idno;netustm;ppltrst;vote;prtvtddk;lvpntyr;tygrtr;gndr;yrbrn;edlvddk;eduyrs;wkhct;wkhtot;grspnum;frlgrsp;inwtm` = col_character()\n",
      ")\n",
      "Warning message:\n",
      "\"1572 parsing failures.\n",
      "row col  expected    actual                                                                                                                   file\n",
      "  1  -- 1 columns 4 columns 'https://raw.githubusercontent.com/CALDISS-AAU/workshop_r-extended-intro/master/data/ESS2018DK_subset_with-errors.csv'\n",
      "  2  -- 1 columns 4 columns 'https://raw.githubusercontent.com/CALDISS-AAU/workshop_r-extended-intro/master/data/ESS2018DK_subset_with-errors.csv'\n",
      "  3  -- 1 columns 4 columns 'https://raw.githubusercontent.com/CALDISS-AAU/workshop_r-extended-intro/master/data/ESS2018DK_subset_with-errors.csv'\n",
      "  4  -- 1 columns 4 columns 'https://raw.githubusercontent.com/CALDISS-AAU/workshop_r-extended-intro/master/data/ESS2018DK_subset_with-errors.csv'\n",
      "  5  -- 1 columns 4 columns 'https://raw.githubusercontent.com/CALDISS-AAU/workshop_r-extended-intro/master/data/ESS2018DK_subset_with-errors.csv'\n",
      "... ... ......... ......... ......................................................................................................................\n",
      "See problems(...) for more details.\n",
      "\""
     ]
    },
    {
     "data": {
      "text/html": [
       "<table>\n",
       "<thead><tr><th scope=col>idno;netustm;ppltrst;vote;prtvtddk;lvpntyr;tygrtr;gndr;yrbrn;edlvddk;eduyrs;wkhct;wkhtot;grspnum;frlgrsp;inwtm</th></tr></thead>\n",
       "<tbody>\n",
       "\t<tr><td>110;180 </td></tr>\n",
       "\t<tr><td>705;60  </td></tr>\n",
       "\t<tr><td>1327;240</td></tr>\n",
       "\t<tr><td>3760;300</td></tr>\n",
       "\t<tr><td>4658;90 </td></tr>\n",
       "</tbody>\n",
       "</table>\n"
      ],
      "text/latex": [
       "\\begin{tabular}{r|l}\n",
       " idno;netustm;ppltrst;vote;prtvtddk;lvpntyr;tygrtr;gndr;yrbrn;edlvddk;eduyrs;wkhct;wkhtot;grspnum;frlgrsp;inwtm\\\\\n",
       "\\hline\n",
       "\t 110;180 \\\\\n",
       "\t 705;60  \\\\\n",
       "\t 1327;240\\\\\n",
       "\t 3760;300\\\\\n",
       "\t 4658;90 \\\\\n",
       "\\end{tabular}\n"
      ],
      "text/markdown": [
       "\n",
       "| idno;netustm;ppltrst;vote;prtvtddk;lvpntyr;tygrtr;gndr;yrbrn;edlvddk;eduyrs;wkhct;wkhtot;grspnum;frlgrsp;inwtm |\n",
       "|---|\n",
       "| 110;180  |\n",
       "| 705;60   |\n",
       "| 1327;240 |\n",
       "| 3760;300 |\n",
       "| 4658;90  |\n",
       "\n"
      ],
      "text/plain": [
       "  idno;netustm;ppltrst;vote;prtvtddk;lvpntyr;tygrtr;gndr;yrbrn;edlvddk;eduyrs;wkhct;wkhtot;grspnum;frlgrsp;inwtm\n",
       "1 110;180                                                                                                       \n",
       "2 705;60                                                                                                        \n",
       "3 1327;240                                                                                                      \n",
       "4 3760;300                                                                                                      \n",
       "5 4658;90                                                                                                       "
      ]
     },
     "metadata": {},
     "output_type": "display_data"
    }
   ],
   "source": [
    "library(readr)\n",
    "\n",
    "ess2018 <- read_csv(\"https://raw.githubusercontent.com/CALDISS-AAU/workshop_r-extended-intro/master/data/ESS2018DK_subset_with-errors.csv\")\n",
    "\n",
    "head(ess2018, 5)"
   ]
  },
  {
   "cell_type": "markdown",
   "metadata": {
    "slideshow": {
     "slide_type": "slide"
    },
    "tags": []
   },
   "source": [
    "As can be seen, there seems to be something off with the data, as all the values are condensed into a single column. This happens because `read_csv()` assumes the values are separated by commas, but in this dataset the values are separated by semi-commas.\n",
    "\n",
    "`read_csv2()` can be used in this case, as this assumes semi-commas as separators (which is common in some European countries - like Denmark):"
   ]
  },
  {
   "cell_type": "code",
   "execution_count": 4,
   "metadata": {
    "slideshow": {
     "slide_type": "slide"
    },
    "tags": []
   },
   "outputs": [
    {
     "name": "stderr",
     "output_type": "stream",
     "text": [
      "Using ',' as decimal and '.' as grouping mark. Use read_delim() for more control.\n",
      "Parsed with column specification:\n",
      "cols(\n",
      "  idno = col_double(),\n",
      "  netustm = col_character(),\n",
      "  ppltrst = col_character(),\n",
      "  vote = col_character(),\n",
      "  prtvtddk = col_character(),\n",
      "  lvpntyr = col_character(),\n",
      "  tygrtr = col_character(),\n",
      "  gndr = col_character(),\n",
      "  yrbrn = col_double(),\n",
      "  edlvddk = col_character(),\n",
      "  eduyrs = col_double(),\n",
      "  wkhct = col_double(),\n",
      "  wkhtot = col_double(),\n",
      "  grspnum = col_double(),\n",
      "  frlgrsp = col_double(),\n",
      "  inwtm = col_character()\n",
      ")\n"
     ]
    },
    {
     "data": {
      "text/html": [
       "<table>\n",
       "<thead><tr><th scope=col>idno</th><th scope=col>netustm</th><th scope=col>ppltrst</th><th scope=col>vote</th><th scope=col>prtvtddk</th><th scope=col>lvpntyr</th><th scope=col>tygrtr</th><th scope=col>gndr</th><th scope=col>yrbrn</th><th scope=col>edlvddk</th><th scope=col>eduyrs</th><th scope=col>wkhct</th><th scope=col>wkhtot</th><th scope=col>grspnum</th><th scope=col>frlgrsp</th><th scope=col>inwtm</th></tr></thead>\n",
       "<tbody>\n",
       "\t<tr><td> 110                                                                          </td><td>180,0                                                                         </td><td>8                                                                             </td><td>Yes                                                                           </td><td>Socialdemokratiet - The Social democrats                                      </td><td>1968                                                                          </td><td>Never too young                                                               </td><td>Male                                                                          </td><td>1949                                                                          </td><td>Kort videregående uddannelse af op til 2-3 års varighed, F.eks. Erhvervsakadem</td><td> 9                                                                            </td><td>28                                                                            </td><td>28                                                                            </td><td>9999999                                                                       </td><td>9999999                                                                       </td><td>119,0                                                                         </td></tr>\n",
       "\t<tr><td> 705                                                                          </td><td>60,0                                                                          </td><td>5                                                                             </td><td>Yes                                                                           </td><td>Det Konservative Folkeparti - Conservative People's Party                     </td><td>1976                                                                          </td><td>67                                                                            </td><td>Male                                                                          </td><td>1958                                                                          </td><td>Kort videregående uddannelse af op til 2-3 års varighed, F.eks. Erhvervsakadem</td><td>22                                                                            </td><td>37                                                                            </td><td>45                                                                            </td><td>9999999                                                                       </td><td>9999999                                                                       </td><td>55,0                                                                          </td></tr>\n",
       "\t<tr><td>1327                                                                          </td><td>240,0                                                                         </td><td>5                                                                             </td><td>NA                                                                            </td><td>NA                                                                            </td><td>Still in parental home, never left 2 months                                   </td><td>NA                                                                            </td><td>Male                                                                          </td><td>2000                                                                          </td><td>Folkeskole 9.-10. klasse                                                      </td><td>11                                                                            </td><td>37                                                                            </td><td>37                                                                            </td><td>9999999                                                                       </td><td>9999999                                                                       </td><td>37,0                                                                          </td></tr>\n",
       "\t<tr><td>3760                                                                          </td><td>300,0                                                                         </td><td>7                                                                             </td><td>Not eligible to vote                                                          </td><td>NA                                                                            </td><td>Still in parental home, never left 2 months                                   </td><td>40                                                                            </td><td>Male                                                                          </td><td>2002                                                                          </td><td>Folkeskole 9.-10. klasse                                                      </td><td> 9                                                                            </td><td> 2                                                                            </td><td> 2                                                                            </td><td>    200                                                                       </td><td>9999999                                                                       </td><td>43,0                                                                          </td></tr>\n",
       "\t<tr><td>4658                                                                          </td><td>90,0                                                                          </td><td>8                                                                             </td><td>Yes                                                                           </td><td>NA                                                                            </td><td>1974                                                                          </td><td>50                                                                            </td><td>Female                                                                        </td><td>1956                                                                          </td><td>Kort videregående uddannelse af op til 2-3 års varighed, F.eks. Erhvervsakadem</td><td> 4                                                                            </td><td>30                                                                            </td><td>30                                                                            </td><td>9999999                                                                       </td><td>9999999                                                                       </td><td>62,0                                                                          </td></tr>\n",
       "\t<tr><td>5816                                                                          </td><td>90,0                                                                          </td><td>7                                                                             </td><td>Yes                                                                           </td><td>SF Socialistisk Folkeparti - Socialist People's Party                         </td><td>1994                                                                          </td><td>60                                                                            </td><td>Male                                                                          </td><td>1974                                                                          </td><td>Mellemlang videregående uddannelse af 3-4 års varighed. Professionsbachelorer,</td><td>35                                                                            </td><td>37                                                                            </td><td>37                                                                            </td><td>  37000                                                                       </td><td>  35000                                                                       </td><td>61,0                                                                          </td></tr>\n",
       "</tbody>\n",
       "</table>\n"
      ],
      "text/latex": [
       "\\begin{tabular}{r|llllllllllllllll}\n",
       " idno & netustm & ppltrst & vote & prtvtddk & lvpntyr & tygrtr & gndr & yrbrn & edlvddk & eduyrs & wkhct & wkhtot & grspnum & frlgrsp & inwtm\\\\\n",
       "\\hline\n",
       "\t  110                                                                           & 180,0                                                                          & 8                                                                              & Yes                                                                            & Socialdemokratiet - The Social democrats                                       & 1968                                                                           & Never too young                                                                & Male                                                                           & 1949                                                                           & Kort videregående uddannelse af op til 2-3 års varighed, F.eks. Erhvervsakadem &  9                                                                             & 28                                                                             & 28                                                                             & 9999999                                                                        & 9999999                                                                        & 119,0                                                                         \\\\\n",
       "\t  705                                                                           & 60,0                                                                           & 5                                                                              & Yes                                                                            & Det Konservative Folkeparti - Conservative People's Party                      & 1976                                                                           & 67                                                                             & Male                                                                           & 1958                                                                           & Kort videregående uddannelse af op til 2-3 års varighed, F.eks. Erhvervsakadem & 22                                                                             & 37                                                                             & 45                                                                             & 9999999                                                                        & 9999999                                                                        & 55,0                                                                          \\\\\n",
       "\t 1327                                                                           & 240,0                                                                          & 5                                                                              & NA                                                                             & NA                                                                             & Still in parental home, never left 2 months                                    & NA                                                                             & Male                                                                           & 2000                                                                           & Folkeskole 9.-10. klasse                                                       & 11                                                                             & 37                                                                             & 37                                                                             & 9999999                                                                        & 9999999                                                                        & 37,0                                                                          \\\\\n",
       "\t 3760                                                                           & 300,0                                                                          & 7                                                                              & Not eligible to vote                                                           & NA                                                                             & Still in parental home, never left 2 months                                    & 40                                                                             & Male                                                                           & 2002                                                                           & Folkeskole 9.-10. klasse                                                       &  9                                                                             &  2                                                                             &  2                                                                             &     200                                                                        & 9999999                                                                        & 43,0                                                                          \\\\\n",
       "\t 4658                                                                           & 90,0                                                                           & 8                                                                              & Yes                                                                            & NA                                                                             & 1974                                                                           & 50                                                                             & Female                                                                         & 1956                                                                           & Kort videregående uddannelse af op til 2-3 års varighed, F.eks. Erhvervsakadem &  4                                                                             & 30                                                                             & 30                                                                             & 9999999                                                                        & 9999999                                                                        & 62,0                                                                          \\\\\n",
       "\t 5816                                                                           & 90,0                                                                           & 7                                                                              & Yes                                                                            & SF Socialistisk Folkeparti - Socialist People's Party                          & 1994                                                                           & 60                                                                             & Male                                                                           & 1974                                                                           & Mellemlang videregående uddannelse af 3-4 års varighed. Professionsbachelorer, & 35                                                                             & 37                                                                             & 37                                                                             &   37000                                                                        &   35000                                                                        & 61,0                                                                          \\\\\n",
       "\\end{tabular}\n"
      ],
      "text/markdown": [
       "\n",
       "| idno | netustm | ppltrst | vote | prtvtddk | lvpntyr | tygrtr | gndr | yrbrn | edlvddk | eduyrs | wkhct | wkhtot | grspnum | frlgrsp | inwtm |\n",
       "|---|---|---|---|---|---|---|---|---|---|---|---|---|---|---|---|\n",
       "|  110                                                                           | 180,0                                                                          | 8                                                                              | Yes                                                                            | Socialdemokratiet - The Social democrats                                       | 1968                                                                           | Never too young                                                                | Male                                                                           | 1949                                                                           | Kort videregående uddannelse af op til 2-3 års varighed, F.eks. Erhvervsakadem |  9                                                                             | 28                                                                             | 28                                                                             | 9999999                                                                        | 9999999                                                                        | 119,0                                                                          |\n",
       "|  705                                                                           | 60,0                                                                           | 5                                                                              | Yes                                                                            | Det Konservative Folkeparti - Conservative People's Party                      | 1976                                                                           | 67                                                                             | Male                                                                           | 1958                                                                           | Kort videregående uddannelse af op til 2-3 års varighed, F.eks. Erhvervsakadem | 22                                                                             | 37                                                                             | 45                                                                             | 9999999                                                                        | 9999999                                                                        | 55,0                                                                           |\n",
       "| 1327                                                                           | 240,0                                                                          | 5                                                                              | NA                                                                             | NA                                                                             | Still in parental home, never left 2 months                                    | NA                                                                             | Male                                                                           | 2000                                                                           | Folkeskole 9.-10. klasse                                                       | 11                                                                             | 37                                                                             | 37                                                                             | 9999999                                                                        | 9999999                                                                        | 37,0                                                                           |\n",
       "| 3760                                                                           | 300,0                                                                          | 7                                                                              | Not eligible to vote                                                           | NA                                                                             | Still in parental home, never left 2 months                                    | 40                                                                             | Male                                                                           | 2002                                                                           | Folkeskole 9.-10. klasse                                                       |  9                                                                             |  2                                                                             |  2                                                                             |     200                                                                        | 9999999                                                                        | 43,0                                                                           |\n",
       "| 4658                                                                           | 90,0                                                                           | 8                                                                              | Yes                                                                            | NA                                                                             | 1974                                                                           | 50                                                                             | Female                                                                         | 1956                                                                           | Kort videregående uddannelse af op til 2-3 års varighed, F.eks. Erhvervsakadem |  4                                                                             | 30                                                                             | 30                                                                             | 9999999                                                                        | 9999999                                                                        | 62,0                                                                           |\n",
       "| 5816                                                                           | 90,0                                                                           | 7                                                                              | Yes                                                                            | SF Socialistisk Folkeparti - Socialist People's Party                          | 1994                                                                           | 60                                                                             | Male                                                                           | 1974                                                                           | Mellemlang videregående uddannelse af 3-4 års varighed. Professionsbachelorer, | 35                                                                             | 37                                                                             | 37                                                                             |   37000                                                                        |   35000                                                                        | 61,0                                                                           |\n",
       "\n"
      ],
      "text/plain": [
       "  idno netustm ppltrst vote                \n",
       "1  110 180,0   8       Yes                 \n",
       "2  705 60,0    5       Yes                 \n",
       "3 1327 240,0   5       NA                  \n",
       "4 3760 300,0   7       Not eligible to vote\n",
       "5 4658 90,0    8       Yes                 \n",
       "6 5816 90,0    7       Yes                 \n",
       "  prtvtddk                                                 \n",
       "1 Socialdemokratiet - The Social democrats                 \n",
       "2 Det Konservative Folkeparti - Conservative People's Party\n",
       "3 NA                                                       \n",
       "4 NA                                                       \n",
       "5 NA                                                       \n",
       "6 SF Socialistisk Folkeparti - Socialist People's Party    \n",
       "  lvpntyr                                     tygrtr          gndr   yrbrn\n",
       "1 1968                                        Never too young Male   1949 \n",
       "2 1976                                        67              Male   1958 \n",
       "3 Still in parental home, never left 2 months NA              Male   2000 \n",
       "4 Still in parental home, never left 2 months 40              Male   2002 \n",
       "5 1974                                        50              Female 1956 \n",
       "6 1994                                        60              Male   1974 \n",
       "  edlvddk                                                                       \n",
       "1 Kort videregående uddannelse af op til 2-3 års varighed, F.eks. Erhvervsakadem\n",
       "2 Kort videregående uddannelse af op til 2-3 års varighed, F.eks. Erhvervsakadem\n",
       "3 Folkeskole 9.-10. klasse                                                      \n",
       "4 Folkeskole 9.-10. klasse                                                      \n",
       "5 Kort videregående uddannelse af op til 2-3 års varighed, F.eks. Erhvervsakadem\n",
       "6 Mellemlang videregående uddannelse af 3-4 års varighed. Professionsbachelorer,\n",
       "  eduyrs wkhct wkhtot grspnum frlgrsp inwtm\n",
       "1  9     28    28     9999999 9999999 119,0\n",
       "2 22     37    45     9999999 9999999 55,0 \n",
       "3 11     37    37     9999999 9999999 37,0 \n",
       "4  9      2     2         200 9999999 43,0 \n",
       "5  4     30    30     9999999 9999999 62,0 \n",
       "6 35     37    37       37000   35000 61,0 "
      ]
     },
     "metadata": {},
     "output_type": "display_data"
    }
   ],
   "source": [
    "ess2018 <- read_csv2(\"https://raw.githubusercontent.com/CALDISS-AAU/workshop_r-extended-intro/master/data/ESS2018DK_subset_with-errors.csv\") # Works with \";\"\n",
    "head(ess2018)"
   ]
  },
  {
   "cell_type": "markdown",
   "metadata": {
    "slideshow": {
     "slide_type": "slide"
    },
    "tags": []
   },
   "source": [
    "Alternatively, the function `read_delim()` can be used where the delimiter (the character separating the values) is specified:"
   ]
  },
  {
   "cell_type": "code",
   "execution_count": 5,
   "metadata": {
    "slideshow": {
     "slide_type": "fragment"
    },
    "tags": []
   },
   "outputs": [
    {
     "name": "stderr",
     "output_type": "stream",
     "text": [
      "Parsed with column specification:\n",
      "cols(\n",
      "  idno = col_double(),\n",
      "  netustm = col_character(),\n",
      "  ppltrst = col_character(),\n",
      "  vote = col_character(),\n",
      "  prtvtddk = col_character(),\n",
      "  lvpntyr = col_character(),\n",
      "  tygrtr = col_character(),\n",
      "  gndr = col_character(),\n",
      "  yrbrn = col_double(),\n",
      "  edlvddk = col_character(),\n",
      "  eduyrs = col_double(),\n",
      "  wkhct = col_double(),\n",
      "  wkhtot = col_double(),\n",
      "  grspnum = col_double(),\n",
      "  frlgrsp = col_double(),\n",
      "  inwtm = col_character()\n",
      ")\n"
     ]
    },
    {
     "data": {
      "text/html": [
       "<table>\n",
       "<thead><tr><th scope=col>idno</th><th scope=col>netustm</th><th scope=col>ppltrst</th><th scope=col>vote</th><th scope=col>prtvtddk</th><th scope=col>lvpntyr</th><th scope=col>tygrtr</th><th scope=col>gndr</th><th scope=col>yrbrn</th><th scope=col>edlvddk</th><th scope=col>eduyrs</th><th scope=col>wkhct</th><th scope=col>wkhtot</th><th scope=col>grspnum</th><th scope=col>frlgrsp</th><th scope=col>inwtm</th></tr></thead>\n",
       "<tbody>\n",
       "\t<tr><td> 110                                                                          </td><td>180,0                                                                         </td><td>8                                                                             </td><td>Yes                                                                           </td><td>Socialdemokratiet - The Social democrats                                      </td><td>1968                                                                          </td><td>Never too young                                                               </td><td>Male                                                                          </td><td>1949                                                                          </td><td>Kort videregående uddannelse af op til 2-3 års varighed, F.eks. Erhvervsakadem</td><td> 9                                                                            </td><td>28                                                                            </td><td>28                                                                            </td><td>9999999                                                                       </td><td>9999999                                                                       </td><td>119,0                                                                         </td></tr>\n",
       "\t<tr><td> 705                                                                          </td><td>60,0                                                                          </td><td>5                                                                             </td><td>Yes                                                                           </td><td>Det Konservative Folkeparti - Conservative People's Party                     </td><td>1976                                                                          </td><td>67                                                                            </td><td>Male                                                                          </td><td>1958                                                                          </td><td>Kort videregående uddannelse af op til 2-3 års varighed, F.eks. Erhvervsakadem</td><td>22                                                                            </td><td>37                                                                            </td><td>45                                                                            </td><td>9999999                                                                       </td><td>9999999                                                                       </td><td>55,0                                                                          </td></tr>\n",
       "\t<tr><td>1327                                                                          </td><td>240,0                                                                         </td><td>5                                                                             </td><td>NA                                                                            </td><td>NA                                                                            </td><td>Still in parental home, never left 2 months                                   </td><td>NA                                                                            </td><td>Male                                                                          </td><td>2000                                                                          </td><td>Folkeskole 9.-10. klasse                                                      </td><td>11                                                                            </td><td>37                                                                            </td><td>37                                                                            </td><td>9999999                                                                       </td><td>9999999                                                                       </td><td>37,0                                                                          </td></tr>\n",
       "\t<tr><td>3760                                                                          </td><td>300,0                                                                         </td><td>7                                                                             </td><td>Not eligible to vote                                                          </td><td>NA                                                                            </td><td>Still in parental home, never left 2 months                                   </td><td>40                                                                            </td><td>Male                                                                          </td><td>2002                                                                          </td><td>Folkeskole 9.-10. klasse                                                      </td><td> 9                                                                            </td><td> 2                                                                            </td><td> 2                                                                            </td><td>    200                                                                       </td><td>9999999                                                                       </td><td>43,0                                                                          </td></tr>\n",
       "\t<tr><td>4658                                                                          </td><td>90,0                                                                          </td><td>8                                                                             </td><td>Yes                                                                           </td><td>NA                                                                            </td><td>1974                                                                          </td><td>50                                                                            </td><td>Female                                                                        </td><td>1956                                                                          </td><td>Kort videregående uddannelse af op til 2-3 års varighed, F.eks. Erhvervsakadem</td><td> 4                                                                            </td><td>30                                                                            </td><td>30                                                                            </td><td>9999999                                                                       </td><td>9999999                                                                       </td><td>62,0                                                                          </td></tr>\n",
       "\t<tr><td>5816                                                                          </td><td>90,0                                                                          </td><td>7                                                                             </td><td>Yes                                                                           </td><td>SF Socialistisk Folkeparti - Socialist People's Party                         </td><td>1994                                                                          </td><td>60                                                                            </td><td>Male                                                                          </td><td>1974                                                                          </td><td>Mellemlang videregående uddannelse af 3-4 års varighed. Professionsbachelorer,</td><td>35                                                                            </td><td>37                                                                            </td><td>37                                                                            </td><td>  37000                                                                       </td><td>  35000                                                                       </td><td>61,0                                                                          </td></tr>\n",
       "</tbody>\n",
       "</table>\n"
      ],
      "text/latex": [
       "\\begin{tabular}{r|llllllllllllllll}\n",
       " idno & netustm & ppltrst & vote & prtvtddk & lvpntyr & tygrtr & gndr & yrbrn & edlvddk & eduyrs & wkhct & wkhtot & grspnum & frlgrsp & inwtm\\\\\n",
       "\\hline\n",
       "\t  110                                                                           & 180,0                                                                          & 8                                                                              & Yes                                                                            & Socialdemokratiet - The Social democrats                                       & 1968                                                                           & Never too young                                                                & Male                                                                           & 1949                                                                           & Kort videregående uddannelse af op til 2-3 års varighed, F.eks. Erhvervsakadem &  9                                                                             & 28                                                                             & 28                                                                             & 9999999                                                                        & 9999999                                                                        & 119,0                                                                         \\\\\n",
       "\t  705                                                                           & 60,0                                                                           & 5                                                                              & Yes                                                                            & Det Konservative Folkeparti - Conservative People's Party                      & 1976                                                                           & 67                                                                             & Male                                                                           & 1958                                                                           & Kort videregående uddannelse af op til 2-3 års varighed, F.eks. Erhvervsakadem & 22                                                                             & 37                                                                             & 45                                                                             & 9999999                                                                        & 9999999                                                                        & 55,0                                                                          \\\\\n",
       "\t 1327                                                                           & 240,0                                                                          & 5                                                                              & NA                                                                             & NA                                                                             & Still in parental home, never left 2 months                                    & NA                                                                             & Male                                                                           & 2000                                                                           & Folkeskole 9.-10. klasse                                                       & 11                                                                             & 37                                                                             & 37                                                                             & 9999999                                                                        & 9999999                                                                        & 37,0                                                                          \\\\\n",
       "\t 3760                                                                           & 300,0                                                                          & 7                                                                              & Not eligible to vote                                                           & NA                                                                             & Still in parental home, never left 2 months                                    & 40                                                                             & Male                                                                           & 2002                                                                           & Folkeskole 9.-10. klasse                                                       &  9                                                                             &  2                                                                             &  2                                                                             &     200                                                                        & 9999999                                                                        & 43,0                                                                          \\\\\n",
       "\t 4658                                                                           & 90,0                                                                           & 8                                                                              & Yes                                                                            & NA                                                                             & 1974                                                                           & 50                                                                             & Female                                                                         & 1956                                                                           & Kort videregående uddannelse af op til 2-3 års varighed, F.eks. Erhvervsakadem &  4                                                                             & 30                                                                             & 30                                                                             & 9999999                                                                        & 9999999                                                                        & 62,0                                                                          \\\\\n",
       "\t 5816                                                                           & 90,0                                                                           & 7                                                                              & Yes                                                                            & SF Socialistisk Folkeparti - Socialist People's Party                          & 1994                                                                           & 60                                                                             & Male                                                                           & 1974                                                                           & Mellemlang videregående uddannelse af 3-4 års varighed. Professionsbachelorer, & 35                                                                             & 37                                                                             & 37                                                                             &   37000                                                                        &   35000                                                                        & 61,0                                                                          \\\\\n",
       "\\end{tabular}\n"
      ],
      "text/markdown": [
       "\n",
       "| idno | netustm | ppltrst | vote | prtvtddk | lvpntyr | tygrtr | gndr | yrbrn | edlvddk | eduyrs | wkhct | wkhtot | grspnum | frlgrsp | inwtm |\n",
       "|---|---|---|---|---|---|---|---|---|---|---|---|---|---|---|---|\n",
       "|  110                                                                           | 180,0                                                                          | 8                                                                              | Yes                                                                            | Socialdemokratiet - The Social democrats                                       | 1968                                                                           | Never too young                                                                | Male                                                                           | 1949                                                                           | Kort videregående uddannelse af op til 2-3 års varighed, F.eks. Erhvervsakadem |  9                                                                             | 28                                                                             | 28                                                                             | 9999999                                                                        | 9999999                                                                        | 119,0                                                                          |\n",
       "|  705                                                                           | 60,0                                                                           | 5                                                                              | Yes                                                                            | Det Konservative Folkeparti - Conservative People's Party                      | 1976                                                                           | 67                                                                             | Male                                                                           | 1958                                                                           | Kort videregående uddannelse af op til 2-3 års varighed, F.eks. Erhvervsakadem | 22                                                                             | 37                                                                             | 45                                                                             | 9999999                                                                        | 9999999                                                                        | 55,0                                                                           |\n",
       "| 1327                                                                           | 240,0                                                                          | 5                                                                              | NA                                                                             | NA                                                                             | Still in parental home, never left 2 months                                    | NA                                                                             | Male                                                                           | 2000                                                                           | Folkeskole 9.-10. klasse                                                       | 11                                                                             | 37                                                                             | 37                                                                             | 9999999                                                                        | 9999999                                                                        | 37,0                                                                           |\n",
       "| 3760                                                                           | 300,0                                                                          | 7                                                                              | Not eligible to vote                                                           | NA                                                                             | Still in parental home, never left 2 months                                    | 40                                                                             | Male                                                                           | 2002                                                                           | Folkeskole 9.-10. klasse                                                       |  9                                                                             |  2                                                                             |  2                                                                             |     200                                                                        | 9999999                                                                        | 43,0                                                                           |\n",
       "| 4658                                                                           | 90,0                                                                           | 8                                                                              | Yes                                                                            | NA                                                                             | 1974                                                                           | 50                                                                             | Female                                                                         | 1956                                                                           | Kort videregående uddannelse af op til 2-3 års varighed, F.eks. Erhvervsakadem |  4                                                                             | 30                                                                             | 30                                                                             | 9999999                                                                        | 9999999                                                                        | 62,0                                                                           |\n",
       "| 5816                                                                           | 90,0                                                                           | 7                                                                              | Yes                                                                            | SF Socialistisk Folkeparti - Socialist People's Party                          | 1994                                                                           | 60                                                                             | Male                                                                           | 1974                                                                           | Mellemlang videregående uddannelse af 3-4 års varighed. Professionsbachelorer, | 35                                                                             | 37                                                                             | 37                                                                             |   37000                                                                        |   35000                                                                        | 61,0                                                                           |\n",
       "\n"
      ],
      "text/plain": [
       "  idno netustm ppltrst vote                \n",
       "1  110 180,0   8       Yes                 \n",
       "2  705 60,0    5       Yes                 \n",
       "3 1327 240,0   5       NA                  \n",
       "4 3760 300,0   7       Not eligible to vote\n",
       "5 4658 90,0    8       Yes                 \n",
       "6 5816 90,0    7       Yes                 \n",
       "  prtvtddk                                                 \n",
       "1 Socialdemokratiet - The Social democrats                 \n",
       "2 Det Konservative Folkeparti - Conservative People's Party\n",
       "3 NA                                                       \n",
       "4 NA                                                       \n",
       "5 NA                                                       \n",
       "6 SF Socialistisk Folkeparti - Socialist People's Party    \n",
       "  lvpntyr                                     tygrtr          gndr   yrbrn\n",
       "1 1968                                        Never too young Male   1949 \n",
       "2 1976                                        67              Male   1958 \n",
       "3 Still in parental home, never left 2 months NA              Male   2000 \n",
       "4 Still in parental home, never left 2 months 40              Male   2002 \n",
       "5 1974                                        50              Female 1956 \n",
       "6 1994                                        60              Male   1974 \n",
       "  edlvddk                                                                       \n",
       "1 Kort videregående uddannelse af op til 2-3 års varighed, F.eks. Erhvervsakadem\n",
       "2 Kort videregående uddannelse af op til 2-3 års varighed, F.eks. Erhvervsakadem\n",
       "3 Folkeskole 9.-10. klasse                                                      \n",
       "4 Folkeskole 9.-10. klasse                                                      \n",
       "5 Kort videregående uddannelse af op til 2-3 års varighed, F.eks. Erhvervsakadem\n",
       "6 Mellemlang videregående uddannelse af 3-4 års varighed. Professionsbachelorer,\n",
       "  eduyrs wkhct wkhtot grspnum frlgrsp inwtm\n",
       "1  9     28    28     9999999 9999999 119,0\n",
       "2 22     37    45     9999999 9999999 55,0 \n",
       "3 11     37    37     9999999 9999999 37,0 \n",
       "4  9      2     2         200 9999999 43,0 \n",
       "5  4     30    30     9999999 9999999 62,0 \n",
       "6 35     37    37       37000   35000 61,0 "
      ]
     },
     "metadata": {},
     "output_type": "display_data"
    }
   ],
   "source": [
    "ess2018 <- read_delim(\"https://raw.githubusercontent.com/CALDISS-AAU/workshop_r-extended-intro/master/data/ESS2018DK_subset_with-errors.csv\", delim = \";\") # Alternative - specify the delimiter\n",
    "head(ess2018)"
   ]
  },
  {
   "cell_type": "markdown",
   "metadata": {
    "slideshow": {
     "slide_type": "slide"
    },
    "tags": []
   },
   "source": [
    "## Common error 2: Missing not coded as missing\n",
    "\n",
    "As there is no global standard for denoting missing values, the values used for denoting missing values will often vary from dataset to dataset. For surveys, the codebook usually contains information about what values are used to denote missing values (often very high numbers are used).\n",
    "\n",
    "If this is overlooked, one can end up with errorneous results. In the code below, the mean for the variable `grspnum` (usual weekly/monthly/annual gross pay) is calculated:"
   ]
  },
  {
   "cell_type": "code",
   "execution_count": 6,
   "metadata": {
    "slideshow": {
     "slide_type": "fragment"
    },
    "tags": []
   },
   "outputs": [
    {
     "data": {
      "text/html": [
       "4833783.85114504"
      ],
      "text/latex": [
       "4833783.85114504"
      ],
      "text/markdown": [
       "4833783.85114504"
      ],
      "text/plain": [
       "[1] 4833784"
      ]
     },
     "metadata": {},
     "output_type": "display_data"
    }
   ],
   "source": [
    "mean(ess2018$grspnum)"
   ]
  },
  {
   "cell_type": "markdown",
   "metadata": {
    "slideshow": {
     "slide_type": "slide"
    },
    "tags": []
   },
   "source": [
    "The result is very high. This is because the variable contains high values to denote the mixing values (this can for example be seen using summary):"
   ]
  },
  {
   "cell_type": "code",
   "execution_count": 7,
   "metadata": {
    "slideshow": {
     "slide_type": "fragment"
    },
    "tags": []
   },
   "outputs": [
    {
     "data": {
      "text/plain": [
       "   Min. 1st Qu.  Median    Mean 3rd Qu.    Max. \n",
       "      0   32000  500000 4833784 9999999 9999999 "
      ]
     },
     "metadata": {},
     "output_type": "display_data"
    }
   ],
   "source": [
    "summary(ess2018$grspnum)"
   ]
  },
  {
   "cell_type": "markdown",
   "metadata": {
    "slideshow": {
     "slide_type": "slide"
    },
    "tags": []
   },
   "source": [
    "The function `na_if` from `dplyr` can be used to simply recode specific values to missing:"
   ]
  },
  {
   "cell_type": "code",
   "execution_count": 8,
   "metadata": {
    "slideshow": {
     "slide_type": "fragment"
    },
    "tags": []
   },
   "outputs": [
    {
     "name": "stderr",
     "output_type": "stream",
     "text": [
      "\n",
      "Attaching package: 'dplyr'\n",
      "\n",
      "The following objects are masked from 'package:stats':\n",
      "\n",
      "    filter, lag\n",
      "\n",
      "The following objects are masked from 'package:base':\n",
      "\n",
      "    intersect, setdiff, setequal, union\n",
      "\n"
     ]
    },
    {
     "data": {
      "text/html": [
       "95986.543902439"
      ],
      "text/latex": [
       "95986.543902439"
      ],
      "text/markdown": [
       "95986.543902439"
      ],
      "text/plain": [
       "[1] 95986.54"
      ]
     },
     "metadata": {},
     "output_type": "display_data"
    }
   ],
   "source": [
    "library(dplyr)\n",
    "\n",
    "ess2018 <- ess2018 %>%\n",
    "    mutate(grspnum = na_if(grspnum, 9999999))\n",
    "\n",
    "mean(ess2018$grspnum, na.rm = TRUE)"
   ]
  },
  {
   "cell_type": "markdown",
   "metadata": {
    "slideshow": {
     "slide_type": "slide"
    },
    "tags": []
   },
   "source": [
    "## Common error 3: Data uses a different decimal point\n",
    "\n",
    "R assumes that periods (\".\") are used as the decimal point in the data. This is however not standard in all countries (some countries use commas). \n",
    "\n",
    "Because R usually does not recognize commas as decimal points, R will instead treat vectors with commas as a character class (string).\n",
    "\n",
    "The variable `inwtm` contains the length of the interview in minutes which should be numeric. It is however currently not possible to perform arithmetic operations on it:"
   ]
  },
  {
   "cell_type": "code",
   "execution_count": 9,
   "metadata": {
    "slideshow": {
     "slide_type": "slide"
    },
    "tags": []
   },
   "outputs": [
    {
     "name": "stderr",
     "output_type": "stream",
     "text": [
      "Warning message in mean.default(ess2018$inwtm, na.rm = TRUE):\n",
      "\"argument is not numeric or logical: returning NA\""
     ]
    },
    {
     "data": {
      "text/html": [
       "&lt;NA&gt;"
      ],
      "text/latex": [
       "<NA>"
      ],
      "text/markdown": [
       "&lt;NA&gt;"
      ],
      "text/plain": [
       "[1] NA"
      ]
     },
     "metadata": {},
     "output_type": "display_data"
    }
   ],
   "source": [
    "mean(ess2018$inwtm, na.rm = TRUE)"
   ]
  },
  {
   "cell_type": "markdown",
   "metadata": {
    "slideshow": {
     "slide_type": "fragment"
    },
    "tags": []
   },
   "source": [
    "The code above produces an error because the variable/vector is the wrong class:"
   ]
  },
  {
   "cell_type": "code",
   "execution_count": 10,
   "metadata": {
    "slideshow": {
     "slide_type": "fragment"
    },
    "tags": []
   },
   "outputs": [
    {
     "data": {
      "text/html": [
       "'character'"
      ],
      "text/latex": [
       "'character'"
      ],
      "text/markdown": [
       "'character'"
      ],
      "text/plain": [
       "[1] \"character\""
      ]
     },
     "metadata": {},
     "output_type": "display_data"
    },
    {
     "data": {
      "text/html": [
       "<ol class=list-inline>\n",
       "\t<li>'119,0'</li>\n",
       "\t<li>'55,0'</li>\n",
       "\t<li>'37,0'</li>\n",
       "\t<li>'43,0'</li>\n",
       "\t<li>'62,0'</li>\n",
       "\t<li>'61,0'</li>\n",
       "</ol>\n"
      ],
      "text/latex": [
       "\\begin{enumerate*}\n",
       "\\item '119,0'\n",
       "\\item '55,0'\n",
       "\\item '37,0'\n",
       "\\item '43,0'\n",
       "\\item '62,0'\n",
       "\\item '61,0'\n",
       "\\end{enumerate*}\n"
      ],
      "text/markdown": [
       "1. '119,0'\n",
       "2. '55,0'\n",
       "3. '37,0'\n",
       "4. '43,0'\n",
       "5. '62,0'\n",
       "6. '61,0'\n",
       "\n",
       "\n"
      ],
      "text/plain": [
       "[1] \"119,0\" \"55,0\"  \"37,0\"  \"43,0\"  \"62,0\"  \"61,0\" "
      ]
     },
     "metadata": {},
     "output_type": "display_data"
    }
   ],
   "source": [
    "class(ess2018$inwtm)\n",
    "head(ess2018$inwtm)"
   ]
  },
  {
   "cell_type": "markdown",
   "metadata": {
    "slideshow": {
     "slide_type": "slide"
    },
    "tags": []
   },
   "source": [
    "If we simply try to coerce the class, R will convert them all to missing values:"
   ]
  },
  {
   "cell_type": "code",
   "execution_count": 11,
   "metadata": {
    "slideshow": {
     "slide_type": "fragment"
    },
    "tags": []
   },
   "outputs": [
    {
     "name": "stderr",
     "output_type": "stream",
     "text": [
      "Warning message in head(as.numeric(ess2018$inwtm)):\n",
      "\"NAs introduced by coercion\""
     ]
    },
    {
     "data": {
      "text/html": [
       "<ol class=list-inline>\n",
       "\t<li>&lt;NA&gt;</li>\n",
       "\t<li>&lt;NA&gt;</li>\n",
       "\t<li>&lt;NA&gt;</li>\n",
       "\t<li>&lt;NA&gt;</li>\n",
       "\t<li>&lt;NA&gt;</li>\n",
       "\t<li>&lt;NA&gt;</li>\n",
       "</ol>\n"
      ],
      "text/latex": [
       "\\begin{enumerate*}\n",
       "\\item <NA>\n",
       "\\item <NA>\n",
       "\\item <NA>\n",
       "\\item <NA>\n",
       "\\item <NA>\n",
       "\\item <NA>\n",
       "\\end{enumerate*}\n"
      ],
      "text/markdown": [
       "1. &lt;NA&gt;\n",
       "2. &lt;NA&gt;\n",
       "3. &lt;NA&gt;\n",
       "4. &lt;NA&gt;\n",
       "5. &lt;NA&gt;\n",
       "6. &lt;NA&gt;\n",
       "\n",
       "\n"
      ],
      "text/plain": [
       "[1] NA NA NA NA NA NA"
      ]
     },
     "metadata": {},
     "output_type": "display_data"
    }
   ],
   "source": [
    "head(as.numeric(ess2018$inwtm))"
   ]
  },
  {
   "cell_type": "markdown",
   "metadata": {
    "slideshow": {
     "slide_type": "slide"
    },
    "tags": []
   },
   "source": [
    "This error can either be fixed by correcting the data before importing. Alternatively, the commas can be replaced with periods in R and then make the coercion.\n",
    "\n",
    "In the code below, the function `str_replace()` from the package `stringr` is used to replace the commas with periods (`gsub()` also works):"
   ]
  },
  {
   "cell_type": "code",
   "execution_count": 12,
   "metadata": {
    "slideshow": {
     "slide_type": "fragment"
    },
    "tags": []
   },
   "outputs": [
    {
     "name": "stderr",
     "output_type": "stream",
     "text": [
      "Warning message in eval(expr, envir, enclos):\n",
      "\"NAs introduced by coercion\""
     ]
    },
    {
     "data": {
      "text/html": [
       "62.6768837803321"
      ],
      "text/latex": [
       "62.6768837803321"
      ],
      "text/markdown": [
       "62.6768837803321"
      ],
      "text/plain": [
       "[1] 62.67688"
      ]
     },
     "metadata": {},
     "output_type": "display_data"
    }
   ],
   "source": [
    "library(stringr)\n",
    "# Using base R recoding\n",
    "\n",
    "ess2018$inwtm <- str_replace(ess2018$inwtm, \",\", \".\") # Replace commas with periods\n",
    "ess2018$inwtm <- as.numeric(ess2018$inwtm) # Coerce to numeric class\n",
    "\n",
    "mean(ess2018$inwtm, na.rm = TRUE)"
   ]
  },
  {
   "cell_type": "markdown",
   "metadata": {
    "slideshow": {
     "slide_type": "slide"
    },
    "tags": []
   },
   "source": [
    "## EXERCISE 1: COMMON ERRORS\n",
    "\n",
    "- Load the data \"ESS2018DK_subset_with-errors.csv\" if you have not already. Make sure it is imported using the correct delimiter.\n",
    "    - Link: https://raw.githubusercontent.com/CALDISS-AAU/workshop_r-extended-intro/master/data/ESS2018DK_subset_with-errors.csv\n",
    "\n",
    "\n",
    "- The variable `frlgrsp` contains what level of weekly/monthly/annual gross pay the respondent feel is fair for them. Try calculating the mean of the variable. The variable may contain high values to denote missing values so be sure to recode these first.\n",
    "\n",
    "- The variable `netustm` contains how much time the respondent spends on the internet on a typical day (in minutes). Try calculating the mean time the repondent spends on the internet on a typical day. If you encounter errors, try correcting them and calculaing the mean again."
   ]
  },
  {
   "cell_type": "markdown",
   "metadata": {
    "slideshow": {
     "slide_type": "slide"
    },
    "tags": []
   },
   "source": [
    "# Recoding categories in R\n",
    "\n",
    "We have previously seen how variables can be created or recoded from existing variables using arithetic operations (for example `df$newvar <- df$oldvar^2`).\n",
    "\n",
    "Data often contains categorical data which may have to be recoded as well. Often categories are stored as strings. Changing the content of the category name or combining categories thus requires one to replace the text with something else."
   ]
  },
  {
   "cell_type": "markdown",
   "metadata": {
    "slideshow": {
     "slide_type": "slide"
    },
    "tags": []
   },
   "source": [
    "## Recoding categories with base R\n",
    "\n",
    "It is possible to recode categories with base R operations. Recoding is done by basically pin-pointing the values that needs to be replaced and then replacing those values with the new category.\n",
    "\n",
    "In the example below, a variable is created indicating the level of educational attainment recoded to ISCED ([International Standard Classification of Education](https://ec.europa.eu/eurostat/statistics-explained/index.php?title=International_Standard_Classification_of_Education_(ISCED)#Implementation_of_ISCED_2011_.28levels_of_education.29)).\n",
    "\n",
    "The values are recoded using the following schema:\n",
    "\n",
    "|edlvddk| ISCED|\n",
    "|----|----|\n",
    "|Folkeskole 6.-8. klasse |      1  |\n",
    "|               Folkeskole 9.-10. klasse |       2|\n",
    "|Gymnasielle uddannelser, studentereksamen, HF, HHX, HTX |   3|\n",
    "|Kort erhvervsuddannelse under 1-2 års varighed, F.eks. AMU Arbejdsmarkedsuddann |   3  |\n",
    "|Faglig uddannelse (håndværk, handel, landbrug mv.), F.eks. Faglærte, Social- |   3|\n",
    "|Kort videregående uddannelse af op til 2-3 års varighed, F.eks. Erhvervsakadem  |   5|\n",
    "|Mellemlang videregående uddannelse af 3-4 års varighed. Professionsbachelorer, |   6|\n",
    "|Universitetsbachelor. 1. del af kandidatuddannelse |   6|\n",
    "|Lang videregående uddannelse. Kandidatuddannelser af 5.-6. års varighed, F.eks |   7|\n",
    "|                              Licentiat |   7     |\n",
    "|       Forskeruddannelse. Ph.d., doktor |   8|\n",
    "|                                  Other |   NA|\n"
   ]
  },
  {
   "cell_type": "code",
   "execution_count": 13,
   "metadata": {
    "slideshow": {
     "slide_type": "slide"
    },
    "tags": []
   },
   "outputs": [
    {
     "name": "stderr",
     "output_type": "stream",
     "text": [
      "Parsed with column specification:\n",
      "cols(\n",
      "  idno = col_double(),\n",
      "  netustm = col_double(),\n",
      "  ppltrst = col_double(),\n",
      "  vote = col_character(),\n",
      "  prtvtddk = col_character(),\n",
      "  lvpntyr = col_character(),\n",
      "  tygrtr = col_character(),\n",
      "  gndr = col_character(),\n",
      "  yrbrn = col_double(),\n",
      "  edlvddk = col_character(),\n",
      "  eduyrs = col_double(),\n",
      "  wkhct = col_double(),\n",
      "  wkhtot = col_double(),\n",
      "  grspnum = col_double(),\n",
      "  frlgrsp = col_double(),\n",
      "  inwtm = col_double()\n",
      ")\n"
     ]
    },
    {
     "data": {
      "text/html": [
       "<table>\n",
       "<thead><tr><th scope=col>idno</th><th scope=col>netustm</th><th scope=col>ppltrst</th><th scope=col>vote</th><th scope=col>prtvtddk</th><th scope=col>lvpntyr</th><th scope=col>tygrtr</th><th scope=col>gndr</th><th scope=col>yrbrn</th><th scope=col>edlvddk</th><th scope=col>eduyrs</th><th scope=col>wkhct</th><th scope=col>wkhtot</th><th scope=col>grspnum</th><th scope=col>frlgrsp</th><th scope=col>inwtm</th></tr></thead>\n",
       "<tbody>\n",
       "\t<tr><td> 110                                                                          </td><td>180                                                                           </td><td>8                                                                             </td><td>Yes                                                                           </td><td>Socialdemokratiet - The Social democrats                                      </td><td>1968                                                                          </td><td>Never too young                                                               </td><td>Male                                                                          </td><td>1949                                                                          </td><td>Kort videregående uddannelse af op til 2-3 års varighed, F.eks. Erhvervsakadem</td><td> 9                                                                            </td><td>28                                                                            </td><td>28                                                                            </td><td>   NA                                                                         </td><td>   NA                                                                         </td><td>119                                                                           </td></tr>\n",
       "\t<tr><td> 705                                                                          </td><td> 60                                                                           </td><td>5                                                                             </td><td>Yes                                                                           </td><td>Det Konservative Folkeparti - Conservative People's Party                     </td><td>1976                                                                          </td><td>67                                                                            </td><td>Male                                                                          </td><td>1958                                                                          </td><td>Kort videregående uddannelse af op til 2-3 års varighed, F.eks. Erhvervsakadem</td><td>22                                                                            </td><td>37                                                                            </td><td>45                                                                            </td><td>   NA                                                                         </td><td>   NA                                                                         </td><td> 55                                                                           </td></tr>\n",
       "\t<tr><td>1327                                                                          </td><td>240                                                                           </td><td>5                                                                             </td><td>NA                                                                            </td><td>NA                                                                            </td><td>Still in parental home, never left 2 months                                   </td><td>NA                                                                            </td><td>Male                                                                          </td><td>2000                                                                          </td><td>Folkeskole 9.-10. klasse                                                      </td><td>11                                                                            </td><td>37                                                                            </td><td>37                                                                            </td><td>   NA                                                                         </td><td>   NA                                                                         </td><td> 37                                                                           </td></tr>\n",
       "\t<tr><td>3760                                                                          </td><td>300                                                                           </td><td>7                                                                             </td><td>Not eligible to vote                                                          </td><td>NA                                                                            </td><td>Still in parental home, never left 2 months                                   </td><td>40                                                                            </td><td>Male                                                                          </td><td>2002                                                                          </td><td>Folkeskole 9.-10. klasse                                                      </td><td> 9                                                                            </td><td> 2                                                                            </td><td> 2                                                                            </td><td>  200                                                                         </td><td>   NA                                                                         </td><td> 43                                                                           </td></tr>\n",
       "\t<tr><td>4658                                                                          </td><td> 90                                                                           </td><td>8                                                                             </td><td>Yes                                                                           </td><td>NA                                                                            </td><td>1974                                                                          </td><td>50                                                                            </td><td>Female                                                                        </td><td>1956                                                                          </td><td>Kort videregående uddannelse af op til 2-3 års varighed, F.eks. Erhvervsakadem</td><td> 4                                                                            </td><td>30                                                                            </td><td>30                                                                            </td><td>   NA                                                                         </td><td>   NA                                                                         </td><td> 62                                                                           </td></tr>\n",
       "\t<tr><td>5816                                                                          </td><td> 90                                                                           </td><td>7                                                                             </td><td>Yes                                                                           </td><td>SF Socialistisk Folkeparti - Socialist People's Party                         </td><td>1994                                                                          </td><td>60                                                                            </td><td>Male                                                                          </td><td>1974                                                                          </td><td>Mellemlang videregående uddannelse af 3-4 års varighed. Professionsbachelorer,</td><td>35                                                                            </td><td>37                                                                            </td><td>37                                                                            </td><td>37000                                                                         </td><td>35000                                                                         </td><td> 61                                                                           </td></tr>\n",
       "</tbody>\n",
       "</table>\n"
      ],
      "text/latex": [
       "\\begin{tabular}{r|llllllllllllllll}\n",
       " idno & netustm & ppltrst & vote & prtvtddk & lvpntyr & tygrtr & gndr & yrbrn & edlvddk & eduyrs & wkhct & wkhtot & grspnum & frlgrsp & inwtm\\\\\n",
       "\\hline\n",
       "\t  110                                                                           & 180                                                                            & 8                                                                              & Yes                                                                            & Socialdemokratiet - The Social democrats                                       & 1968                                                                           & Never too young                                                                & Male                                                                           & 1949                                                                           & Kort videregående uddannelse af op til 2-3 års varighed, F.eks. Erhvervsakadem &  9                                                                             & 28                                                                             & 28                                                                             &    NA                                                                          &    NA                                                                          & 119                                                                           \\\\\n",
       "\t  705                                                                           &  60                                                                            & 5                                                                              & Yes                                                                            & Det Konservative Folkeparti - Conservative People's Party                      & 1976                                                                           & 67                                                                             & Male                                                                           & 1958                                                                           & Kort videregående uddannelse af op til 2-3 års varighed, F.eks. Erhvervsakadem & 22                                                                             & 37                                                                             & 45                                                                             &    NA                                                                          &    NA                                                                          &  55                                                                           \\\\\n",
       "\t 1327                                                                           & 240                                                                            & 5                                                                              & NA                                                                             & NA                                                                             & Still in parental home, never left 2 months                                    & NA                                                                             & Male                                                                           & 2000                                                                           & Folkeskole 9.-10. klasse                                                       & 11                                                                             & 37                                                                             & 37                                                                             &    NA                                                                          &    NA                                                                          &  37                                                                           \\\\\n",
       "\t 3760                                                                           & 300                                                                            & 7                                                                              & Not eligible to vote                                                           & NA                                                                             & Still in parental home, never left 2 months                                    & 40                                                                             & Male                                                                           & 2002                                                                           & Folkeskole 9.-10. klasse                                                       &  9                                                                             &  2                                                                             &  2                                                                             &   200                                                                          &    NA                                                                          &  43                                                                           \\\\\n",
       "\t 4658                                                                           &  90                                                                            & 8                                                                              & Yes                                                                            & NA                                                                             & 1974                                                                           & 50                                                                             & Female                                                                         & 1956                                                                           & Kort videregående uddannelse af op til 2-3 års varighed, F.eks. Erhvervsakadem &  4                                                                             & 30                                                                             & 30                                                                             &    NA                                                                          &    NA                                                                          &  62                                                                           \\\\\n",
       "\t 5816                                                                           &  90                                                                            & 7                                                                              & Yes                                                                            & SF Socialistisk Folkeparti - Socialist People's Party                          & 1994                                                                           & 60                                                                             & Male                                                                           & 1974                                                                           & Mellemlang videregående uddannelse af 3-4 års varighed. Professionsbachelorer, & 35                                                                             & 37                                                                             & 37                                                                             & 37000                                                                          & 35000                                                                          &  61                                                                           \\\\\n",
       "\\end{tabular}\n"
      ],
      "text/markdown": [
       "\n",
       "| idno | netustm | ppltrst | vote | prtvtddk | lvpntyr | tygrtr | gndr | yrbrn | edlvddk | eduyrs | wkhct | wkhtot | grspnum | frlgrsp | inwtm |\n",
       "|---|---|---|---|---|---|---|---|---|---|---|---|---|---|---|---|\n",
       "|  110                                                                           | 180                                                                            | 8                                                                              | Yes                                                                            | Socialdemokratiet - The Social democrats                                       | 1968                                                                           | Never too young                                                                | Male                                                                           | 1949                                                                           | Kort videregående uddannelse af op til 2-3 års varighed, F.eks. Erhvervsakadem |  9                                                                             | 28                                                                             | 28                                                                             |    NA                                                                          |    NA                                                                          | 119                                                                            |\n",
       "|  705                                                                           |  60                                                                            | 5                                                                              | Yes                                                                            | Det Konservative Folkeparti - Conservative People's Party                      | 1976                                                                           | 67                                                                             | Male                                                                           | 1958                                                                           | Kort videregående uddannelse af op til 2-3 års varighed, F.eks. Erhvervsakadem | 22                                                                             | 37                                                                             | 45                                                                             |    NA                                                                          |    NA                                                                          |  55                                                                            |\n",
       "| 1327                                                                           | 240                                                                            | 5                                                                              | NA                                                                             | NA                                                                             | Still in parental home, never left 2 months                                    | NA                                                                             | Male                                                                           | 2000                                                                           | Folkeskole 9.-10. klasse                                                       | 11                                                                             | 37                                                                             | 37                                                                             |    NA                                                                          |    NA                                                                          |  37                                                                            |\n",
       "| 3760                                                                           | 300                                                                            | 7                                                                              | Not eligible to vote                                                           | NA                                                                             | Still in parental home, never left 2 months                                    | 40                                                                             | Male                                                                           | 2002                                                                           | Folkeskole 9.-10. klasse                                                       |  9                                                                             |  2                                                                             |  2                                                                             |   200                                                                          |    NA                                                                          |  43                                                                            |\n",
       "| 4658                                                                           |  90                                                                            | 8                                                                              | Yes                                                                            | NA                                                                             | 1974                                                                           | 50                                                                             | Female                                                                         | 1956                                                                           | Kort videregående uddannelse af op til 2-3 års varighed, F.eks. Erhvervsakadem |  4                                                                             | 30                                                                             | 30                                                                             |    NA                                                                          |    NA                                                                          |  62                                                                            |\n",
       "| 5816                                                                           |  90                                                                            | 7                                                                              | Yes                                                                            | SF Socialistisk Folkeparti - Socialist People's Party                          | 1994                                                                           | 60                                                                             | Male                                                                           | 1974                                                                           | Mellemlang videregående uddannelse af 3-4 års varighed. Professionsbachelorer, | 35                                                                             | 37                                                                             | 37                                                                             | 37000                                                                          | 35000                                                                          |  61                                                                            |\n",
       "\n"
      ],
      "text/plain": [
       "  idno netustm ppltrst vote                \n",
       "1  110 180     8       Yes                 \n",
       "2  705  60     5       Yes                 \n",
       "3 1327 240     5       NA                  \n",
       "4 3760 300     7       Not eligible to vote\n",
       "5 4658  90     8       Yes                 \n",
       "6 5816  90     7       Yes                 \n",
       "  prtvtddk                                                 \n",
       "1 Socialdemokratiet - The Social democrats                 \n",
       "2 Det Konservative Folkeparti - Conservative People's Party\n",
       "3 NA                                                       \n",
       "4 NA                                                       \n",
       "5 NA                                                       \n",
       "6 SF Socialistisk Folkeparti - Socialist People's Party    \n",
       "  lvpntyr                                     tygrtr          gndr   yrbrn\n",
       "1 1968                                        Never too young Male   1949 \n",
       "2 1976                                        67              Male   1958 \n",
       "3 Still in parental home, never left 2 months NA              Male   2000 \n",
       "4 Still in parental home, never left 2 months 40              Male   2002 \n",
       "5 1974                                        50              Female 1956 \n",
       "6 1994                                        60              Male   1974 \n",
       "  edlvddk                                                                       \n",
       "1 Kort videregående uddannelse af op til 2-3 års varighed, F.eks. Erhvervsakadem\n",
       "2 Kort videregående uddannelse af op til 2-3 års varighed, F.eks. Erhvervsakadem\n",
       "3 Folkeskole 9.-10. klasse                                                      \n",
       "4 Folkeskole 9.-10. klasse                                                      \n",
       "5 Kort videregående uddannelse af op til 2-3 års varighed, F.eks. Erhvervsakadem\n",
       "6 Mellemlang videregående uddannelse af 3-4 års varighed. Professionsbachelorer,\n",
       "  eduyrs wkhct wkhtot grspnum frlgrsp inwtm\n",
       "1  9     28    28        NA      NA   119  \n",
       "2 22     37    45        NA      NA    55  \n",
       "3 11     37    37        NA      NA    37  \n",
       "4  9      2     2       200      NA    43  \n",
       "5  4     30    30        NA      NA    62  \n",
       "6 35     37    37     37000   35000    61  "
      ]
     },
     "metadata": {},
     "output_type": "display_data"
    }
   ],
   "source": [
    "# Read in the data\n",
    "\n",
    "library(readr)\n",
    "\n",
    "data <- read_csv(\"https://github.com/CALDISS-AAU/workshop_R-intro/raw/master/data/ESS2018DK_subset.csv\")\n",
    "head(data)"
   ]
  },
  {
   "cell_type": "code",
   "execution_count": 14,
   "metadata": {
    "slideshow": {
     "slide_type": "subslide"
    },
    "tags": []
   },
   "outputs": [],
   "source": [
    "# Create new empty variable (all values as missing)\n",
    "\n",
    "data$edlvisced <- NA\n",
    "\n",
    "# Specify values to replace and replace with ISCED\n",
    "\n",
    "data[which(data$edlvddk == \"Folkeskole 6.-8. klasse\"), \"edlvisced\"] <- 1\n",
    "data[which(data$edlvddk == \"Folkeskole 9.-10. klasse\"), \"edlvisced\"] <- 2\n",
    "data[which(data$edlvddk == \"Gymnasielle uddannelser, studentereksamen, HF, HHX, HTX\"), \"edlvisced\"] <- 3\n",
    "data[which(data$edlvddk == \"Kort erhvervsuddannelse under 1-2 års varighed, F.eks. AMU Arbejdsmarkedsuddann\"), \"edlvisced\"] <- 3\n",
    "data[which(data$edlvddk == \"Faglig uddannelse (håndværk, handel, landbrug mv.), F.eks. Faglærte, Social-\"), \"edlvisced\"] <- 3\n",
    "data[which(data$edlvddk == \"Kort videregående uddannelse af op til 2-3 års varighed, F.eks. Erhvervsakadem\"), \"edlvisced\"] <- 5\n",
    "data[which(data$edlvddk == \"Mellemlang videregående uddannelse af 3-4 års varighed. Professionsbachelorer,\"), \"edlvisced\"] <- 6\n",
    "data[which(data$edlvddk == \"Universitetsbachelor. 1. del af kandidatuddannelse\"), \"edlvisced\"] <- 6\n",
    "data[which(data$edlvddk == \"Lang videregående uddannelse. Kandidatuddannelser af 5.-6. års varighed, F.eks\"), \"edlvisced\"] <- 7\n",
    "data[which(data$edlvddk == \"Licentiat\"), \"edlvisced\"] <- 7\n",
    "data[which(data$edlvddk == \"Forskeruddannelse. Ph.d., doktor\"), \"edlvisced\"] <- 8\n",
    "data[which(data$edlvddk == \"Other\"), \"edlvisced\"] <- NA"
   ]
  },
  {
   "cell_type": "code",
   "execution_count": 15,
   "metadata": {
    "slideshow": {
     "slide_type": "subslide"
    },
    "tags": []
   },
   "outputs": [
    {
     "data": {
      "text/html": [
       "<table>\n",
       "<thead><tr><th scope=col>edlvddk</th><th scope=col>edlvisced</th></tr></thead>\n",
       "<tbody>\n",
       "\t<tr><td>Kort videregående uddannelse af op til 2-3 års varighed, F.eks. Erhvervsakadem</td><td>5                                                                             </td></tr>\n",
       "\t<tr><td>Kort videregående uddannelse af op til 2-3 års varighed, F.eks. Erhvervsakadem</td><td>5                                                                             </td></tr>\n",
       "\t<tr><td>Folkeskole 9.-10. klasse                                                      </td><td>2                                                                             </td></tr>\n",
       "\t<tr><td>Folkeskole 9.-10. klasse                                                      </td><td>2                                                                             </td></tr>\n",
       "\t<tr><td>Kort videregående uddannelse af op til 2-3 års varighed, F.eks. Erhvervsakadem</td><td>5                                                                             </td></tr>\n",
       "\t<tr><td>Mellemlang videregående uddannelse af 3-4 års varighed. Professionsbachelorer,</td><td>6                                                                             </td></tr>\n",
       "</tbody>\n",
       "</table>\n"
      ],
      "text/latex": [
       "\\begin{tabular}{r|ll}\n",
       " edlvddk & edlvisced\\\\\n",
       "\\hline\n",
       "\t Kort videregående uddannelse af op til 2-3 års varighed, F.eks. Erhvervsakadem & 5                                                                             \\\\\n",
       "\t Kort videregående uddannelse af op til 2-3 års varighed, F.eks. Erhvervsakadem & 5                                                                             \\\\\n",
       "\t Folkeskole 9.-10. klasse                                                       & 2                                                                             \\\\\n",
       "\t Folkeskole 9.-10. klasse                                                       & 2                                                                             \\\\\n",
       "\t Kort videregående uddannelse af op til 2-3 års varighed, F.eks. Erhvervsakadem & 5                                                                             \\\\\n",
       "\t Mellemlang videregående uddannelse af 3-4 års varighed. Professionsbachelorer, & 6                                                                             \\\\\n",
       "\\end{tabular}\n"
      ],
      "text/markdown": [
       "\n",
       "| edlvddk | edlvisced |\n",
       "|---|---|\n",
       "| Kort videregående uddannelse af op til 2-3 års varighed, F.eks. Erhvervsakadem | 5                                                                              |\n",
       "| Kort videregående uddannelse af op til 2-3 års varighed, F.eks. Erhvervsakadem | 5                                                                              |\n",
       "| Folkeskole 9.-10. klasse                                                       | 2                                                                              |\n",
       "| Folkeskole 9.-10. klasse                                                       | 2                                                                              |\n",
       "| Kort videregående uddannelse af op til 2-3 års varighed, F.eks. Erhvervsakadem | 5                                                                              |\n",
       "| Mellemlang videregående uddannelse af 3-4 års varighed. Professionsbachelorer, | 6                                                                              |\n",
       "\n"
      ],
      "text/plain": [
       "  edlvddk                                                                       \n",
       "1 Kort videregående uddannelse af op til 2-3 års varighed, F.eks. Erhvervsakadem\n",
       "2 Kort videregående uddannelse af op til 2-3 års varighed, F.eks. Erhvervsakadem\n",
       "3 Folkeskole 9.-10. klasse                                                      \n",
       "4 Folkeskole 9.-10. klasse                                                      \n",
       "5 Kort videregående uddannelse af op til 2-3 års varighed, F.eks. Erhvervsakadem\n",
       "6 Mellemlang videregående uddannelse af 3-4 års varighed. Professionsbachelorer,\n",
       "  edlvisced\n",
       "1 5        \n",
       "2 5        \n",
       "3 2        \n",
       "4 2        \n",
       "5 5        \n",
       "6 6        "
      ]
     },
     "metadata": {},
     "output_type": "display_data"
    }
   ],
   "source": [
    "head(data[, c('edlvddk', 'edlvisced')])"
   ]
  },
  {
   "cell_type": "markdown",
   "metadata": {
    "slideshow": {
     "slide_type": "slide"
    },
    "tags": []
   },
   "source": [
    "## Recoding categories with dplyr \n",
    "\n",
    "`dplyr` offers functions for recoding. There are three main functions:\n",
    "- `recode`: For recoding single values\n",
    "- `if_else`: For recoding based on logical\n",
    "- `case_when`: For recoding based on several logicals\n",
    "\n",
    "All these have to be combined with `mutate`."
   ]
  },
  {
   "cell_type": "code",
   "execution_count": 16,
   "metadata": {
    "slideshow": {
     "slide_type": "slide"
    },
    "tags": []
   },
   "outputs": [
    {
     "name": "stderr",
     "output_type": "stream",
     "text": [
      "Parsed with column specification:\n",
      "cols(\n",
      "  idno = col_double(),\n",
      "  netustm = col_double(),\n",
      "  ppltrst = col_double(),\n",
      "  vote = col_character(),\n",
      "  prtvtddk = col_character(),\n",
      "  lvpntyr = col_character(),\n",
      "  tygrtr = col_character(),\n",
      "  gndr = col_character(),\n",
      "  yrbrn = col_double(),\n",
      "  edlvddk = col_character(),\n",
      "  eduyrs = col_double(),\n",
      "  wkhct = col_double(),\n",
      "  wkhtot = col_double(),\n",
      "  grspnum = col_double(),\n",
      "  frlgrsp = col_double(),\n",
      "  inwtm = col_double()\n",
      ")\n"
     ]
    }
   ],
   "source": [
    "# Read in the data\n",
    "\n",
    "library(readr)\n",
    "library(dplyr)\n",
    "\n",
    "data <- read_csv(\"https://github.com/CALDISS-AAU/workshop_R-intro/raw/master/data/ESS2018DK_subset.csv\")"
   ]
  },
  {
   "cell_type": "code",
   "execution_count": 17,
   "metadata": {
    "slideshow": {
     "slide_type": "subslide"
    },
    "tags": []
   },
   "outputs": [
    {
     "data": {
      "text/html": [
       "<table>\n",
       "<thead><tr><th scope=col>idno</th><th scope=col>netustm</th><th scope=col>ppltrst</th><th scope=col>vote</th><th scope=col>prtvtddk</th><th scope=col>lvpntyr</th><th scope=col>tygrtr</th><th scope=col>gndr</th><th scope=col>yrbrn</th><th scope=col>edlvddk</th><th scope=col>eduyrs</th><th scope=col>wkhct</th><th scope=col>wkhtot</th><th scope=col>grspnum</th><th scope=col>frlgrsp</th><th scope=col>inwtm</th><th scope=col>edlvisced</th></tr></thead>\n",
       "<tbody>\n",
       "\t<tr><td> 110                                                                          </td><td>180                                                                           </td><td>8                                                                             </td><td>Yes                                                                           </td><td>Socialdemokratiet - The Social democrats                                      </td><td>1968                                                                          </td><td>Never too young                                                               </td><td>Male                                                                          </td><td>1949                                                                          </td><td>Kort videregående uddannelse af op til 2-3 års varighed, F.eks. Erhvervsakadem</td><td> 9                                                                            </td><td>28                                                                            </td><td>28                                                                            </td><td>   NA                                                                         </td><td>   NA                                                                         </td><td>119                                                                           </td><td>Kort videregående uddannelse af op til 2-3 års varighed, F.eks. Erhvervsakadem</td></tr>\n",
       "\t<tr><td> 705                                                                          </td><td> 60                                                                           </td><td>5                                                                             </td><td>Yes                                                                           </td><td>Det Konservative Folkeparti - Conservative People's Party                     </td><td>1976                                                                          </td><td>67                                                                            </td><td>Male                                                                          </td><td>1958                                                                          </td><td>Kort videregående uddannelse af op til 2-3 års varighed, F.eks. Erhvervsakadem</td><td>22                                                                            </td><td>37                                                                            </td><td>45                                                                            </td><td>   NA                                                                         </td><td>   NA                                                                         </td><td> 55                                                                           </td><td>Kort videregående uddannelse af op til 2-3 års varighed, F.eks. Erhvervsakadem</td></tr>\n",
       "\t<tr><td>1327                                                                          </td><td>240                                                                           </td><td>5                                                                             </td><td>NA                                                                            </td><td>NA                                                                            </td><td>Still in parental home, never left 2 months                                   </td><td>NA                                                                            </td><td>Male                                                                          </td><td>2000                                                                          </td><td>Folkeskole 9.-10. klasse                                                      </td><td>11                                                                            </td><td>37                                                                            </td><td>37                                                                            </td><td>   NA                                                                         </td><td>   NA                                                                         </td><td> 37                                                                           </td><td>Lower secondary education                                                     </td></tr>\n",
       "\t<tr><td>3760                                                                          </td><td>300                                                                           </td><td>7                                                                             </td><td>Not eligible to vote                                                          </td><td>NA                                                                            </td><td>Still in parental home, never left 2 months                                   </td><td>40                                                                            </td><td>Male                                                                          </td><td>2002                                                                          </td><td>Folkeskole 9.-10. klasse                                                      </td><td> 9                                                                            </td><td> 2                                                                            </td><td> 2                                                                            </td><td>  200                                                                         </td><td>   NA                                                                         </td><td> 43                                                                           </td><td>Lower secondary education                                                     </td></tr>\n",
       "\t<tr><td>4658                                                                          </td><td> 90                                                                           </td><td>8                                                                             </td><td>Yes                                                                           </td><td>NA                                                                            </td><td>1974                                                                          </td><td>50                                                                            </td><td>Female                                                                        </td><td>1956                                                                          </td><td>Kort videregående uddannelse af op til 2-3 års varighed, F.eks. Erhvervsakadem</td><td> 4                                                                            </td><td>30                                                                            </td><td>30                                                                            </td><td>   NA                                                                         </td><td>   NA                                                                         </td><td> 62                                                                           </td><td>Kort videregående uddannelse af op til 2-3 års varighed, F.eks. Erhvervsakadem</td></tr>\n",
       "\t<tr><td>5816                                                                          </td><td> 90                                                                           </td><td>7                                                                             </td><td>Yes                                                                           </td><td>SF Socialistisk Folkeparti - Socialist People's Party                         </td><td>1994                                                                          </td><td>60                                                                            </td><td>Male                                                                          </td><td>1974                                                                          </td><td>Mellemlang videregående uddannelse af 3-4 års varighed. Professionsbachelorer,</td><td>35                                                                            </td><td>37                                                                            </td><td>37                                                                            </td><td>37000                                                                         </td><td>35000                                                                         </td><td> 61                                                                           </td><td>Mellemlang videregående uddannelse af 3-4 års varighed. Professionsbachelorer,</td></tr>\n",
       "</tbody>\n",
       "</table>\n"
      ],
      "text/latex": [
       "\\begin{tabular}{r|lllllllllllllllll}\n",
       " idno & netustm & ppltrst & vote & prtvtddk & lvpntyr & tygrtr & gndr & yrbrn & edlvddk & eduyrs & wkhct & wkhtot & grspnum & frlgrsp & inwtm & edlvisced\\\\\n",
       "\\hline\n",
       "\t  110                                                                           & 180                                                                            & 8                                                                              & Yes                                                                            & Socialdemokratiet - The Social democrats                                       & 1968                                                                           & Never too young                                                                & Male                                                                           & 1949                                                                           & Kort videregående uddannelse af op til 2-3 års varighed, F.eks. Erhvervsakadem &  9                                                                             & 28                                                                             & 28                                                                             &    NA                                                                          &    NA                                                                          & 119                                                                            & Kort videregående uddannelse af op til 2-3 års varighed, F.eks. Erhvervsakadem\\\\\n",
       "\t  705                                                                           &  60                                                                            & 5                                                                              & Yes                                                                            & Det Konservative Folkeparti - Conservative People's Party                      & 1976                                                                           & 67                                                                             & Male                                                                           & 1958                                                                           & Kort videregående uddannelse af op til 2-3 års varighed, F.eks. Erhvervsakadem & 22                                                                             & 37                                                                             & 45                                                                             &    NA                                                                          &    NA                                                                          &  55                                                                            & Kort videregående uddannelse af op til 2-3 års varighed, F.eks. Erhvervsakadem\\\\\n",
       "\t 1327                                                                           & 240                                                                            & 5                                                                              & NA                                                                             & NA                                                                             & Still in parental home, never left 2 months                                    & NA                                                                             & Male                                                                           & 2000                                                                           & Folkeskole 9.-10. klasse                                                       & 11                                                                             & 37                                                                             & 37                                                                             &    NA                                                                          &    NA                                                                          &  37                                                                            & Lower secondary education                                                     \\\\\n",
       "\t 3760                                                                           & 300                                                                            & 7                                                                              & Not eligible to vote                                                           & NA                                                                             & Still in parental home, never left 2 months                                    & 40                                                                             & Male                                                                           & 2002                                                                           & Folkeskole 9.-10. klasse                                                       &  9                                                                             &  2                                                                             &  2                                                                             &   200                                                                          &    NA                                                                          &  43                                                                            & Lower secondary education                                                     \\\\\n",
       "\t 4658                                                                           &  90                                                                            & 8                                                                              & Yes                                                                            & NA                                                                             & 1974                                                                           & 50                                                                             & Female                                                                         & 1956                                                                           & Kort videregående uddannelse af op til 2-3 års varighed, F.eks. Erhvervsakadem &  4                                                                             & 30                                                                             & 30                                                                             &    NA                                                                          &    NA                                                                          &  62                                                                            & Kort videregående uddannelse af op til 2-3 års varighed, F.eks. Erhvervsakadem\\\\\n",
       "\t 5816                                                                           &  90                                                                            & 7                                                                              & Yes                                                                            & SF Socialistisk Folkeparti - Socialist People's Party                          & 1994                                                                           & 60                                                                             & Male                                                                           & 1974                                                                           & Mellemlang videregående uddannelse af 3-4 års varighed. Professionsbachelorer, & 35                                                                             & 37                                                                             & 37                                                                             & 37000                                                                          & 35000                                                                          &  61                                                                            & Mellemlang videregående uddannelse af 3-4 års varighed. Professionsbachelorer,\\\\\n",
       "\\end{tabular}\n"
      ],
      "text/markdown": [
       "\n",
       "| idno | netustm | ppltrst | vote | prtvtddk | lvpntyr | tygrtr | gndr | yrbrn | edlvddk | eduyrs | wkhct | wkhtot | grspnum | frlgrsp | inwtm | edlvisced |\n",
       "|---|---|---|---|---|---|---|---|---|---|---|---|---|---|---|---|---|\n",
       "|  110                                                                           | 180                                                                            | 8                                                                              | Yes                                                                            | Socialdemokratiet - The Social democrats                                       | 1968                                                                           | Never too young                                                                | Male                                                                           | 1949                                                                           | Kort videregående uddannelse af op til 2-3 års varighed, F.eks. Erhvervsakadem |  9                                                                             | 28                                                                             | 28                                                                             |    NA                                                                          |    NA                                                                          | 119                                                                            | Kort videregående uddannelse af op til 2-3 års varighed, F.eks. Erhvervsakadem |\n",
       "|  705                                                                           |  60                                                                            | 5                                                                              | Yes                                                                            | Det Konservative Folkeparti - Conservative People's Party                      | 1976                                                                           | 67                                                                             | Male                                                                           | 1958                                                                           | Kort videregående uddannelse af op til 2-3 års varighed, F.eks. Erhvervsakadem | 22                                                                             | 37                                                                             | 45                                                                             |    NA                                                                          |    NA                                                                          |  55                                                                            | Kort videregående uddannelse af op til 2-3 års varighed, F.eks. Erhvervsakadem |\n",
       "| 1327                                                                           | 240                                                                            | 5                                                                              | NA                                                                             | NA                                                                             | Still in parental home, never left 2 months                                    | NA                                                                             | Male                                                                           | 2000                                                                           | Folkeskole 9.-10. klasse                                                       | 11                                                                             | 37                                                                             | 37                                                                             |    NA                                                                          |    NA                                                                          |  37                                                                            | Lower secondary education                                                      |\n",
       "| 3760                                                                           | 300                                                                            | 7                                                                              | Not eligible to vote                                                           | NA                                                                             | Still in parental home, never left 2 months                                    | 40                                                                             | Male                                                                           | 2002                                                                           | Folkeskole 9.-10. klasse                                                       |  9                                                                             |  2                                                                             |  2                                                                             |   200                                                                          |    NA                                                                          |  43                                                                            | Lower secondary education                                                      |\n",
       "| 4658                                                                           |  90                                                                            | 8                                                                              | Yes                                                                            | NA                                                                             | 1974                                                                           | 50                                                                             | Female                                                                         | 1956                                                                           | Kort videregående uddannelse af op til 2-3 års varighed, F.eks. Erhvervsakadem |  4                                                                             | 30                                                                             | 30                                                                             |    NA                                                                          |    NA                                                                          |  62                                                                            | Kort videregående uddannelse af op til 2-3 års varighed, F.eks. Erhvervsakadem |\n",
       "| 5816                                                                           |  90                                                                            | 7                                                                              | Yes                                                                            | SF Socialistisk Folkeparti - Socialist People's Party                          | 1994                                                                           | 60                                                                             | Male                                                                           | 1974                                                                           | Mellemlang videregående uddannelse af 3-4 års varighed. Professionsbachelorer, | 35                                                                             | 37                                                                             | 37                                                                             | 37000                                                                          | 35000                                                                          |  61                                                                            | Mellemlang videregående uddannelse af 3-4 års varighed. Professionsbachelorer, |\n",
       "\n"
      ],
      "text/plain": [
       "  idno netustm ppltrst vote                \n",
       "1  110 180     8       Yes                 \n",
       "2  705  60     5       Yes                 \n",
       "3 1327 240     5       NA                  \n",
       "4 3760 300     7       Not eligible to vote\n",
       "5 4658  90     8       Yes                 \n",
       "6 5816  90     7       Yes                 \n",
       "  prtvtddk                                                 \n",
       "1 Socialdemokratiet - The Social democrats                 \n",
       "2 Det Konservative Folkeparti - Conservative People's Party\n",
       "3 NA                                                       \n",
       "4 NA                                                       \n",
       "5 NA                                                       \n",
       "6 SF Socialistisk Folkeparti - Socialist People's Party    \n",
       "  lvpntyr                                     tygrtr          gndr   yrbrn\n",
       "1 1968                                        Never too young Male   1949 \n",
       "2 1976                                        67              Male   1958 \n",
       "3 Still in parental home, never left 2 months NA              Male   2000 \n",
       "4 Still in parental home, never left 2 months 40              Male   2002 \n",
       "5 1974                                        50              Female 1956 \n",
       "6 1994                                        60              Male   1974 \n",
       "  edlvddk                                                                       \n",
       "1 Kort videregående uddannelse af op til 2-3 års varighed, F.eks. Erhvervsakadem\n",
       "2 Kort videregående uddannelse af op til 2-3 års varighed, F.eks. Erhvervsakadem\n",
       "3 Folkeskole 9.-10. klasse                                                      \n",
       "4 Folkeskole 9.-10. klasse                                                      \n",
       "5 Kort videregående uddannelse af op til 2-3 års varighed, F.eks. Erhvervsakadem\n",
       "6 Mellemlang videregående uddannelse af 3-4 års varighed. Professionsbachelorer,\n",
       "  eduyrs wkhct wkhtot grspnum frlgrsp inwtm\n",
       "1  9     28    28        NA      NA   119  \n",
       "2 22     37    45        NA      NA    55  \n",
       "3 11     37    37        NA      NA    37  \n",
       "4  9      2     2       200      NA    43  \n",
       "5  4     30    30        NA      NA    62  \n",
       "6 35     37    37     37000   35000    61  \n",
       "  edlvisced                                                                     \n",
       "1 Kort videregående uddannelse af op til 2-3 års varighed, F.eks. Erhvervsakadem\n",
       "2 Kort videregående uddannelse af op til 2-3 års varighed, F.eks. Erhvervsakadem\n",
       "3 Lower secondary education                                                     \n",
       "4 Lower secondary education                                                     \n",
       "5 Kort videregående uddannelse af op til 2-3 års varighed, F.eks. Erhvervsakadem\n",
       "6 Mellemlang videregående uddannelse af 3-4 års varighed. Professionsbachelorer,"
      ]
     },
     "metadata": {},
     "output_type": "display_data"
    }
   ],
   "source": [
    "# Recoding edlvddk to two categories to ISCED (text value)\n",
    "data <- data %>%\n",
    "    mutate(edlvisced = recode(edlvddk, \"Folkeskole 6.-8. klasse\" = \"Primary education\", \"Folkeskole 9.-10. klasse\" = \"Lower secondary education\"))\n",
    "\n",
    "head(data)"
   ]
  },
  {
   "cell_type": "markdown",
   "metadata": {
    "slideshow": {
     "slide_type": "subslide"
    },
    "tags": []
   },
   "source": [
    "Using the `.default` argument, new values can be set for the values not specified."
   ]
  },
  {
   "cell_type": "code",
   "execution_count": 18,
   "metadata": {
    "slideshow": {
     "slide_type": "fragment"
    },
    "tags": []
   },
   "outputs": [
    {
     "data": {
      "text/html": [
       "<table>\n",
       "<thead><tr><th scope=col>idno</th><th scope=col>netustm</th><th scope=col>ppltrst</th><th scope=col>vote</th><th scope=col>prtvtddk</th><th scope=col>lvpntyr</th><th scope=col>tygrtr</th><th scope=col>gndr</th><th scope=col>yrbrn</th><th scope=col>edlvddk</th><th scope=col>eduyrs</th><th scope=col>wkhct</th><th scope=col>wkhtot</th><th scope=col>grspnum</th><th scope=col>frlgrsp</th><th scope=col>inwtm</th><th scope=col>edlvisced</th><th scope=col>edlvbin</th></tr></thead>\n",
       "<tbody>\n",
       "\t<tr><td> 110                                                                          </td><td>180                                                                           </td><td>8                                                                             </td><td>Yes                                                                           </td><td>Socialdemokratiet - The Social democrats                                      </td><td>1968                                                                          </td><td>Never too young                                                               </td><td>Male                                                                          </td><td>1949                                                                          </td><td>Kort videregående uddannelse af op til 2-3 års varighed, F.eks. Erhvervsakadem</td><td> 9                                                                            </td><td>28                                                                            </td><td>28                                                                            </td><td>   NA                                                                         </td><td>   NA                                                                         </td><td>119                                                                           </td><td>Kort videregående uddannelse af op til 2-3 års varighed, F.eks. Erhvervsakadem</td><td>above lower secondary                                                         </td></tr>\n",
       "\t<tr><td> 705                                                                          </td><td> 60                                                                           </td><td>5                                                                             </td><td>Yes                                                                           </td><td>Det Konservative Folkeparti - Conservative People's Party                     </td><td>1976                                                                          </td><td>67                                                                            </td><td>Male                                                                          </td><td>1958                                                                          </td><td>Kort videregående uddannelse af op til 2-3 års varighed, F.eks. Erhvervsakadem</td><td>22                                                                            </td><td>37                                                                            </td><td>45                                                                            </td><td>   NA                                                                         </td><td>   NA                                                                         </td><td> 55                                                                           </td><td>Kort videregående uddannelse af op til 2-3 års varighed, F.eks. Erhvervsakadem</td><td>above lower secondary                                                         </td></tr>\n",
       "\t<tr><td>1327                                                                          </td><td>240                                                                           </td><td>5                                                                             </td><td>NA                                                                            </td><td>NA                                                                            </td><td>Still in parental home, never left 2 months                                   </td><td>NA                                                                            </td><td>Male                                                                          </td><td>2000                                                                          </td><td>Folkeskole 9.-10. klasse                                                      </td><td>11                                                                            </td><td>37                                                                            </td><td>37                                                                            </td><td>   NA                                                                         </td><td>   NA                                                                         </td><td> 37                                                                           </td><td>Lower secondary education                                                     </td><td>lower secondary or below                                                      </td></tr>\n",
       "\t<tr><td>3760                                                                          </td><td>300                                                                           </td><td>7                                                                             </td><td>Not eligible to vote                                                          </td><td>NA                                                                            </td><td>Still in parental home, never left 2 months                                   </td><td>40                                                                            </td><td>Male                                                                          </td><td>2002                                                                          </td><td>Folkeskole 9.-10. klasse                                                      </td><td> 9                                                                            </td><td> 2                                                                            </td><td> 2                                                                            </td><td>  200                                                                         </td><td>   NA                                                                         </td><td> 43                                                                           </td><td>Lower secondary education                                                     </td><td>lower secondary or below                                                      </td></tr>\n",
       "\t<tr><td>4658                                                                          </td><td> 90                                                                           </td><td>8                                                                             </td><td>Yes                                                                           </td><td>NA                                                                            </td><td>1974                                                                          </td><td>50                                                                            </td><td>Female                                                                        </td><td>1956                                                                          </td><td>Kort videregående uddannelse af op til 2-3 års varighed, F.eks. Erhvervsakadem</td><td> 4                                                                            </td><td>30                                                                            </td><td>30                                                                            </td><td>   NA                                                                         </td><td>   NA                                                                         </td><td> 62                                                                           </td><td>Kort videregående uddannelse af op til 2-3 års varighed, F.eks. Erhvervsakadem</td><td>above lower secondary                                                         </td></tr>\n",
       "\t<tr><td>5816                                                                          </td><td> 90                                                                           </td><td>7                                                                             </td><td>Yes                                                                           </td><td>SF Socialistisk Folkeparti - Socialist People's Party                         </td><td>1994                                                                          </td><td>60                                                                            </td><td>Male                                                                          </td><td>1974                                                                          </td><td>Mellemlang videregående uddannelse af 3-4 års varighed. Professionsbachelorer,</td><td>35                                                                            </td><td>37                                                                            </td><td>37                                                                            </td><td>37000                                                                         </td><td>35000                                                                         </td><td> 61                                                                           </td><td>Mellemlang videregående uddannelse af 3-4 års varighed. Professionsbachelorer,</td><td>above lower secondary                                                         </td></tr>\n",
       "</tbody>\n",
       "</table>\n"
      ],
      "text/latex": [
       "\\begin{tabular}{r|llllllllllllllllll}\n",
       " idno & netustm & ppltrst & vote & prtvtddk & lvpntyr & tygrtr & gndr & yrbrn & edlvddk & eduyrs & wkhct & wkhtot & grspnum & frlgrsp & inwtm & edlvisced & edlvbin\\\\\n",
       "\\hline\n",
       "\t  110                                                                           & 180                                                                            & 8                                                                              & Yes                                                                            & Socialdemokratiet - The Social democrats                                       & 1968                                                                           & Never too young                                                                & Male                                                                           & 1949                                                                           & Kort videregående uddannelse af op til 2-3 års varighed, F.eks. Erhvervsakadem &  9                                                                             & 28                                                                             & 28                                                                             &    NA                                                                          &    NA                                                                          & 119                                                                            & Kort videregående uddannelse af op til 2-3 års varighed, F.eks. Erhvervsakadem & above lower secondary                                                         \\\\\n",
       "\t  705                                                                           &  60                                                                            & 5                                                                              & Yes                                                                            & Det Konservative Folkeparti - Conservative People's Party                      & 1976                                                                           & 67                                                                             & Male                                                                           & 1958                                                                           & Kort videregående uddannelse af op til 2-3 års varighed, F.eks. Erhvervsakadem & 22                                                                             & 37                                                                             & 45                                                                             &    NA                                                                          &    NA                                                                          &  55                                                                            & Kort videregående uddannelse af op til 2-3 års varighed, F.eks. Erhvervsakadem & above lower secondary                                                         \\\\\n",
       "\t 1327                                                                           & 240                                                                            & 5                                                                              & NA                                                                             & NA                                                                             & Still in parental home, never left 2 months                                    & NA                                                                             & Male                                                                           & 2000                                                                           & Folkeskole 9.-10. klasse                                                       & 11                                                                             & 37                                                                             & 37                                                                             &    NA                                                                          &    NA                                                                          &  37                                                                            & Lower secondary education                                                      & lower secondary or below                                                      \\\\\n",
       "\t 3760                                                                           & 300                                                                            & 7                                                                              & Not eligible to vote                                                           & NA                                                                             & Still in parental home, never left 2 months                                    & 40                                                                             & Male                                                                           & 2002                                                                           & Folkeskole 9.-10. klasse                                                       &  9                                                                             &  2                                                                             &  2                                                                             &   200                                                                          &    NA                                                                          &  43                                                                            & Lower secondary education                                                      & lower secondary or below                                                      \\\\\n",
       "\t 4658                                                                           &  90                                                                            & 8                                                                              & Yes                                                                            & NA                                                                             & 1974                                                                           & 50                                                                             & Female                                                                         & 1956                                                                           & Kort videregående uddannelse af op til 2-3 års varighed, F.eks. Erhvervsakadem &  4                                                                             & 30                                                                             & 30                                                                             &    NA                                                                          &    NA                                                                          &  62                                                                            & Kort videregående uddannelse af op til 2-3 års varighed, F.eks. Erhvervsakadem & above lower secondary                                                         \\\\\n",
       "\t 5816                                                                           &  90                                                                            & 7                                                                              & Yes                                                                            & SF Socialistisk Folkeparti - Socialist People's Party                          & 1994                                                                           & 60                                                                             & Male                                                                           & 1974                                                                           & Mellemlang videregående uddannelse af 3-4 års varighed. Professionsbachelorer, & 35                                                                             & 37                                                                             & 37                                                                             & 37000                                                                          & 35000                                                                          &  61                                                                            & Mellemlang videregående uddannelse af 3-4 års varighed. Professionsbachelorer, & above lower secondary                                                         \\\\\n",
       "\\end{tabular}\n"
      ],
      "text/markdown": [
       "\n",
       "| idno | netustm | ppltrst | vote | prtvtddk | lvpntyr | tygrtr | gndr | yrbrn | edlvddk | eduyrs | wkhct | wkhtot | grspnum | frlgrsp | inwtm | edlvisced | edlvbin |\n",
       "|---|---|---|---|---|---|---|---|---|---|---|---|---|---|---|---|---|---|\n",
       "|  110                                                                           | 180                                                                            | 8                                                                              | Yes                                                                            | Socialdemokratiet - The Social democrats                                       | 1968                                                                           | Never too young                                                                | Male                                                                           | 1949                                                                           | Kort videregående uddannelse af op til 2-3 års varighed, F.eks. Erhvervsakadem |  9                                                                             | 28                                                                             | 28                                                                             |    NA                                                                          |    NA                                                                          | 119                                                                            | Kort videregående uddannelse af op til 2-3 års varighed, F.eks. Erhvervsakadem | above lower secondary                                                          |\n",
       "|  705                                                                           |  60                                                                            | 5                                                                              | Yes                                                                            | Det Konservative Folkeparti - Conservative People's Party                      | 1976                                                                           | 67                                                                             | Male                                                                           | 1958                                                                           | Kort videregående uddannelse af op til 2-3 års varighed, F.eks. Erhvervsakadem | 22                                                                             | 37                                                                             | 45                                                                             |    NA                                                                          |    NA                                                                          |  55                                                                            | Kort videregående uddannelse af op til 2-3 års varighed, F.eks. Erhvervsakadem | above lower secondary                                                          |\n",
       "| 1327                                                                           | 240                                                                            | 5                                                                              | NA                                                                             | NA                                                                             | Still in parental home, never left 2 months                                    | NA                                                                             | Male                                                                           | 2000                                                                           | Folkeskole 9.-10. klasse                                                       | 11                                                                             | 37                                                                             | 37                                                                             |    NA                                                                          |    NA                                                                          |  37                                                                            | Lower secondary education                                                      | lower secondary or below                                                       |\n",
       "| 3760                                                                           | 300                                                                            | 7                                                                              | Not eligible to vote                                                           | NA                                                                             | Still in parental home, never left 2 months                                    | 40                                                                             | Male                                                                           | 2002                                                                           | Folkeskole 9.-10. klasse                                                       |  9                                                                             |  2                                                                             |  2                                                                             |   200                                                                          |    NA                                                                          |  43                                                                            | Lower secondary education                                                      | lower secondary or below                                                       |\n",
       "| 4658                                                                           |  90                                                                            | 8                                                                              | Yes                                                                            | NA                                                                             | 1974                                                                           | 50                                                                             | Female                                                                         | 1956                                                                           | Kort videregående uddannelse af op til 2-3 års varighed, F.eks. Erhvervsakadem |  4                                                                             | 30                                                                             | 30                                                                             |    NA                                                                          |    NA                                                                          |  62                                                                            | Kort videregående uddannelse af op til 2-3 års varighed, F.eks. Erhvervsakadem | above lower secondary                                                          |\n",
       "| 5816                                                                           |  90                                                                            | 7                                                                              | Yes                                                                            | SF Socialistisk Folkeparti - Socialist People's Party                          | 1994                                                                           | 60                                                                             | Male                                                                           | 1974                                                                           | Mellemlang videregående uddannelse af 3-4 års varighed. Professionsbachelorer, | 35                                                                             | 37                                                                             | 37                                                                             | 37000                                                                          | 35000                                                                          |  61                                                                            | Mellemlang videregående uddannelse af 3-4 års varighed. Professionsbachelorer, | above lower secondary                                                          |\n",
       "\n"
      ],
      "text/plain": [
       "  idno netustm ppltrst vote                \n",
       "1  110 180     8       Yes                 \n",
       "2  705  60     5       Yes                 \n",
       "3 1327 240     5       NA                  \n",
       "4 3760 300     7       Not eligible to vote\n",
       "5 4658  90     8       Yes                 \n",
       "6 5816  90     7       Yes                 \n",
       "  prtvtddk                                                 \n",
       "1 Socialdemokratiet - The Social democrats                 \n",
       "2 Det Konservative Folkeparti - Conservative People's Party\n",
       "3 NA                                                       \n",
       "4 NA                                                       \n",
       "5 NA                                                       \n",
       "6 SF Socialistisk Folkeparti - Socialist People's Party    \n",
       "  lvpntyr                                     tygrtr          gndr   yrbrn\n",
       "1 1968                                        Never too young Male   1949 \n",
       "2 1976                                        67              Male   1958 \n",
       "3 Still in parental home, never left 2 months NA              Male   2000 \n",
       "4 Still in parental home, never left 2 months 40              Male   2002 \n",
       "5 1974                                        50              Female 1956 \n",
       "6 1994                                        60              Male   1974 \n",
       "  edlvddk                                                                       \n",
       "1 Kort videregående uddannelse af op til 2-3 års varighed, F.eks. Erhvervsakadem\n",
       "2 Kort videregående uddannelse af op til 2-3 års varighed, F.eks. Erhvervsakadem\n",
       "3 Folkeskole 9.-10. klasse                                                      \n",
       "4 Folkeskole 9.-10. klasse                                                      \n",
       "5 Kort videregående uddannelse af op til 2-3 års varighed, F.eks. Erhvervsakadem\n",
       "6 Mellemlang videregående uddannelse af 3-4 års varighed. Professionsbachelorer,\n",
       "  eduyrs wkhct wkhtot grspnum frlgrsp inwtm\n",
       "1  9     28    28        NA      NA   119  \n",
       "2 22     37    45        NA      NA    55  \n",
       "3 11     37    37        NA      NA    37  \n",
       "4  9      2     2       200      NA    43  \n",
       "5  4     30    30        NA      NA    62  \n",
       "6 35     37    37     37000   35000    61  \n",
       "  edlvisced                                                                     \n",
       "1 Kort videregående uddannelse af op til 2-3 års varighed, F.eks. Erhvervsakadem\n",
       "2 Kort videregående uddannelse af op til 2-3 års varighed, F.eks. Erhvervsakadem\n",
       "3 Lower secondary education                                                     \n",
       "4 Lower secondary education                                                     \n",
       "5 Kort videregående uddannelse af op til 2-3 års varighed, F.eks. Erhvervsakadem\n",
       "6 Mellemlang videregående uddannelse af 3-4 års varighed. Professionsbachelorer,\n",
       "  edlvbin                 \n",
       "1 above lower secondary   \n",
       "2 above lower secondary   \n",
       "3 lower secondary or below\n",
       "4 lower secondary or below\n",
       "5 above lower secondary   \n",
       "6 above lower secondary   "
      ]
     },
     "metadata": {},
     "output_type": "display_data"
    }
   ],
   "source": [
    "# Recoding edlvddk to two categories (\"lower secondary or below\" and \"above lower secondary\"\n",
    "data <- data %>%\n",
    "    mutate(edlvbin = recode(edlvddk, \"Folkeskole 6.-8. klasse\" = \"lower secondary or below\", \"Folkeskole 9.-10. klasse\" = \"lower secondary or below\",\n",
    "                              .default = \"above lower secondary\"))\n",
    "\n",
    "head(data)\n",
    "\n",
    "# Can you see any problems with the code above?"
   ]
  },
  {
   "cell_type": "markdown",
   "metadata": {
    "slideshow": {
     "slide_type": "subslide"
    },
    "tags": []
   },
   "source": [
    "Use `if_else` when recoding based on a single logical condition."
   ]
  },
  {
   "cell_type": "code",
   "execution_count": 19,
   "metadata": {
    "slideshow": {
     "slide_type": "fragment"
    },
    "tags": []
   },
   "outputs": [
    {
     "data": {
      "text/html": [
       "<table>\n",
       "<thead><tr><th scope=col>idno</th><th scope=col>netustm</th><th scope=col>ppltrst</th><th scope=col>vote</th><th scope=col>prtvtddk</th><th scope=col>lvpntyr</th><th scope=col>tygrtr</th><th scope=col>gndr</th><th scope=col>yrbrn</th><th scope=col>edlvddk</th><th scope=col>eduyrs</th><th scope=col>wkhct</th><th scope=col>wkhtot</th><th scope=col>grspnum</th><th scope=col>frlgrsp</th><th scope=col>inwtm</th><th scope=col>edlvisced</th><th scope=col>edlvbin</th><th scope=col>phdornot</th></tr></thead>\n",
       "<tbody>\n",
       "\t<tr><td> 110                                                                          </td><td>180                                                                           </td><td>8                                                                             </td><td>Yes                                                                           </td><td>Socialdemokratiet - The Social democrats                                      </td><td>1968                                                                          </td><td>Never too young                                                               </td><td>Male                                                                          </td><td>1949                                                                          </td><td>Kort videregående uddannelse af op til 2-3 års varighed, F.eks. Erhvervsakadem</td><td> 9                                                                            </td><td>28                                                                            </td><td>28                                                                            </td><td>   NA                                                                         </td><td>   NA                                                                         </td><td>119                                                                           </td><td>Kort videregående uddannelse af op til 2-3 års varighed, F.eks. Erhvervsakadem</td><td>above lower secondary                                                         </td><td>Not PhD                                                                       </td></tr>\n",
       "\t<tr><td> 705                                                                          </td><td> 60                                                                           </td><td>5                                                                             </td><td>Yes                                                                           </td><td>Det Konservative Folkeparti - Conservative People's Party                     </td><td>1976                                                                          </td><td>67                                                                            </td><td>Male                                                                          </td><td>1958                                                                          </td><td>Kort videregående uddannelse af op til 2-3 års varighed, F.eks. Erhvervsakadem</td><td>22                                                                            </td><td>37                                                                            </td><td>45                                                                            </td><td>   NA                                                                         </td><td>   NA                                                                         </td><td> 55                                                                           </td><td>Kort videregående uddannelse af op til 2-3 års varighed, F.eks. Erhvervsakadem</td><td>above lower secondary                                                         </td><td>Not PhD                                                                       </td></tr>\n",
       "\t<tr><td>1327                                                                          </td><td>240                                                                           </td><td>5                                                                             </td><td>NA                                                                            </td><td>NA                                                                            </td><td>Still in parental home, never left 2 months                                   </td><td>NA                                                                            </td><td>Male                                                                          </td><td>2000                                                                          </td><td>Folkeskole 9.-10. klasse                                                      </td><td>11                                                                            </td><td>37                                                                            </td><td>37                                                                            </td><td>   NA                                                                         </td><td>   NA                                                                         </td><td> 37                                                                           </td><td>Lower secondary education                                                     </td><td>lower secondary or below                                                      </td><td>Not PhD                                                                       </td></tr>\n",
       "\t<tr><td>3760                                                                          </td><td>300                                                                           </td><td>7                                                                             </td><td>Not eligible to vote                                                          </td><td>NA                                                                            </td><td>Still in parental home, never left 2 months                                   </td><td>40                                                                            </td><td>Male                                                                          </td><td>2002                                                                          </td><td>Folkeskole 9.-10. klasse                                                      </td><td> 9                                                                            </td><td> 2                                                                            </td><td> 2                                                                            </td><td>  200                                                                         </td><td>   NA                                                                         </td><td> 43                                                                           </td><td>Lower secondary education                                                     </td><td>lower secondary or below                                                      </td><td>Not PhD                                                                       </td></tr>\n",
       "\t<tr><td>4658                                                                          </td><td> 90                                                                           </td><td>8                                                                             </td><td>Yes                                                                           </td><td>NA                                                                            </td><td>1974                                                                          </td><td>50                                                                            </td><td>Female                                                                        </td><td>1956                                                                          </td><td>Kort videregående uddannelse af op til 2-3 års varighed, F.eks. Erhvervsakadem</td><td> 4                                                                            </td><td>30                                                                            </td><td>30                                                                            </td><td>   NA                                                                         </td><td>   NA                                                                         </td><td> 62                                                                           </td><td>Kort videregående uddannelse af op til 2-3 års varighed, F.eks. Erhvervsakadem</td><td>above lower secondary                                                         </td><td>Not PhD                                                                       </td></tr>\n",
       "\t<tr><td>5816                                                                          </td><td> 90                                                                           </td><td>7                                                                             </td><td>Yes                                                                           </td><td>SF Socialistisk Folkeparti - Socialist People's Party                         </td><td>1994                                                                          </td><td>60                                                                            </td><td>Male                                                                          </td><td>1974                                                                          </td><td>Mellemlang videregående uddannelse af 3-4 års varighed. Professionsbachelorer,</td><td>35                                                                            </td><td>37                                                                            </td><td>37                                                                            </td><td>37000                                                                         </td><td>35000                                                                         </td><td> 61                                                                           </td><td>Mellemlang videregående uddannelse af 3-4 års varighed. Professionsbachelorer,</td><td>above lower secondary                                                         </td><td>Not PhD                                                                       </td></tr>\n",
       "</tbody>\n",
       "</table>\n"
      ],
      "text/latex": [
       "\\begin{tabular}{r|lllllllllllllllllll}\n",
       " idno & netustm & ppltrst & vote & prtvtddk & lvpntyr & tygrtr & gndr & yrbrn & edlvddk & eduyrs & wkhct & wkhtot & grspnum & frlgrsp & inwtm & edlvisced & edlvbin & phdornot\\\\\n",
       "\\hline\n",
       "\t  110                                                                           & 180                                                                            & 8                                                                              & Yes                                                                            & Socialdemokratiet - The Social democrats                                       & 1968                                                                           & Never too young                                                                & Male                                                                           & 1949                                                                           & Kort videregående uddannelse af op til 2-3 års varighed, F.eks. Erhvervsakadem &  9                                                                             & 28                                                                             & 28                                                                             &    NA                                                                          &    NA                                                                          & 119                                                                            & Kort videregående uddannelse af op til 2-3 års varighed, F.eks. Erhvervsakadem & above lower secondary                                                          & Not PhD                                                                       \\\\\n",
       "\t  705                                                                           &  60                                                                            & 5                                                                              & Yes                                                                            & Det Konservative Folkeparti - Conservative People's Party                      & 1976                                                                           & 67                                                                             & Male                                                                           & 1958                                                                           & Kort videregående uddannelse af op til 2-3 års varighed, F.eks. Erhvervsakadem & 22                                                                             & 37                                                                             & 45                                                                             &    NA                                                                          &    NA                                                                          &  55                                                                            & Kort videregående uddannelse af op til 2-3 års varighed, F.eks. Erhvervsakadem & above lower secondary                                                          & Not PhD                                                                       \\\\\n",
       "\t 1327                                                                           & 240                                                                            & 5                                                                              & NA                                                                             & NA                                                                             & Still in parental home, never left 2 months                                    & NA                                                                             & Male                                                                           & 2000                                                                           & Folkeskole 9.-10. klasse                                                       & 11                                                                             & 37                                                                             & 37                                                                             &    NA                                                                          &    NA                                                                          &  37                                                                            & Lower secondary education                                                      & lower secondary or below                                                       & Not PhD                                                                       \\\\\n",
       "\t 3760                                                                           & 300                                                                            & 7                                                                              & Not eligible to vote                                                           & NA                                                                             & Still in parental home, never left 2 months                                    & 40                                                                             & Male                                                                           & 2002                                                                           & Folkeskole 9.-10. klasse                                                       &  9                                                                             &  2                                                                             &  2                                                                             &   200                                                                          &    NA                                                                          &  43                                                                            & Lower secondary education                                                      & lower secondary or below                                                       & Not PhD                                                                       \\\\\n",
       "\t 4658                                                                           &  90                                                                            & 8                                                                              & Yes                                                                            & NA                                                                             & 1974                                                                           & 50                                                                             & Female                                                                         & 1956                                                                           & Kort videregående uddannelse af op til 2-3 års varighed, F.eks. Erhvervsakadem &  4                                                                             & 30                                                                             & 30                                                                             &    NA                                                                          &    NA                                                                          &  62                                                                            & Kort videregående uddannelse af op til 2-3 års varighed, F.eks. Erhvervsakadem & above lower secondary                                                          & Not PhD                                                                       \\\\\n",
       "\t 5816                                                                           &  90                                                                            & 7                                                                              & Yes                                                                            & SF Socialistisk Folkeparti - Socialist People's Party                          & 1994                                                                           & 60                                                                             & Male                                                                           & 1974                                                                           & Mellemlang videregående uddannelse af 3-4 års varighed. Professionsbachelorer, & 35                                                                             & 37                                                                             & 37                                                                             & 37000                                                                          & 35000                                                                          &  61                                                                            & Mellemlang videregående uddannelse af 3-4 års varighed. Professionsbachelorer, & above lower secondary                                                          & Not PhD                                                                       \\\\\n",
       "\\end{tabular}\n"
      ],
      "text/markdown": [
       "\n",
       "| idno | netustm | ppltrst | vote | prtvtddk | lvpntyr | tygrtr | gndr | yrbrn | edlvddk | eduyrs | wkhct | wkhtot | grspnum | frlgrsp | inwtm | edlvisced | edlvbin | phdornot |\n",
       "|---|---|---|---|---|---|---|---|---|---|---|---|---|---|---|---|---|---|---|\n",
       "|  110                                                                           | 180                                                                            | 8                                                                              | Yes                                                                            | Socialdemokratiet - The Social democrats                                       | 1968                                                                           | Never too young                                                                | Male                                                                           | 1949                                                                           | Kort videregående uddannelse af op til 2-3 års varighed, F.eks. Erhvervsakadem |  9                                                                             | 28                                                                             | 28                                                                             |    NA                                                                          |    NA                                                                          | 119                                                                            | Kort videregående uddannelse af op til 2-3 års varighed, F.eks. Erhvervsakadem | above lower secondary                                                          | Not PhD                                                                        |\n",
       "|  705                                                                           |  60                                                                            | 5                                                                              | Yes                                                                            | Det Konservative Folkeparti - Conservative People's Party                      | 1976                                                                           | 67                                                                             | Male                                                                           | 1958                                                                           | Kort videregående uddannelse af op til 2-3 års varighed, F.eks. Erhvervsakadem | 22                                                                             | 37                                                                             | 45                                                                             |    NA                                                                          |    NA                                                                          |  55                                                                            | Kort videregående uddannelse af op til 2-3 års varighed, F.eks. Erhvervsakadem | above lower secondary                                                          | Not PhD                                                                        |\n",
       "| 1327                                                                           | 240                                                                            | 5                                                                              | NA                                                                             | NA                                                                             | Still in parental home, never left 2 months                                    | NA                                                                             | Male                                                                           | 2000                                                                           | Folkeskole 9.-10. klasse                                                       | 11                                                                             | 37                                                                             | 37                                                                             |    NA                                                                          |    NA                                                                          |  37                                                                            | Lower secondary education                                                      | lower secondary or below                                                       | Not PhD                                                                        |\n",
       "| 3760                                                                           | 300                                                                            | 7                                                                              | Not eligible to vote                                                           | NA                                                                             | Still in parental home, never left 2 months                                    | 40                                                                             | Male                                                                           | 2002                                                                           | Folkeskole 9.-10. klasse                                                       |  9                                                                             |  2                                                                             |  2                                                                             |   200                                                                          |    NA                                                                          |  43                                                                            | Lower secondary education                                                      | lower secondary or below                                                       | Not PhD                                                                        |\n",
       "| 4658                                                                           |  90                                                                            | 8                                                                              | Yes                                                                            | NA                                                                             | 1974                                                                           | 50                                                                             | Female                                                                         | 1956                                                                           | Kort videregående uddannelse af op til 2-3 års varighed, F.eks. Erhvervsakadem |  4                                                                             | 30                                                                             | 30                                                                             |    NA                                                                          |    NA                                                                          |  62                                                                            | Kort videregående uddannelse af op til 2-3 års varighed, F.eks. Erhvervsakadem | above lower secondary                                                          | Not PhD                                                                        |\n",
       "| 5816                                                                           |  90                                                                            | 7                                                                              | Yes                                                                            | SF Socialistisk Folkeparti - Socialist People's Party                          | 1994                                                                           | 60                                                                             | Male                                                                           | 1974                                                                           | Mellemlang videregående uddannelse af 3-4 års varighed. Professionsbachelorer, | 35                                                                             | 37                                                                             | 37                                                                             | 37000                                                                          | 35000                                                                          |  61                                                                            | Mellemlang videregående uddannelse af 3-4 års varighed. Professionsbachelorer, | above lower secondary                                                          | Not PhD                                                                        |\n",
       "\n"
      ],
      "text/plain": [
       "  idno netustm ppltrst vote                \n",
       "1  110 180     8       Yes                 \n",
       "2  705  60     5       Yes                 \n",
       "3 1327 240     5       NA                  \n",
       "4 3760 300     7       Not eligible to vote\n",
       "5 4658  90     8       Yes                 \n",
       "6 5816  90     7       Yes                 \n",
       "  prtvtddk                                                 \n",
       "1 Socialdemokratiet - The Social democrats                 \n",
       "2 Det Konservative Folkeparti - Conservative People's Party\n",
       "3 NA                                                       \n",
       "4 NA                                                       \n",
       "5 NA                                                       \n",
       "6 SF Socialistisk Folkeparti - Socialist People's Party    \n",
       "  lvpntyr                                     tygrtr          gndr   yrbrn\n",
       "1 1968                                        Never too young Male   1949 \n",
       "2 1976                                        67              Male   1958 \n",
       "3 Still in parental home, never left 2 months NA              Male   2000 \n",
       "4 Still in parental home, never left 2 months 40              Male   2002 \n",
       "5 1974                                        50              Female 1956 \n",
       "6 1994                                        60              Male   1974 \n",
       "  edlvddk                                                                       \n",
       "1 Kort videregående uddannelse af op til 2-3 års varighed, F.eks. Erhvervsakadem\n",
       "2 Kort videregående uddannelse af op til 2-3 års varighed, F.eks. Erhvervsakadem\n",
       "3 Folkeskole 9.-10. klasse                                                      \n",
       "4 Folkeskole 9.-10. klasse                                                      \n",
       "5 Kort videregående uddannelse af op til 2-3 års varighed, F.eks. Erhvervsakadem\n",
       "6 Mellemlang videregående uddannelse af 3-4 års varighed. Professionsbachelorer,\n",
       "  eduyrs wkhct wkhtot grspnum frlgrsp inwtm\n",
       "1  9     28    28        NA      NA   119  \n",
       "2 22     37    45        NA      NA    55  \n",
       "3 11     37    37        NA      NA    37  \n",
       "4  9      2     2       200      NA    43  \n",
       "5  4     30    30        NA      NA    62  \n",
       "6 35     37    37     37000   35000    61  \n",
       "  edlvisced                                                                     \n",
       "1 Kort videregående uddannelse af op til 2-3 års varighed, F.eks. Erhvervsakadem\n",
       "2 Kort videregående uddannelse af op til 2-3 års varighed, F.eks. Erhvervsakadem\n",
       "3 Lower secondary education                                                     \n",
       "4 Lower secondary education                                                     \n",
       "5 Kort videregående uddannelse af op til 2-3 års varighed, F.eks. Erhvervsakadem\n",
       "6 Mellemlang videregående uddannelse af 3-4 års varighed. Professionsbachelorer,\n",
       "  edlvbin                  phdornot\n",
       "1 above lower secondary    Not PhD \n",
       "2 above lower secondary    Not PhD \n",
       "3 lower secondary or below Not PhD \n",
       "4 lower secondary or below Not PhD \n",
       "5 above lower secondary    Not PhD \n",
       "6 above lower secondary    Not PhD "
      ]
     },
     "metadata": {},
     "output_type": "display_data"
    }
   ],
   "source": [
    "data <- data %>% #note that this code also recodes missing\n",
    "    mutate(phdornot = if_else(edlvddk == \"Forskeruddannelse. Ph.d., doktor\", \"PhD\", \"Not PhD\"))\n",
    "\n",
    "head(data)"
   ]
  },
  {
   "cell_type": "markdown",
   "metadata": {
    "slideshow": {
     "slide_type": "subslide"
    },
    "tags": []
   },
   "source": [
    "Use `case_when` when recoding based on several logicals."
   ]
  },
  {
   "cell_type": "code",
   "execution_count": 20,
   "metadata": {
    "slideshow": {
     "slide_type": "fragment"
    },
    "tags": []
   },
   "outputs": [
    {
     "data": {
      "text/html": [
       "<table>\n",
       "<thead><tr><th scope=col>idno</th><th scope=col>netustm</th><th scope=col>ppltrst</th><th scope=col>vote</th><th scope=col>prtvtddk</th><th scope=col>lvpntyr</th><th scope=col>tygrtr</th><th scope=col>gndr</th><th scope=col>yrbrn</th><th scope=col>edlvddk</th><th scope=col>eduyrs</th><th scope=col>wkhct</th><th scope=col>wkhtot</th><th scope=col>grspnum</th><th scope=col>frlgrsp</th><th scope=col>inwtm</th><th scope=col>edlvisced</th><th scope=col>edlvbin</th><th scope=col>phdornot</th></tr></thead>\n",
       "<tbody>\n",
       "\t<tr><td> 110                                                                          </td><td>180                                                                           </td><td>8                                                                             </td><td>Yes                                                                           </td><td>Socialdemokratiet - The Social democrats                                      </td><td>1968                                                                          </td><td>Never too young                                                               </td><td>Male                                                                          </td><td>1949                                                                          </td><td>Kort videregående uddannelse af op til 2-3 års varighed, F.eks. Erhvervsakadem</td><td> 9                                                                            </td><td>28                                                                            </td><td>28                                                                            </td><td>   NA                                                                         </td><td>   NA                                                                         </td><td>119                                                                           </td><td>Kort videregående uddannelse af op til 2-3 års varighed, F.eks. Erhvervsakadem</td><td>above lower secondary                                                         </td><td>Not PhD                                                                       </td></tr>\n",
       "\t<tr><td> 705                                                                          </td><td> 60                                                                           </td><td>5                                                                             </td><td>Yes                                                                           </td><td>Det Konservative Folkeparti - Conservative People's Party                     </td><td>1976                                                                          </td><td>67                                                                            </td><td>Male                                                                          </td><td>1958                                                                          </td><td>Kort videregående uddannelse af op til 2-3 års varighed, F.eks. Erhvervsakadem</td><td>22                                                                            </td><td>37                                                                            </td><td>45                                                                            </td><td>   NA                                                                         </td><td>   NA                                                                         </td><td> 55                                                                           </td><td>Kort videregående uddannelse af op til 2-3 års varighed, F.eks. Erhvervsakadem</td><td>above lower secondary                                                         </td><td>Not PhD                                                                       </td></tr>\n",
       "\t<tr><td>1327                                                                          </td><td>240                                                                           </td><td>5                                                                             </td><td>NA                                                                            </td><td>NA                                                                            </td><td>Still in parental home, never left 2 months                                   </td><td>NA                                                                            </td><td>Male                                                                          </td><td>2000                                                                          </td><td>Folkeskole 9.-10. klasse                                                      </td><td>11                                                                            </td><td>37                                                                            </td><td>37                                                                            </td><td>   NA                                                                         </td><td>   NA                                                                         </td><td> 37                                                                           </td><td>Lower secondary education                                                     </td><td>lower secondary or below                                                      </td><td>Not PhD                                                                       </td></tr>\n",
       "\t<tr><td>3760                                                                          </td><td>300                                                                           </td><td>7                                                                             </td><td>Not eligible to vote                                                          </td><td>NA                                                                            </td><td>Still in parental home, never left 2 months                                   </td><td>40                                                                            </td><td>Male                                                                          </td><td>2002                                                                          </td><td>Folkeskole 9.-10. klasse                                                      </td><td> 9                                                                            </td><td> 2                                                                            </td><td> 2                                                                            </td><td>  200                                                                         </td><td>   NA                                                                         </td><td> 43                                                                           </td><td>Lower secondary education                                                     </td><td>lower secondary or below                                                      </td><td>Not PhD                                                                       </td></tr>\n",
       "\t<tr><td>4658                                                                          </td><td> 90                                                                           </td><td>8                                                                             </td><td>Yes                                                                           </td><td>NA                                                                            </td><td>1974                                                                          </td><td>50                                                                            </td><td>Female                                                                        </td><td>1956                                                                          </td><td>Kort videregående uddannelse af op til 2-3 års varighed, F.eks. Erhvervsakadem</td><td> 4                                                                            </td><td>30                                                                            </td><td>30                                                                            </td><td>   NA                                                                         </td><td>   NA                                                                         </td><td> 62                                                                           </td><td>Kort videregående uddannelse af op til 2-3 års varighed, F.eks. Erhvervsakadem</td><td>above lower secondary                                                         </td><td>Not PhD                                                                       </td></tr>\n",
       "\t<tr><td>5816                                                                          </td><td> 90                                                                           </td><td>7                                                                             </td><td>Yes                                                                           </td><td>SF Socialistisk Folkeparti - Socialist People's Party                         </td><td>1994                                                                          </td><td>60                                                                            </td><td>Male                                                                          </td><td>1974                                                                          </td><td>Mellemlang videregående uddannelse af 3-4 års varighed. Professionsbachelorer,</td><td>35                                                                            </td><td>37                                                                            </td><td>37                                                                            </td><td>37000                                                                         </td><td>35000                                                                         </td><td> 61                                                                           </td><td>Mellemlang videregående uddannelse af 3-4 års varighed. Professionsbachelorer,</td><td>above lower secondary                                                         </td><td>Not PhD                                                                       </td></tr>\n",
       "</tbody>\n",
       "</table>\n"
      ],
      "text/latex": [
       "\\begin{tabular}{r|lllllllllllllllllll}\n",
       " idno & netustm & ppltrst & vote & prtvtddk & lvpntyr & tygrtr & gndr & yrbrn & edlvddk & eduyrs & wkhct & wkhtot & grspnum & frlgrsp & inwtm & edlvisced & edlvbin & phdornot\\\\\n",
       "\\hline\n",
       "\t  110                                                                           & 180                                                                            & 8                                                                              & Yes                                                                            & Socialdemokratiet - The Social democrats                                       & 1968                                                                           & Never too young                                                                & Male                                                                           & 1949                                                                           & Kort videregående uddannelse af op til 2-3 års varighed, F.eks. Erhvervsakadem &  9                                                                             & 28                                                                             & 28                                                                             &    NA                                                                          &    NA                                                                          & 119                                                                            & Kort videregående uddannelse af op til 2-3 års varighed, F.eks. Erhvervsakadem & above lower secondary                                                          & Not PhD                                                                       \\\\\n",
       "\t  705                                                                           &  60                                                                            & 5                                                                              & Yes                                                                            & Det Konservative Folkeparti - Conservative People's Party                      & 1976                                                                           & 67                                                                             & Male                                                                           & 1958                                                                           & Kort videregående uddannelse af op til 2-3 års varighed, F.eks. Erhvervsakadem & 22                                                                             & 37                                                                             & 45                                                                             &    NA                                                                          &    NA                                                                          &  55                                                                            & Kort videregående uddannelse af op til 2-3 års varighed, F.eks. Erhvervsakadem & above lower secondary                                                          & Not PhD                                                                       \\\\\n",
       "\t 1327                                                                           & 240                                                                            & 5                                                                              & NA                                                                             & NA                                                                             & Still in parental home, never left 2 months                                    & NA                                                                             & Male                                                                           & 2000                                                                           & Folkeskole 9.-10. klasse                                                       & 11                                                                             & 37                                                                             & 37                                                                             &    NA                                                                          &    NA                                                                          &  37                                                                            & Lower secondary education                                                      & lower secondary or below                                                       & Not PhD                                                                       \\\\\n",
       "\t 3760                                                                           & 300                                                                            & 7                                                                              & Not eligible to vote                                                           & NA                                                                             & Still in parental home, never left 2 months                                    & 40                                                                             & Male                                                                           & 2002                                                                           & Folkeskole 9.-10. klasse                                                       &  9                                                                             &  2                                                                             &  2                                                                             &   200                                                                          &    NA                                                                          &  43                                                                            & Lower secondary education                                                      & lower secondary or below                                                       & Not PhD                                                                       \\\\\n",
       "\t 4658                                                                           &  90                                                                            & 8                                                                              & Yes                                                                            & NA                                                                             & 1974                                                                           & 50                                                                             & Female                                                                         & 1956                                                                           & Kort videregående uddannelse af op til 2-3 års varighed, F.eks. Erhvervsakadem &  4                                                                             & 30                                                                             & 30                                                                             &    NA                                                                          &    NA                                                                          &  62                                                                            & Kort videregående uddannelse af op til 2-3 års varighed, F.eks. Erhvervsakadem & above lower secondary                                                          & Not PhD                                                                       \\\\\n",
       "\t 5816                                                                           &  90                                                                            & 7                                                                              & Yes                                                                            & SF Socialistisk Folkeparti - Socialist People's Party                          & 1994                                                                           & 60                                                                             & Male                                                                           & 1974                                                                           & Mellemlang videregående uddannelse af 3-4 års varighed. Professionsbachelorer, & 35                                                                             & 37                                                                             & 37                                                                             & 37000                                                                          & 35000                                                                          &  61                                                                            & Mellemlang videregående uddannelse af 3-4 års varighed. Professionsbachelorer, & above lower secondary                                                          & Not PhD                                                                       \\\\\n",
       "\\end{tabular}\n"
      ],
      "text/markdown": [
       "\n",
       "| idno | netustm | ppltrst | vote | prtvtddk | lvpntyr | tygrtr | gndr | yrbrn | edlvddk | eduyrs | wkhct | wkhtot | grspnum | frlgrsp | inwtm | edlvisced | edlvbin | phdornot |\n",
       "|---|---|---|---|---|---|---|---|---|---|---|---|---|---|---|---|---|---|---|\n",
       "|  110                                                                           | 180                                                                            | 8                                                                              | Yes                                                                            | Socialdemokratiet - The Social democrats                                       | 1968                                                                           | Never too young                                                                | Male                                                                           | 1949                                                                           | Kort videregående uddannelse af op til 2-3 års varighed, F.eks. Erhvervsakadem |  9                                                                             | 28                                                                             | 28                                                                             |    NA                                                                          |    NA                                                                          | 119                                                                            | Kort videregående uddannelse af op til 2-3 års varighed, F.eks. Erhvervsakadem | above lower secondary                                                          | Not PhD                                                                        |\n",
       "|  705                                                                           |  60                                                                            | 5                                                                              | Yes                                                                            | Det Konservative Folkeparti - Conservative People's Party                      | 1976                                                                           | 67                                                                             | Male                                                                           | 1958                                                                           | Kort videregående uddannelse af op til 2-3 års varighed, F.eks. Erhvervsakadem | 22                                                                             | 37                                                                             | 45                                                                             |    NA                                                                          |    NA                                                                          |  55                                                                            | Kort videregående uddannelse af op til 2-3 års varighed, F.eks. Erhvervsakadem | above lower secondary                                                          | Not PhD                                                                        |\n",
       "| 1327                                                                           | 240                                                                            | 5                                                                              | NA                                                                             | NA                                                                             | Still in parental home, never left 2 months                                    | NA                                                                             | Male                                                                           | 2000                                                                           | Folkeskole 9.-10. klasse                                                       | 11                                                                             | 37                                                                             | 37                                                                             |    NA                                                                          |    NA                                                                          |  37                                                                            | Lower secondary education                                                      | lower secondary or below                                                       | Not PhD                                                                        |\n",
       "| 3760                                                                           | 300                                                                            | 7                                                                              | Not eligible to vote                                                           | NA                                                                             | Still in parental home, never left 2 months                                    | 40                                                                             | Male                                                                           | 2002                                                                           | Folkeskole 9.-10. klasse                                                       |  9                                                                             |  2                                                                             |  2                                                                             |   200                                                                          |    NA                                                                          |  43                                                                            | Lower secondary education                                                      | lower secondary or below                                                       | Not PhD                                                                        |\n",
       "| 4658                                                                           |  90                                                                            | 8                                                                              | Yes                                                                            | NA                                                                             | 1974                                                                           | 50                                                                             | Female                                                                         | 1956                                                                           | Kort videregående uddannelse af op til 2-3 års varighed, F.eks. Erhvervsakadem |  4                                                                             | 30                                                                             | 30                                                                             |    NA                                                                          |    NA                                                                          |  62                                                                            | Kort videregående uddannelse af op til 2-3 års varighed, F.eks. Erhvervsakadem | above lower secondary                                                          | Not PhD                                                                        |\n",
       "| 5816                                                                           |  90                                                                            | 7                                                                              | Yes                                                                            | SF Socialistisk Folkeparti - Socialist People's Party                          | 1994                                                                           | 60                                                                             | Male                                                                           | 1974                                                                           | Mellemlang videregående uddannelse af 3-4 års varighed. Professionsbachelorer, | 35                                                                             | 37                                                                             | 37                                                                             | 37000                                                                          | 35000                                                                          |  61                                                                            | Mellemlang videregående uddannelse af 3-4 års varighed. Professionsbachelorer, | above lower secondary                                                          | Not PhD                                                                        |\n",
       "\n"
      ],
      "text/plain": [
       "  idno netustm ppltrst vote                \n",
       "1  110 180     8       Yes                 \n",
       "2  705  60     5       Yes                 \n",
       "3 1327 240     5       NA                  \n",
       "4 3760 300     7       Not eligible to vote\n",
       "5 4658  90     8       Yes                 \n",
       "6 5816  90     7       Yes                 \n",
       "  prtvtddk                                                 \n",
       "1 Socialdemokratiet - The Social democrats                 \n",
       "2 Det Konservative Folkeparti - Conservative People's Party\n",
       "3 NA                                                       \n",
       "4 NA                                                       \n",
       "5 NA                                                       \n",
       "6 SF Socialistisk Folkeparti - Socialist People's Party    \n",
       "  lvpntyr                                     tygrtr          gndr   yrbrn\n",
       "1 1968                                        Never too young Male   1949 \n",
       "2 1976                                        67              Male   1958 \n",
       "3 Still in parental home, never left 2 months NA              Male   2000 \n",
       "4 Still in parental home, never left 2 months 40              Male   2002 \n",
       "5 1974                                        50              Female 1956 \n",
       "6 1994                                        60              Male   1974 \n",
       "  edlvddk                                                                       \n",
       "1 Kort videregående uddannelse af op til 2-3 års varighed, F.eks. Erhvervsakadem\n",
       "2 Kort videregående uddannelse af op til 2-3 års varighed, F.eks. Erhvervsakadem\n",
       "3 Folkeskole 9.-10. klasse                                                      \n",
       "4 Folkeskole 9.-10. klasse                                                      \n",
       "5 Kort videregående uddannelse af op til 2-3 års varighed, F.eks. Erhvervsakadem\n",
       "6 Mellemlang videregående uddannelse af 3-4 års varighed. Professionsbachelorer,\n",
       "  eduyrs wkhct wkhtot grspnum frlgrsp inwtm\n",
       "1  9     28    28        NA      NA   119  \n",
       "2 22     37    45        NA      NA    55  \n",
       "3 11     37    37        NA      NA    37  \n",
       "4  9      2     2       200      NA    43  \n",
       "5  4     30    30        NA      NA    62  \n",
       "6 35     37    37     37000   35000    61  \n",
       "  edlvisced                                                                     \n",
       "1 Kort videregående uddannelse af op til 2-3 års varighed, F.eks. Erhvervsakadem\n",
       "2 Kort videregående uddannelse af op til 2-3 års varighed, F.eks. Erhvervsakadem\n",
       "3 Lower secondary education                                                     \n",
       "4 Lower secondary education                                                     \n",
       "5 Kort videregående uddannelse af op til 2-3 års varighed, F.eks. Erhvervsakadem\n",
       "6 Mellemlang videregående uddannelse af 3-4 års varighed. Professionsbachelorer,\n",
       "  edlvbin                  phdornot\n",
       "1 above lower secondary    Not PhD \n",
       "2 above lower secondary    Not PhD \n",
       "3 lower secondary or below Not PhD \n",
       "4 lower secondary or below Not PhD \n",
       "5 above lower secondary    Not PhD \n",
       "6 above lower secondary    Not PhD "
      ]
     },
     "metadata": {},
     "output_type": "display_data"
    }
   ],
   "source": [
    "# Recoding edlvddk to two categories to ISCED (text value) - same as first recode example\n",
    "\n",
    "data <- data %>%\n",
    "    mutate(edlvisced = case_when(\n",
    "        edlvddk == \"Folkeskole 6.-8. klasse\" ~ \"Primary education\", \n",
    "        edlvddk == \"Folkeskole 9.-10. klasse\" ~ \"Lower secondary education\",\n",
    "        TRUE ~ edlvddk)) #This line keeps remaining values as they are\n",
    "\n",
    "head(data)"
   ]
  },
  {
   "cell_type": "markdown",
   "metadata": {
    "slideshow": {
     "slide_type": "slide"
    },
    "tags": []
   },
   "source": [
    "## DISCUSSION: RECODING FUNCTIONS\n",
    "\n",
    "- Now being familiar with the various ways of recoding with `dplyr`, how would you prefer recoding all values in `edlvddk` to the ISCED categories?\n",
    "\n",
    "- Can you identify (possibly other) situations where `case_when` could be useful?"
   ]
  },
  {
   "cell_type": "markdown",
   "metadata": {
    "slideshow": {
     "slide_type": "slide"
    },
    "tags": []
   },
   "source": [
    "# Strings\n",
    "\n",
    "A \"string\" is a programming term for a value containing text. A value of the class \"character\" is a string.\n",
    "\n",
    "Below the first paragraph from chapter 15 of \"The Picture of Dorian Gray\" by Oscar Wilde is stored as a string (copied from: https://www.gutenberg.org/files/174/174-h/174-h.htm#chap15)"
   ]
  },
  {
   "cell_type": "code",
   "execution_count": 22,
   "metadata": {
    "slideshow": {
     "slide_type": "fragment"
    },
    "tags": []
   },
   "outputs": [
    {
     "data": {
      "text/html": [
       "'character'"
      ],
      "text/latex": [
       "'character'"
      ],
      "text/markdown": [
       "'character'"
      ],
      "text/plain": [
       "[1] \"character\""
      ]
     },
     "metadata": {},
     "output_type": "display_data"
    }
   ],
   "source": [
    "my_text <- \"That evening, at eight-thirty, exquisitely dressed and wearing a large button-hole of Parma violets, Dorian Gray was ushered into Lady Narborough’s drawing-room by bowing servants. His forehead was throbbing with maddened nerves, and he felt wildly excited, but his manner as he bent over his hostess’s hand was as easy and graceful as ever. Perhaps one never seems so much at one’s ease as when one has to play a part. Certainly no one looking at Dorian Gray that night could have believed that he had passed through a tragedy as horrible as any tragedy of our age. Those finely shaped fingers could never have clutched a knife for sin, nor those smiling lips have cried out on God and goodness. He himself could not help wondering at the calm of his demeanour, and for a moment felt keenly the terrible pleasure of a double life. \"\n",
    "class(my_text)"
   ]
  },
  {
   "cell_type": "markdown",
   "metadata": {
    "slideshow": {
     "slide_type": "slide"
    }
   },
   "source": [
    "## Texts as vectors\n",
    "Texts can be thought of as vectors in a number of ways:\n",
    "1. A collection of texts\n",
    "2. A collection of words in a text\n",
    "3. A collection of sentences in a text\n",
    "\n",
    "Depending on what we are trying to figure out with text, R can be used in a number of ways."
   ]
  },
  {
   "cell_type": "markdown",
   "metadata": {
    "slideshow": {
     "slide_type": "slide"
    }
   },
   "source": [
    "Let's start by thinking of a text as a series of single words:"
   ]
  },
  {
   "cell_type": "code",
   "execution_count": 23,
   "metadata": {
    "slideshow": {
     "slide_type": "fragment"
    }
   },
   "outputs": [
    {
     "data": {
      "text/html": [
       "<ol class=list-inline>\n",
       "\t<li>'That'</li>\n",
       "\t<li>'evening,'</li>\n",
       "\t<li>'at'</li>\n",
       "\t<li>'eight-thirty,'</li>\n",
       "\t<li>'exquisitely'</li>\n",
       "\t<li>'dressed'</li>\n",
       "</ol>\n"
      ],
      "text/latex": [
       "\\begin{enumerate*}\n",
       "\\item 'That'\n",
       "\\item 'evening,'\n",
       "\\item 'at'\n",
       "\\item 'eight-thirty,'\n",
       "\\item 'exquisitely'\n",
       "\\item 'dressed'\n",
       "\\end{enumerate*}\n"
      ],
      "text/markdown": [
       "1. 'That'\n",
       "2. 'evening,'\n",
       "3. 'at'\n",
       "4. 'eight-thirty,'\n",
       "5. 'exquisitely'\n",
       "6. 'dressed'\n",
       "\n",
       "\n"
      ],
      "text/plain": [
       "[1] \"That\"          \"evening,\"      \"at\"            \"eight-thirty,\"\n",
       "[5] \"exquisitely\"   \"dressed\"      "
      ]
     },
     "metadata": {},
     "output_type": "display_data"
    }
   ],
   "source": [
    "text_words <- unlist(strsplit(my_text, split = \"\\\\s\"))  #split at every whitespace - \\\\s is an escape character\n",
    "head(text_words)"
   ]
  },
  {
   "cell_type": "markdown",
   "metadata": {
    "slideshow": {
     "slide_type": "fragment"
    }
   },
   "source": [
    "The text is now a vector, each word with its own index (subset using `[]`):"
   ]
  },
  {
   "cell_type": "code",
   "execution_count": 24,
   "metadata": {
    "slideshow": {
     "slide_type": "fragment"
    }
   },
   "outputs": [
    {
     "data": {
      "text/html": [
       "'exquisitely'"
      ],
      "text/latex": [
       "'exquisitely'"
      ],
      "text/markdown": [
       "'exquisitely'"
      ],
      "text/plain": [
       "[1] \"exquisitely\""
      ]
     },
     "metadata": {},
     "output_type": "display_data"
    },
    {
     "data": {
      "text/html": [
       "'drawing-room'"
      ],
      "text/latex": [
       "'drawing-room'"
      ],
      "text/markdown": [
       "'drawing-room'"
      ],
      "text/plain": [
       "[1] \"drawing-room\""
      ]
     },
     "metadata": {},
     "output_type": "display_data"
    }
   ],
   "source": [
    "text_words[5]\n",
    "text_words[22]"
   ]
  },
  {
   "cell_type": "markdown",
   "metadata": {
    "slideshow": {
     "slide_type": "fragment"
    }
   },
   "source": [
    "This allows us to perform counts and other summaries."
   ]
  },
  {
   "cell_type": "markdown",
   "metadata": {
    "slideshow": {
     "slide_type": "slide"
    }
   },
   "source": [
    "## Working with strings: The `stringr` package\n",
    "\n",
    "The package `stringr` is a tidyverse package for working with strings."
   ]
  },
  {
   "cell_type": "code",
   "execution_count": 25,
   "metadata": {},
   "outputs": [],
   "source": [
    "library(stringr)"
   ]
  },
  {
   "cell_type": "markdown",
   "metadata": {
    "slideshow": {
     "slide_type": "slide"
    }
   },
   "source": [
    "`stringr` can be used in a variety of different ways."
   ]
  },
  {
   "cell_type": "code",
   "execution_count": 26,
   "metadata": {
    "slideshow": {
     "slide_type": "fragment"
    }
   },
   "outputs": [
    {
     "data": {
      "text/html": [
       "'that evening, at eight-thirty, exquisitely dressed and wearing a large button-hole of parma violets, dorian gray was ushered into lady narborough’s drawing-room by bowing servants. his forehead was throbbing with maddened nerves, and he felt wildly excited, but his manner as he bent over his hostess’s hand was as easy and graceful as ever. perhaps one never seems so much at one’s ease as when one has to play a part. certainly no one looking at dorian gray that night could have believed that he had passed through a tragedy as horrible as any tragedy of our age. those finely shaped fingers could never have clutched a knife for sin, nor those smiling lips have cried out on god and goodness. he himself could not help wondering at the calm of his demeanour, and for a moment felt keenly the terrible pleasure of a double life. '"
      ],
      "text/latex": [
       "'that evening, at eight-thirty, exquisitely dressed and wearing a large button-hole of parma violets, dorian gray was ushered into lady narborough’s drawing-room by bowing servants. his forehead was throbbing with maddened nerves, and he felt wildly excited, but his manner as he bent over his hostess’s hand was as easy and graceful as ever. perhaps one never seems so much at one’s ease as when one has to play a part. certainly no one looking at dorian gray that night could have believed that he had passed through a tragedy as horrible as any tragedy of our age. those finely shaped fingers could never have clutched a knife for sin, nor those smiling lips have cried out on god and goodness. he himself could not help wondering at the calm of his demeanour, and for a moment felt keenly the terrible pleasure of a double life. '"
      ],
      "text/markdown": [
       "'that evening, at eight-thirty, exquisitely dressed and wearing a large button-hole of parma violets, dorian gray was ushered into lady narborough’s drawing-room by bowing servants. his forehead was throbbing with maddened nerves, and he felt wildly excited, but his manner as he bent over his hostess’s hand was as easy and graceful as ever. perhaps one never seems so much at one’s ease as when one has to play a part. certainly no one looking at dorian gray that night could have believed that he had passed through a tragedy as horrible as any tragedy of our age. those finely shaped fingers could never have clutched a knife for sin, nor those smiling lips have cried out on god and goodness. he himself could not help wondering at the calm of his demeanour, and for a moment felt keenly the terrible pleasure of a double life. '"
      ],
      "text/plain": [
       "[1] \"that evening, at eight-thirty, exquisitely dressed and wearing a large button-hole of parma violets, dorian gray was ushered into lady narborough’s drawing-room by bowing servants. his forehead was throbbing with maddened nerves, and he felt wildly excited, but his manner as he bent over his hostess’s hand was as easy and graceful as ever. perhaps one never seems so much at one’s ease as when one has to play a part. certainly no one looking at dorian gray that night could have believed that he had passed through a tragedy as horrible as any tragedy of our age. those finely shaped fingers could never have clutched a knife for sin, nor those smiling lips have cried out on god and goodness. he himself could not help wondering at the calm of his demeanour, and for a moment felt keenly the terrible pleasure of a double life. \""
      ]
     },
     "metadata": {},
     "output_type": "display_data"
    }
   ],
   "source": [
    "# Changing case (here to lowercase)\n",
    "str_to_lower(my_text)"
   ]
  },
  {
   "cell_type": "code",
   "execution_count": 27,
   "metadata": {
    "slideshow": {
     "slide_type": "fragment"
    }
   },
   "outputs": [
    {
     "data": {
      "text/html": [
       "TRUE"
      ],
      "text/latex": [
       "TRUE"
      ],
      "text/markdown": [
       "TRUE"
      ],
      "text/plain": [
       "[1] TRUE"
      ]
     },
     "metadata": {},
     "output_type": "display_data"
    }
   ],
   "source": [
    "# Looking up words\n",
    "str_detect(my_text, \"tragedy\")"
   ]
  },
  {
   "cell_type": "code",
   "execution_count": 28,
   "metadata": {
    "slideshow": {
     "slide_type": "fragment"
    }
   },
   "outputs": [
    {
     "data": {
      "text/html": [
       "2"
      ],
      "text/latex": [
       "2"
      ],
      "text/markdown": [
       "2"
      ],
      "text/plain": [
       "[1] 2"
      ]
     },
     "metadata": {},
     "output_type": "display_data"
    }
   ],
   "source": [
    "# Counting matches\n",
    "str_count(my_text, \"tragedy\")"
   ]
  },
  {
   "cell_type": "markdown",
   "metadata": {
    "slideshow": {
     "slide_type": "slide"
    }
   },
   "source": [
    "The functions of `stringr` also work on a grouping of elements (like a vector). We can see this when we split the text into sentences and then use the same functions"
   ]
  },
  {
   "cell_type": "code",
   "execution_count": 29,
   "metadata": {
    "slideshow": {
     "slide_type": "fragment"
    }
   },
   "outputs": [],
   "source": [
    "# Splitting text into elements; here separating at commas\n",
    "# unlist is used to coerce to a vector; otherwise it is returned as a list\n",
    "text_sent <- str_split(my_text, pattern = \"\\\\.\") %>% \n",
    "unlist()"
   ]
  },
  {
   "cell_type": "code",
   "execution_count": 30,
   "metadata": {
    "slideshow": {
     "slide_type": "fragment"
    }
   },
   "outputs": [
    {
     "data": {
      "text/html": [
       "<ol class=list-inline>\n",
       "\t<li>FALSE</li>\n",
       "\t<li>FALSE</li>\n",
       "\t<li>FALSE</li>\n",
       "\t<li>TRUE</li>\n",
       "\t<li>FALSE</li>\n",
       "\t<li>FALSE</li>\n",
       "\t<li>FALSE</li>\n",
       "</ol>\n"
      ],
      "text/latex": [
       "\\begin{enumerate*}\n",
       "\\item FALSE\n",
       "\\item FALSE\n",
       "\\item FALSE\n",
       "\\item TRUE\n",
       "\\item FALSE\n",
       "\\item FALSE\n",
       "\\item FALSE\n",
       "\\end{enumerate*}\n"
      ],
      "text/markdown": [
       "1. FALSE\n",
       "2. FALSE\n",
       "3. FALSE\n",
       "4. TRUE\n",
       "5. FALSE\n",
       "6. FALSE\n",
       "7. FALSE\n",
       "\n",
       "\n"
      ],
      "text/plain": [
       "[1] FALSE FALSE FALSE  TRUE FALSE FALSE FALSE"
      ]
     },
     "metadata": {},
     "output_type": "display_data"
    }
   ],
   "source": [
    "# Looking up word in each sentence\n",
    "str_detect(text_sent, \"tragedy\")"
   ]
  },
  {
   "cell_type": "code",
   "execution_count": 31,
   "metadata": {
    "slideshow": {
     "slide_type": "fragment"
    }
   },
   "outputs": [
    {
     "data": {
      "text/html": [
       "<ol class=list-inline>\n",
       "\t<li>0</li>\n",
       "\t<li>0</li>\n",
       "\t<li>0</li>\n",
       "\t<li>2</li>\n",
       "\t<li>0</li>\n",
       "\t<li>0</li>\n",
       "\t<li>0</li>\n",
       "</ol>\n"
      ],
      "text/latex": [
       "\\begin{enumerate*}\n",
       "\\item 0\n",
       "\\item 0\n",
       "\\item 0\n",
       "\\item 2\n",
       "\\item 0\n",
       "\\item 0\n",
       "\\item 0\n",
       "\\end{enumerate*}\n"
      ],
      "text/markdown": [
       "1. 0\n",
       "2. 0\n",
       "3. 0\n",
       "4. 2\n",
       "5. 0\n",
       "6. 0\n",
       "7. 0\n",
       "\n",
       "\n"
      ],
      "text/plain": [
       "[1] 0 0 0 2 0 0 0"
      ]
     },
     "metadata": {},
     "output_type": "display_data"
    }
   ],
   "source": [
    "# Counting word in each sentence\n",
    "str_count(text_sent, \"tragedy\")"
   ]
  },
  {
   "cell_type": "markdown",
   "metadata": {
    "slideshow": {
     "slide_type": "subslide"
    }
   },
   "source": [
    "### A note on indexing and booleans\n",
    "When inputting boolean valules as an index, R will only return the `TRUE` values.\n",
    "\n",
    "This means that we can use commands like `str_detect` to only return text elements containing specific words."
   ]
  },
  {
   "cell_type": "code",
   "execution_count": 32,
   "metadata": {
    "slideshow": {
     "slide_type": "fragment"
    }
   },
   "outputs": [
    {
     "data": {
      "text/html": [
       "' Certainly no one looking at Dorian Gray that night could have believed that he had passed through a tragedy as horrible as any tragedy of our age'"
      ],
      "text/latex": [
       "' Certainly no one looking at Dorian Gray that night could have believed that he had passed through a tragedy as horrible as any tragedy of our age'"
      ],
      "text/markdown": [
       "' Certainly no one looking at Dorian Gray that night could have believed that he had passed through a tragedy as horrible as any tragedy of our age'"
      ],
      "text/plain": [
       "[1] \" Certainly no one looking at Dorian Gray that night could have believed that he had passed through a tragedy as horrible as any tragedy of our age\""
      ]
     },
     "metadata": {},
     "output_type": "display_data"
    }
   ],
   "source": [
    "text_sent[str_detect(text_sent, \"tragedy\")]"
   ]
  },
  {
   "cell_type": "markdown",
   "metadata": {
    "slideshow": {
     "slide_type": "subslide"
    },
    "tags": []
   },
   "source": [
    "`str_subset` has combined this functionality in one function:"
   ]
  },
  {
   "cell_type": "code",
   "execution_count": 33,
   "metadata": {
    "slideshow": {
     "slide_type": "fragment"
    },
    "tags": []
   },
   "outputs": [
    {
     "data": {
      "text/html": [
       "' Certainly no one looking at Dorian Gray that night could have believed that he had passed through a tragedy as horrible as any tragedy of our age'"
      ],
      "text/latex": [
       "' Certainly no one looking at Dorian Gray that night could have believed that he had passed through a tragedy as horrible as any tragedy of our age'"
      ],
      "text/markdown": [
       "' Certainly no one looking at Dorian Gray that night could have believed that he had passed through a tragedy as horrible as any tragedy of our age'"
      ],
      "text/plain": [
       "[1] \" Certainly no one looking at Dorian Gray that night could have believed that he had passed through a tragedy as horrible as any tragedy of our age\""
      ]
     },
     "metadata": {},
     "output_type": "display_data"
    }
   ],
   "source": [
    "str_subset(text_sent, \"tragedy\")"
   ]
  },
  {
   "cell_type": "markdown",
   "metadata": {
    "slideshow": {
     "slide_type": "slide"
    }
   },
   "source": [
    "## EXERCISE 2: WORKING WITH A TEXT AS A VECTOR\n",
    "\n",
    "In the following, you will create a vector containing the sentences of the texts and then looking up certain words.\n",
    "\n",
    "Make sure you have the package `stringr` installed and loaded.\n",
    "\n",
    "1. Assign the following text snippet to an object:\n",
    "\n",
    "    \"Themis, who has already been alluded to as the wife of Zeus, was the daughter of Cronus and Rhea, and personified those divine laws of justice and order by means of which the well-being and morality of communities are regulated. She presided over the assemblies of the people and the laws of hospitality.\"\n",
    "    \n",
    "\n",
    "2. Convert the text snippet to a vector of senteces.\n",
    "    \n",
    "    a. Split the texts into sentences using `str_split(texts, pattern = \",\")`. Assign to an object (splitting at commas instead of periods).\n",
    "    \n",
    "    c. Unlist the object to convert to a vector using `unlist()`. Assign to the same or a new object.\n",
    "    \n",
    "    \n",
    "2. Use `str_subset()` to see extract sentences that contain the name \"Zeus\". "
   ]
  },
  {
   "cell_type": "markdown",
   "metadata": {
    "slideshow": {
     "slide_type": "slide"
    }
   },
   "source": [
    "## Regular expressions\n",
    "Often when working with text, we have more \"fuzzy\" patterns we want to search for. \n",
    "\n",
    "Regular expression is a common \"language\" for processing text patterns.\n",
    "\n",
    "`stringr` supports regular expression arguements.\n",
    "\n",
    "Possible uses:\n",
    "- Finding words of a certain length\n",
    "- Finding sentences containing a certain word or pattern\n",
    "- Finding words following a certain pattern\n",
    "- and so on.\n",
    "\n",
    "Regular expression (or \"regex\") can be used in most function in `stringr`. "
   ]
  },
  {
   "cell_type": "markdown",
   "metadata": {
    "slideshow": {
     "slide_type": "slide"
    }
   },
   "source": [
    "The function `str_subset()` creates a subset of elements with the strings containing the pattern."
   ]
  },
  {
   "cell_type": "code",
   "execution_count": 34,
   "metadata": {
    "slideshow": {
     "slide_type": "skip"
    }
   },
   "outputs": [
    {
     "data": {
      "text/html": [
       "<ol class=list-inline>\n",
       "\t<li>'That evening, at eight-thirty, exquisitely dressed and wearing a large button-hole of Parma violets, Dorian Gray was ushered into Lady Narborough’s drawing-room by bowing servants'</li>\n",
       "\t<li>' His forehead was throbbing with maddened nerves, and he felt wildly excited, but his manner as he bent over his hostess’s hand was as easy and graceful as ever'</li>\n",
       "\t<li>' Perhaps one never seems so much at one’s ease as when one has to play a part'</li>\n",
       "\t<li>' Certainly no one looking at Dorian Gray that night could have believed that he had passed through a tragedy as horrible as any tragedy of our age'</li>\n",
       "\t<li>' Those finely shaped fingers could never have clutched a knife for sin, nor those smiling lips have cried out on God and goodness'</li>\n",
       "\t<li>' He himself could not help wondering at the calm of his demeanour, and for a moment felt keenly the terrible pleasure of a double life'</li>\n",
       "\t<li>' '</li>\n",
       "</ol>\n"
      ],
      "text/latex": [
       "\\begin{enumerate*}\n",
       "\\item 'That evening, at eight-thirty, exquisitely dressed and wearing a large button-hole of Parma violets, Dorian Gray was ushered into Lady Narborough’s drawing-room by bowing servants'\n",
       "\\item ' His forehead was throbbing with maddened nerves, and he felt wildly excited, but his manner as he bent over his hostess’s hand was as easy and graceful as ever'\n",
       "\\item ' Perhaps one never seems so much at one’s ease as when one has to play a part'\n",
       "\\item ' Certainly no one looking at Dorian Gray that night could have believed that he had passed through a tragedy as horrible as any tragedy of our age'\n",
       "\\item ' Those finely shaped fingers could never have clutched a knife for sin, nor those smiling lips have cried out on God and goodness'\n",
       "\\item ' He himself could not help wondering at the calm of his demeanour, and for a moment felt keenly the terrible pleasure of a double life'\n",
       "\\item ' '\n",
       "\\end{enumerate*}\n"
      ],
      "text/markdown": [
       "1. 'That evening, at eight-thirty, exquisitely dressed and wearing a large button-hole of Parma violets, Dorian Gray was ushered into Lady Narborough’s drawing-room by bowing servants'\n",
       "2. ' His forehead was throbbing with maddened nerves, and he felt wildly excited, but his manner as he bent over his hostess’s hand was as easy and graceful as ever'\n",
       "3. ' Perhaps one never seems so much at one’s ease as when one has to play a part'\n",
       "4. ' Certainly no one looking at Dorian Gray that night could have believed that he had passed through a tragedy as horrible as any tragedy of our age'\n",
       "5. ' Those finely shaped fingers could never have clutched a knife for sin, nor those smiling lips have cried out on God and goodness'\n",
       "6. ' He himself could not help wondering at the calm of his demeanour, and for a moment felt keenly the terrible pleasure of a double life'\n",
       "7. ' '\n",
       "\n",
       "\n"
      ],
      "text/plain": [
       "[1] \"That evening, at eight-thirty, exquisitely dressed and wearing a large button-hole of Parma violets, Dorian Gray was ushered into Lady Narborough’s drawing-room by bowing servants\"\n",
       "[2] \" His forehead was throbbing with maddened nerves, and he felt wildly excited, but his manner as he bent over his hostess’s hand was as easy and graceful as ever\"                   \n",
       "[3] \" Perhaps one never seems so much at one’s ease as when one has to play a part\"                                                                                                      \n",
       "[4] \" Certainly no one looking at Dorian Gray that night could have believed that he had passed through a tragedy as horrible as any tragedy of our age\"                                 \n",
       "[5] \" Those finely shaped fingers could never have clutched a knife for sin, nor those smiling lips have cried out on God and goodness\"                                                  \n",
       "[6] \" He himself could not help wondering at the calm of his demeanour, and for a moment felt keenly the terrible pleasure of a double life\"                                             \n",
       "[7] \" \"                                                                                                                                                                                  "
      ]
     },
     "metadata": {},
     "output_type": "display_data"
    }
   ],
   "source": [
    "text_sent"
   ]
  },
  {
   "cell_type": "code",
   "execution_count": 35,
   "metadata": {
    "slideshow": {
     "slide_type": "fragment"
    }
   },
   "outputs": [
    {
     "data": {
      "text/html": [
       "<ol class=list-inline>\n",
       "\t<li>' His forehead was throbbing with maddened nerves, and he felt wildly excited, but his manner as he bent over his hostess’s hand was as easy and graceful as ever'</li>\n",
       "\t<li>' He himself could not help wondering at the calm of his demeanour, and for a moment felt keenly the terrible pleasure of a double life'</li>\n",
       "</ol>\n"
      ],
      "text/latex": [
       "\\begin{enumerate*}\n",
       "\\item ' His forehead was throbbing with maddened nerves, and he felt wildly excited, but his manner as he bent over his hostess’s hand was as easy and graceful as ever'\n",
       "\\item ' He himself could not help wondering at the calm of his demeanour, and for a moment felt keenly the terrible pleasure of a double life'\n",
       "\\end{enumerate*}\n"
      ],
      "text/markdown": [
       "1. ' His forehead was throbbing with maddened nerves, and he felt wildly excited, but his manner as he bent over his hostess’s hand was as easy and graceful as ever'\n",
       "2. ' He himself could not help wondering at the calm of his demeanour, and for a moment felt keenly the terrible pleasure of a double life'\n",
       "\n",
       "\n"
      ],
      "text/plain": [
       "[1] \" His forehead was throbbing with maddened nerves, and he felt wildly excited, but his manner as he bent over his hostess’s hand was as easy and graceful as ever\"\n",
       "[2] \" He himself could not help wondering at the calm of his demeanour, and for a moment felt keenly the terrible pleasure of a double life\"                          "
      ]
     },
     "metadata": {},
     "output_type": "display_data"
    }
   ],
   "source": [
    "# Return sentences containing either \"origin\" or \"before\"\n",
    "str_subset(text_sent, \"excited|wonder\")"
   ]
  },
  {
   "cell_type": "code",
   "execution_count": 36,
   "metadata": {
    "slideshow": {
     "slide_type": "fragment"
    }
   },
   "outputs": [
    {
     "data": {
      "text/html": [
       "<ol class=list-inline>\n",
       "\t<li>'That evening, at eight-thirty, exquisitely dressed and wearing a large button-hole of Parma violets, Dorian Gray was ushered into Lady Narborough’s drawing-room by bowing servants'</li>\n",
       "\t<li>' Certainly no one looking at Dorian Gray that night could have believed that he had passed through a tragedy as horrible as any tragedy of our age'</li>\n",
       "\t<li>' Those finely shaped fingers could never have clutched a knife for sin, nor those smiling lips have cried out on God and goodness'</li>\n",
       "</ol>\n"
      ],
      "text/latex": [
       "\\begin{enumerate*}\n",
       "\\item 'That evening, at eight-thirty, exquisitely dressed and wearing a large button-hole of Parma violets, Dorian Gray was ushered into Lady Narborough’s drawing-room by bowing servants'\n",
       "\\item ' Certainly no one looking at Dorian Gray that night could have believed that he had passed through a tragedy as horrible as any tragedy of our age'\n",
       "\\item ' Those finely shaped fingers could never have clutched a knife for sin, nor those smiling lips have cried out on God and goodness'\n",
       "\\end{enumerate*}\n"
      ],
      "text/markdown": [
       "1. 'That evening, at eight-thirty, exquisitely dressed and wearing a large button-hole of Parma violets, Dorian Gray was ushered into Lady Narborough’s drawing-room by bowing servants'\n",
       "2. ' Certainly no one looking at Dorian Gray that night could have believed that he had passed through a tragedy as horrible as any tragedy of our age'\n",
       "3. ' Those finely shaped fingers could never have clutched a knife for sin, nor those smiling lips have cried out on God and goodness'\n",
       "\n",
       "\n"
      ],
      "text/plain": [
       "[1] \"That evening, at eight-thirty, exquisitely dressed and wearing a large button-hole of Parma violets, Dorian Gray was ushered into Lady Narborough’s drawing-room by bowing servants\"\n",
       "[2] \" Certainly no one looking at Dorian Gray that night could have believed that he had passed through a tragedy as horrible as any tragedy of our age\"                                 \n",
       "[3] \" Those finely shaped fingers could never have clutched a knife for sin, nor those smiling lips have cried out on God and goodness\"                                                  "
      ]
     },
     "metadata": {},
     "output_type": "display_data"
    }
   ],
   "source": [
    "# Return sentences containing words with uppercase (not including the first word of the sentence).\n",
    "str_subset(text_sent, \"\\\\w.*[A-Z]\")"
   ]
  },
  {
   "cell_type": "markdown",
   "metadata": {
    "slideshow": {
     "slide_type": "slide"
    },
    "tags": []
   },
   "source": [
    "# Control structures in R\n",
    "\n",
    "R contains several control structures that can be implemented. \"Loops\" can for example be used to repeat commands over a range of values (a \"for loop\") or while a certain condition is met (a \"while loop\").\n",
    "\n",
    "Furthermore, if-else statements can be used to specify conditions that has to be met before certain commands are run."
   ]
  },
  {
   "cell_type": "markdown",
   "metadata": {
    "slideshow": {
     "slide_type": "slide"
    },
    "tags": []
   },
   "source": [
    "## For loops\n",
    "\n",
    "A for loop is used to repeat one or more commands over a range of values.\n",
    "\n",
    "Below a vector is created with some values. A for loop is then used to evaluate whether or not the value is above 5."
   ]
  },
  {
   "cell_type": "code",
   "execution_count": 37,
   "metadata": {
    "slideshow": {
     "slide_type": "fragment"
    },
    "tags": []
   },
   "outputs": [
    {
     "name": "stdout",
     "output_type": "stream",
     "text": [
      "[1] TRUE\n",
      "[1] TRUE\n",
      "[1] FALSE\n",
      "[1] TRUE\n",
      "[1] TRUE\n"
     ]
    }
   ],
   "source": [
    "values <- c(9, 10, 4, 91, 27)\n",
    "\n",
    "for (value in values){\n",
    "    print(value > 5)\n",
    "    }"
   ]
  },
  {
   "cell_type": "markdown",
   "metadata": {
    "slideshow": {
     "slide_type": "slide"
    },
    "tags": []
   },
   "source": [
    "Notice that the original vector is not affected by this particular for loop. \n",
    "\n",
    "When writing a for loop like the one above, the content of `value` changes with each iteration of the for loop (first 9, then 10, then 4 and so on).\n",
    "\n",
    "Note that the object `value` is actually written each time, meaning that `value` exists in the environment after the for loop has run."
   ]
  },
  {
   "cell_type": "code",
   "execution_count": 38,
   "metadata": {},
   "outputs": [
    {
     "name": "stdout",
     "output_type": "stream",
     "text": [
      "[1] 27\n"
     ]
    }
   ],
   "source": [
    "print(value)"
   ]
  },
  {
   "cell_type": "markdown",
   "metadata": {
    "slideshow": {
     "slide_type": "slide"
    },
    "tags": []
   },
   "source": [
    "Because `value` is created as a separate object, a for loop like the one above *cannot* be used to change the contents of the vector:"
   ]
  },
  {
   "cell_type": "code",
   "execution_count": 39,
   "metadata": {},
   "outputs": [
    {
     "name": "stdout",
     "output_type": "stream",
     "text": [
      "[1]  9 10  4 91 27\n"
     ]
    }
   ],
   "source": [
    "values <- c(9, 10, 4, 91, 27)\n",
    "\n",
    "# Try to replace each value with itself added 5\n",
    "for (value in values){\n",
    "    value <- value + 5\n",
    "    }\n",
    "\n",
    "print(values) # No change"
   ]
  },
  {
   "cell_type": "markdown",
   "metadata": {
    "slideshow": {
     "slide_type": "slide"
    },
    "tags": []
   },
   "source": [
    "If one wanted to change the actual content of a vector with a for loop, this can be done by iterating over the *index* of the vector instead:"
   ]
  },
  {
   "cell_type": "code",
   "execution_count": 40,
   "metadata": {},
   "outputs": [
    {
     "name": "stdout",
     "output_type": "stream",
     "text": [
      "[1] 14 15  9 96 32\n"
     ]
    }
   ],
   "source": [
    "values <- c(9, 10, 4, 91, 27)\n",
    "\n",
    "# Try to replace each value with itself added 5\n",
    "for (i in 1:length(values)){\n",
    "    values[i] <- values[i] + 5\n",
    "    }\n",
    "\n",
    "print(values)"
   ]
  },
  {
   "cell_type": "markdown",
   "metadata": {
    "slideshow": {
     "slide_type": "slide"
    },
    "tags": []
   },
   "source": [
    "## While loops\n",
    "\n",
    "Where for loops are limited by the input values for which to iterate over, while loops will keep running as long as a condition is met.\n",
    "\n",
    "*This means that it is possible to create infinite loops! Be careful if you want to use while loops.*"
   ]
  },
  {
   "cell_type": "code",
   "execution_count": 41,
   "metadata": {
    "slideshow": {
     "slide_type": "fragment"
    },
    "tags": []
   },
   "outputs": [
    {
     "name": "stdout",
     "output_type": "stream",
     "text": [
      "[1] \"x is 1 and the loop keeps going\"\n",
      "[1] \"x is 2 and the loop keeps going\"\n",
      "[1] \"x is 3 and the loop keeps going\"\n",
      "[1] \"x is 4 and the loop keeps going\"\n"
     ]
    }
   ],
   "source": [
    "x <- 1\n",
    "\n",
    "while (x < 5){\n",
    "    print(paste0(\"x is \", x, \" and the loop keeps going\"))\n",
    "    x <- x + 1\n",
    "    }"
   ]
  },
  {
   "cell_type": "code",
   "execution_count": 42,
   "metadata": {
    "slideshow": {
     "slide_type": "subslide"
    },
    "tags": []
   },
   "outputs": [
    {
     "name": "stdout",
     "output_type": "stream",
     "text": [
      "[1] \"the word is banana\"\n",
      "[1] \"the word is bananana\"\n",
      "[1] \"the word is banananana\"\n",
      "[1] \"the word is bananananana\"\n",
      "[1] \"the word is banananananana\"\n",
      "[1] \"the word is bananananananana\"\n",
      "[1] \"the word is banananananananana\"\n",
      "[1] \"the word is bananananananananana\"\n",
      "[1] \"the word is banananananananananana\"\n"
     ]
    }
   ],
   "source": [
    "fruit <- \"banana\"\n",
    "\n",
    "while (nchar(fruit) <= 22){\n",
    "    print(paste0(\"the word is \", fruit))\n",
    "    fruit <- paste0(fruit, \"na\")\n",
    "    }"
   ]
  },
  {
   "cell_type": "markdown",
   "metadata": {
    "slideshow": {
     "slide_type": "slide"
    },
    "tags": []
   },
   "source": [
    "## If-else statements\n",
    "\n",
    "If-else statements allows one to set conditions that has to be met before code is run. \n",
    "\n",
    "The most basic structure contains an \"if\" block\" and an \"else\" block. The \"if\" block contains the code to be run if the condition set is met, while the \"else\" block is run in any other instance."
   ]
  },
  {
   "cell_type": "code",
   "execution_count": 43,
   "metadata": {
    "slideshow": {
     "slide_type": "fragment"
    },
    "tags": []
   },
   "outputs": [
    {
     "name": "stdout",
     "output_type": "stream",
     "text": [
      "[1] \"The number is larger than 10!\"\n"
     ]
    }
   ],
   "source": [
    "x <- 12\n",
    "\n",
    "if (x > 10){\n",
    "    print(\"The number is larger than 10!\")\n",
    "    } else {\n",
    "    print(\"The number is not larger than 10!\")\n",
    "    }"
   ]
  },
  {
   "cell_type": "markdown",
   "metadata": {
    "slideshow": {
     "slide_type": "slide"
    },
    "tags": []
   },
   "source": [
    "It is possibly to specify several conditions using `else if`. The code is evaluated in order, meaning that as soon as the condition is met, it will run that block of code. "
   ]
  },
  {
   "cell_type": "code",
   "execution_count": 44,
   "metadata": {
    "slideshow": {
     "slide_type": "fragment"
    },
    "tags": []
   },
   "outputs": [
    {
     "name": "stdout",
     "output_type": "stream",
     "text": [
      "[1] \"The number is larger than 5!\"\n"
     ]
    }
   ],
   "source": [
    "x <- 7\n",
    "\n",
    "if (x > 10){\n",
    "    print(\"The number is larger than 10!\")\n",
    "    } else if (x > 5) {\n",
    "    print(\"The number is larger than 5!\")\n",
    "    } else {\n",
    "    print(\"The number is not larger than 5!\")\n",
    "    }"
   ]
  },
  {
   "cell_type": "markdown",
   "metadata": {
    "slideshow": {
     "slide_type": "slide"
    },
    "tags": []
   },
   "source": [
    "Because the code is run the first time a condition is met, other blocks are disregarded even though they also meet the condition."
   ]
  },
  {
   "cell_type": "code",
   "execution_count": 45,
   "metadata": {
    "slideshow": {
     "slide_type": "fragment"
    },
    "tags": []
   },
   "outputs": [
    {
     "name": "stdout",
     "output_type": "stream",
     "text": [
      "[1] \"The number is larger than 10!\"\n"
     ]
    }
   ],
   "source": [
    "x <- 11\n",
    "\n",
    "if (x > 10){ # This condition is met - run the code below\n",
    "    print(\"The number is larger than 10!\")\n",
    "    } else if (x > 5) {\n",
    "    print(\"The number is larger than 5!\") # This condition is also met but the code is not run\n",
    "    } else {\n",
    "    print(\"The number is not larger than 5!\")\n",
    "    }"
   ]
  },
  {
   "cell_type": "markdown",
   "metadata": {
    "slideshow": {
     "slide_type": "slide"
    },
    "tags": []
   },
   "source": [
    "## If-statements and for loops\n",
    "\n",
    "If statements are useful when combined with other control structures. By combining for loops and if-statements, one can write code where the commands executed in the for loop differs based on a condition:"
   ]
  },
  {
   "cell_type": "code",
   "execution_count": 46,
   "metadata": {
    "slideshow": {
     "slide_type": "slide"
    },
    "tags": []
   },
   "outputs": [
    {
     "name": "stdout",
     "output_type": "stream",
     "text": [
      "[1] \"1 is not an equal value!\"\n",
      "[1] \"2 is an equal value!\"\n",
      "[1] \"3 is not an equal value!\"\n",
      "[1] \"4 is an equal value!\"\n",
      "[1] \"5 is not an equal value!\"\n",
      "[1] \"6 is an equal value!\"\n",
      "[1] \"7 is not an equal value!\"\n",
      "[1] \"8 is an equal value!\"\n",
      "[1] \"9 is not an equal value!\"\n",
      "[1] \"10 is an equal value!\"\n"
     ]
    }
   ],
   "source": [
    "values <- c(1:10)\n",
    "\n",
    "for (value in values){\n",
    "    if (value %% 2 == 0){\n",
    "        print(paste0(value, \" is an equal value!\"))\n",
    "        } else {\n",
    "        print(paste0(value, \" is not an equal value!\"))\n",
    "        }\n",
    "    }"
   ]
  },
  {
   "cell_type": "markdown",
   "metadata": {
    "slideshow": {
     "slide_type": "slide"
    },
    "tags": []
   },
   "source": [
    "# EXERCISE 3: CONTROL STRUCTURES\n",
    "\n",
    "- Create a vector of words: `words <- c(\"potato\", \"cat\", \"dog\", \"monitor\", \"carpenter\", \"mouse\", \"refrigerator\")`\n",
    "\n",
    "- Write a for loop that only prints the words with more than 5 characters (the function `nchar` returns the number of characters in a word)."
   ]
  },
  {
   "cell_type": "code",
   "execution_count": 47,
   "metadata": {
    "slideshow": {
     "slide_type": "subslide"
    },
    "tags": []
   },
   "outputs": [
    {
     "name": "stdout",
     "output_type": "stream",
     "text": [
      "[1] \"potato\"\n",
      "[1] \"monitor\"\n",
      "[1] \"carpenter\"\n",
      "[1] \"refrigerator\"\n"
     ]
    }
   ],
   "source": [
    "words <- c(\"potato\", \"cat\", \"dog\", \"monitor\", \"carpenter\", \"mouse\", \"refrigerator\")\n",
    "\n",
    "for (word in words){\n",
    "    if (nchar(word) > 5) {\n",
    "        print(word)\n",
    "        } else {\n",
    "        }\n",
    "    }"
   ]
  },
  {
   "cell_type": "markdown",
   "metadata": {
    "slideshow": {
     "slide_type": "slide"
    },
    "tags": []
   },
   "source": [
    "# Functions in R\n",
    "\n",
    "Functions are commands used to transform an object in some way and return an output.\n",
    "\n",
    "The input to a function is an \"argument\". The number of arguments vary between functions.\n",
    "\n",
    "Functions have the basic syntax: `function(arg1, arg2, arg3)`."
   ]
  },
  {
   "cell_type": "markdown",
   "metadata": {
    "slideshow": {
     "slide_type": "slide"
    },
    "tags": []
   },
   "source": [
    "## Functions and their arguments\n",
    "\n",
    "Arguments can both be required or optional. Required arguments are arguments the function needs in order to return an output.\n",
    "\n",
    "**Required arguments**\n",
    "\n",
    "In the base function `mean()`, `x` (the object to calculate the mean of) is an required argument. If we try to run the function without, it will return an error:"
   ]
  },
  {
   "cell_type": "code",
   "execution_count": 48,
   "metadata": {
    "slideshow": {
     "slide_type": "fragment"
    },
    "tags": []
   },
   "outputs": [
    {
     "ename": "ERROR",
     "evalue": "Error in mean.default(): argument \"x\" is missing, with no default\n",
     "output_type": "error",
     "traceback": [
      "Error in mean.default(): argument \"x\" is missing, with no default\nTraceback:\n",
      "1. mean()",
      "2. mean.default()"
     ]
    }
   ],
   "source": [
    "mean()"
   ]
  },
  {
   "cell_type": "markdown",
   "metadata": {
    "slideshow": {
     "slide_type": "slide"
    },
    "tags": []
   },
   "source": [
    "The function needs `x` to work:"
   ]
  },
  {
   "cell_type": "code",
   "execution_count": 49,
   "metadata": {},
   "outputs": [
    {
     "data": {
      "text/html": [
       "8.5"
      ],
      "text/latex": [
       "8.5"
      ],
      "text/markdown": [
       "8.5"
      ],
      "text/plain": [
       "[1] 8.5"
      ]
     },
     "metadata": {},
     "output_type": "display_data"
    }
   ],
   "source": [
    "numbers <- c(2, 9, 10, 13)\n",
    "mean(numbers)"
   ]
  },
  {
   "cell_type": "markdown",
   "metadata": {
    "slideshow": {
     "slide_type": "slide"
    },
    "tags": []
   },
   "source": [
    "**Optional arguments**\n",
    "\n",
    "Optional arguments are additional arguments that can be given to a function. Often times these arguments can be seen as \"settings\" for the function, changing a certain way the function behaves. Optional arguments always have a default value. The default values of the optional arguments can be seen in the documentation of the function.\n",
    "\n",
    "The base function `mean()`, the argument `na.rm` is an optional argument. The default value can be inspected either by looking up the documentation (`?mean`) or by inspecting the source code itself.\n",
    "\n",
    "The source code of a function can be inspected by simply inputting the function name in the console (in Rstudio, it is also possible to inspect the source code by placing the cursor inside the function and pressing F2). \n",
    "\n",
    "(NOTE: `mean()` automatically calls `mean.default()`, which contain the actual source code)."
   ]
  },
  {
   "cell_type": "code",
   "execution_count": 50,
   "metadata": {
    "slideshow": {
     "slide_type": "slide"
    },
    "tags": []
   },
   "outputs": [
    {
     "data": {
      "text/html": [
       "<pre class=language-r><code>function (x, trim = 0, na.rm = FALSE, ...) \n",
       "{\n",
       "<span style=white-space:pre-wrap>    if (!is.numeric(x) &amp;&amp; !is.complex(x) &amp;&amp; !is.logical(x)) {</span>\n",
       "<span style=white-space:pre-wrap>        warning(\"argument is not numeric or logical: returning NA\")</span>\n",
       "<span style=white-space:pre-wrap>        return(NA_real_)</span>\n",
       "<span style=white-space:pre-wrap>    }</span>\n",
       "<span style=white-space:pre-wrap>    if (na.rm) </span>\n",
       "<span style=white-space:pre-wrap>        x &lt;- x[!is.na(x)]</span>\n",
       "<span style=white-space:pre-wrap>    if (!is.numeric(trim) || length(trim) != 1L) </span>\n",
       "<span style=white-space:pre-wrap>        stop(\"'trim' must be numeric of length one\")</span>\n",
       "<span style=white-space:pre-wrap>    n &lt;- length(x)</span>\n",
       "<span style=white-space:pre-wrap>    if (trim &gt; 0 &amp;&amp; n) {</span>\n",
       "<span style=white-space:pre-wrap>        if (is.complex(x)) </span>\n",
       "<span style=white-space:pre-wrap>            stop(\"trimmed means are not defined for complex data\")</span>\n",
       "<span style=white-space:pre-wrap>        if (anyNA(x)) </span>\n",
       "<span style=white-space:pre-wrap>            return(NA_real_)</span>\n",
       "<span style=white-space:pre-wrap>        if (trim &gt;= 0.5) </span>\n",
       "<span style=white-space:pre-wrap>            return(stats::median(x, na.rm = FALSE))</span>\n",
       "<span style=white-space:pre-wrap>        lo &lt;- floor(n * trim) + 1</span>\n",
       "<span style=white-space:pre-wrap>        hi &lt;- n + 1 - lo</span>\n",
       "<span style=white-space:pre-wrap>        x &lt;- sort.int(x, partial = unique(c(lo, hi)))[lo:hi]</span>\n",
       "<span style=white-space:pre-wrap>    }</span>\n",
       "<span style=white-space:pre-wrap>    .Internal(mean(x))</span>\n",
       "}</code></pre>"
      ],
      "text/latex": [
       "\\begin{minted}{r}\n",
       "function (x, trim = 0, na.rm = FALSE, ...) \n",
       "\\{\n",
       "    if (!is.numeric(x) \\&\\& !is.complex(x) \\&\\& !is.logical(x)) \\{\n",
       "        warning(\"argument is not numeric or logical: returning NA\")\n",
       "        return(NA\\_real\\_)\n",
       "    \\}\n",
       "    if (na.rm) \n",
       "        x <- x{[}!is.na(x){]}\n",
       "    if (!is.numeric(trim) \\textbar{}\\textbar{} length(trim) != 1L) \n",
       "        stop(\"'trim' must be numeric of length one\")\n",
       "    n <- length(x)\n",
       "    if (trim > 0 \\&\\& n) \\{\n",
       "        if (is.complex(x)) \n",
       "            stop(\"trimmed means are not defined for complex data\")\n",
       "        if (anyNA(x)) \n",
       "            return(NA\\_real\\_)\n",
       "        if (trim >= 0.5) \n",
       "            return(stats::median(x, na.rm = FALSE))\n",
       "        lo <- floor(n * trim) + 1\n",
       "        hi <- n + 1 - lo\n",
       "        x <- sort.int(x, partial = unique(c(lo, hi))){[}lo:hi{]}\n",
       "    \\}\n",
       "    .Internal(mean(x))\n",
       "\\}\n",
       "\\end{minted}"
      ],
      "text/markdown": [
       "```r\n",
       "function (x, trim = 0, na.rm = FALSE, ...) \n",
       "{\n",
       "    if (!is.numeric(x) && !is.complex(x) && !is.logical(x)) {\n",
       "        warning(\"argument is not numeric or logical: returning NA\")\n",
       "        return(NA_real_)\n",
       "    }\n",
       "    if (na.rm) \n",
       "        x <- x[!is.na(x)]\n",
       "    if (!is.numeric(trim) || length(trim) != 1L) \n",
       "        stop(\"'trim' must be numeric of length one\")\n",
       "    n <- length(x)\n",
       "    if (trim > 0 && n) {\n",
       "        if (is.complex(x)) \n",
       "            stop(\"trimmed means are not defined for complex data\")\n",
       "        if (anyNA(x)) \n",
       "            return(NA_real_)\n",
       "        if (trim >= 0.5) \n",
       "            return(stats::median(x, na.rm = FALSE))\n",
       "        lo <- floor(n * trim) + 1\n",
       "        hi <- n + 1 - lo\n",
       "        x <- sort.int(x, partial = unique(c(lo, hi)))[lo:hi]\n",
       "    }\n",
       "    .Internal(mean(x))\n",
       "}\n",
       "```"
      ],
      "text/plain": [
       "function (x, trim = 0, na.rm = FALSE, ...) \n",
       "{\n",
       "    if (!is.numeric(x) && !is.complex(x) && !is.logical(x)) {\n",
       "        warning(\"argument is not numeric or logical: returning NA\")\n",
       "        return(NA_real_)\n",
       "    }\n",
       "    if (na.rm) \n",
       "        x <- x[!is.na(x)]\n",
       "    if (!is.numeric(trim) || length(trim) != 1L) \n",
       "        stop(\"'trim' must be numeric of length one\")\n",
       "    n <- length(x)\n",
       "    if (trim > 0 && n) {\n",
       "        if (is.complex(x)) \n",
       "            stop(\"trimmed means are not defined for complex data\")\n",
       "        if (anyNA(x)) \n",
       "            return(NA_real_)\n",
       "        if (trim >= 0.5) \n",
       "            return(stats::median(x, na.rm = FALSE))\n",
       "        lo <- floor(n * trim) + 1\n",
       "        hi <- n + 1 - lo\n",
       "        x <- sort.int(x, partial = unique(c(lo, hi)))[lo:hi]\n",
       "    }\n",
       "    .Internal(mean(x))\n",
       "}\n",
       "<bytecode: 0x00000000423e50b0>\n",
       "<environment: namespace:base>"
      ]
     },
     "metadata": {},
     "output_type": "display_data"
    }
   ],
   "source": [
    "mean.default"
   ]
  },
  {
   "cell_type": "markdown",
   "metadata": {
    "slideshow": {
     "slide_type": "slide"
    },
    "tags": []
   },
   "source": [
    "As can be seen in the source code, the argument `na.rm` is set to `FALSE`. The documentation describes what the argument does (\"a logical value indicating whether NA values should be stripped before the computation proceeds\").\n",
    "\n",
    "The default value can be changed simply by passing the argument when calling the function, as long as the input given is valid for the argument. The documentation describes what inputs are valid for the argument. In the case of `na.rm`, a boolean value is a valid input (`TRUE` or `FALSE`)."
   ]
  },
  {
   "cell_type": "code",
   "execution_count": 51,
   "metadata": {
    "slideshow": {
     "slide_type": "fragment"
    },
    "tags": []
   },
   "outputs": [
    {
     "data": {
      "text/html": [
       "&lt;NA&gt;"
      ],
      "text/latex": [
       "<NA>"
      ],
      "text/markdown": [
       "&lt;NA&gt;"
      ],
      "text/plain": [
       "[1] NA"
      ]
     },
     "metadata": {},
     "output_type": "display_data"
    },
    {
     "data": {
      "text/html": [
       "8.5"
      ],
      "text/latex": [
       "8.5"
      ],
      "text/markdown": [
       "8.5"
      ],
      "text/plain": [
       "[1] 8.5"
      ]
     },
     "metadata": {},
     "output_type": "display_data"
    }
   ],
   "source": [
    "numbers <- c(2, 9, 10, 13, NA)\n",
    "mean(numbers) # With default\n",
    "\n",
    "mean(numbers, na.rm = TRUE) # Default changed"
   ]
  },
  {
   "cell_type": "markdown",
   "metadata": {
    "slideshow": {
     "slide_type": "slide"
    },
    "tags": []
   },
   "source": [
    "### Specifying arguments\n",
    "\n",
    "Notice that it is often not necessary to specify the name of the argument. As long as the arguments are specified in the right order (the one given in the documentation), simply the input values can be given. This is why it is not necessary to specify `x` when using `mean()`:"
   ]
  },
  {
   "cell_type": "code",
   "execution_count": 52,
   "metadata": {
    "slideshow": {
     "slide_type": "fragment"
    },
    "tags": []
   },
   "outputs": [
    {
     "data": {
      "text/html": [
       "8.5"
      ],
      "text/latex": [
       "8.5"
      ],
      "text/markdown": [
       "8.5"
      ],
      "text/plain": [
       "[1] 8.5"
      ]
     },
     "metadata": {},
     "output_type": "display_data"
    },
    {
     "data": {
      "text/html": [
       "8.5"
      ],
      "text/latex": [
       "8.5"
      ],
      "text/markdown": [
       "8.5"
      ],
      "text/plain": [
       "[1] 8.5"
      ]
     },
     "metadata": {},
     "output_type": "display_data"
    }
   ],
   "source": [
    "numbers <- c(2, 9, 10, 13)\n",
    "mean(numbers) # Works\n",
    "\n",
    "mean(x = numbers) # Also works"
   ]
  },
  {
   "cell_type": "markdown",
   "metadata": {
    "slideshow": {
     "slide_type": "slide"
    },
    "tags": []
   },
   "source": [
    "When arguments are not named, R assumes that the arguments are specified in order. If one names the arguments, it can be put in any order:"
   ]
  },
  {
   "cell_type": "code",
   "execution_count": 53,
   "metadata": {
    "slideshow": {
     "slide_type": "fragment"
    },
    "tags": []
   },
   "outputs": [
    {
     "ename": "ERROR",
     "evalue": "Error in mean.default(TRUE, numbers): 'trim' must be numeric of length one\n",
     "output_type": "error",
     "traceback": [
      "Error in mean.default(TRUE, numbers): 'trim' must be numeric of length one\nTraceback:\n",
      "1. mean(TRUE, numbers)",
      "2. mean.default(TRUE, numbers)",
      "3. stop(\"'trim' must be numeric of length one\")"
     ]
    }
   ],
   "source": [
    "numbers <- c(2, 9, 10, 13, NA)\n",
    "mean(TRUE, numbers) # Does not work"
   ]
  },
  {
   "cell_type": "code",
   "execution_count": 54,
   "metadata": {
    "slideshow": {
     "slide_type": "fragment"
    },
    "tags": []
   },
   "outputs": [
    {
     "data": {
      "text/html": [
       "8.5"
      ],
      "text/latex": [
       "8.5"
      ],
      "text/markdown": [
       "8.5"
      ],
      "text/plain": [
       "[1] 8.5"
      ]
     },
     "metadata": {},
     "output_type": "display_data"
    }
   ],
   "source": [
    "mean(na.rm = TRUE, x = numbers) # Does work"
   ]
  },
  {
   "cell_type": "markdown",
   "metadata": {
    "slideshow": {
     "slide_type": "slide"
    },
    "tags": []
   },
   "source": [
    "## EXERCISE 4: FUNCTIONS AND THEIR ARGUMENTS\n",
    "\n",
    "- Inspect the documentation for `str_detect`. What arguments does the function require and what are optional?\n",
    "\n",
    "- The function `head()` is used to return the first 6 rows of a dataframe. Is there a way to make the function return more than 6 rows?"
   ]
  },
  {
   "cell_type": "markdown",
   "metadata": {
    "slideshow": {
     "slide_type": "slide"
    },
    "tags": []
   },
   "source": [
    "## Creating functions in R\n",
    "\n",
    "Functions can be created like any other object in R. A function consists of arguments, some code to be executed and a return statement indicating what the function should return.\n",
    "\n",
    "The code below creates a function for adding 5 to a number:"
   ]
  },
  {
   "cell_type": "code",
   "execution_count": 1,
   "metadata": {
    "slideshow": {
     "slide_type": "fragment"
    },
    "tags": []
   },
   "outputs": [],
   "source": [
    "add5 <- function(x) {\n",
    "    result = x + 5\n",
    "    return(result)\n",
    "    }"
   ]
  },
  {
   "cell_type": "markdown",
   "metadata": {
    "slideshow": {
     "slide_type": "slide"
    },
    "tags": []
   },
   "source": [
    "Running the code does not return any output but makes the function available in the environment:"
   ]
  },
  {
   "cell_type": "code",
   "execution_count": 19,
   "metadata": {
    "slideshow": {
     "slide_type": "fragment"
    },
    "tags": []
   },
   "outputs": [
    {
     "data": {
      "text/html": [
       "15"
      ],
      "text/latex": [
       "15"
      ],
      "text/markdown": [
       "15"
      ],
      "text/plain": [
       "[1] 15"
      ]
     },
     "metadata": {},
     "output_type": "display_data"
    }
   ],
   "source": [
    "add5(10)"
   ]
  },
  {
   "cell_type": "markdown",
   "metadata": {
    "slideshow": {
     "slide_type": "slide"
    },
    "tags": []
   },
   "source": [
    "**Several arguments**\n",
    "\n",
    "Just like existing functions, any number of arguments can be added to a function. Below the function is changed to simply add two input numbers:"
   ]
  },
  {
   "cell_type": "code",
   "execution_count": 21,
   "metadata": {
    "slideshow": {
     "slide_type": "fragment"
    },
    "tags": []
   },
   "outputs": [
    {
     "data": {
      "text/html": [
       "16"
      ],
      "text/latex": [
       "16"
      ],
      "text/markdown": [
       "16"
      ],
      "text/plain": [
       "[1] 16"
      ]
     },
     "metadata": {},
     "output_type": "display_data"
    }
   ],
   "source": [
    "add2num <- function(x, y){\n",
    "    result = x + y\n",
    "    return(result)\n",
    "    }\n",
    "\n",
    "add2num(7, 9)"
   ]
  },
  {
   "cell_type": "markdown",
   "metadata": {
    "slideshow": {
     "slide_type": "slide"
    },
    "tags": []
   },
   "source": [
    "**Optional arguments in own functions**\n",
    "\n",
    "Optional arguments can be created simply by specifying a default value for the function. Below the function is changed to have the second number be 10 by default but it can still be changed when using the function:"
   ]
  },
  {
   "cell_type": "code",
   "execution_count": 24,
   "metadata": {
    "slideshow": {
     "slide_type": "fragment"
    },
    "tags": []
   },
   "outputs": [
    {
     "data": {
      "text/html": [
       "17"
      ],
      "text/latex": [
       "17"
      ],
      "text/markdown": [
       "17"
      ],
      "text/plain": [
       "[1] 17"
      ]
     },
     "metadata": {},
     "output_type": "display_data"
    },
    {
     "data": {
      "text/html": [
       "15"
      ],
      "text/latex": [
       "15"
      ],
      "text/markdown": [
       "15"
      ],
      "text/plain": [
       "[1] 15"
      ]
     },
     "metadata": {},
     "output_type": "display_data"
    }
   ],
   "source": [
    "add2num <- function(x, y = 10){\n",
    "    result = x + y\n",
    "    return(result)\n",
    "    }\n",
    "\n",
    "add2num(7) # Using the default value\n",
    "\n",
    "add2num(7, 8) # Changing the default value"
   ]
  },
  {
   "cell_type": "markdown",
   "metadata": {
    "slideshow": {
     "slide_type": "slide"
    },
    "tags": []
   },
   "source": [
    "**The return statement**\n",
    "\n",
    "The return statement indicates what the function should return. Without a return statement, the function returns no ouput:"
   ]
  },
  {
   "cell_type": "code",
   "execution_count": 25,
   "metadata": {
    "slideshow": {
     "slide_type": "fragment"
    },
    "tags": []
   },
   "outputs": [],
   "source": [
    "add2num <- function(x, y = 10){\n",
    "    result = x + y\n",
    "    }\n",
    "\n",
    "add2num(7) # No return statement - no output"
   ]
  },
  {
   "cell_type": "markdown",
   "metadata": {
    "slideshow": {
     "slide_type": "slide"
    },
    "tags": []
   },
   "source": [
    "The return statement also marks the end of the function; meaning that the function will stop execution when reaching a return statement (i.e. code following a return statement is ignored):"
   ]
  },
  {
   "cell_type": "code",
   "execution_count": 26,
   "metadata": {
    "slideshow": {
     "slide_type": "fragment"
    },
    "tags": []
   },
   "outputs": [
    {
     "name": "stdout",
     "output_type": "stream",
     "text": [
      "[1] \"This is included in the function\"\n"
     ]
    },
    {
     "data": {
      "text/html": [
       "17"
      ],
      "text/latex": [
       "17"
      ],
      "text/markdown": [
       "17"
      ],
      "text/plain": [
       "[1] 17"
      ]
     },
     "metadata": {},
     "output_type": "display_data"
    }
   ],
   "source": [
    "add2num <- function(x, y = 10){\n",
    "    result = x + y\n",
    "    print(\"This is included in the function\")\n",
    "    \n",
    "    return(result)\n",
    "    \n",
    "    print(\"This is not included in the function\")\n",
    "    \n",
    "    }\n",
    "\n",
    "add2num(7) # No return statement - no output"
   ]
  },
  {
   "cell_type": "markdown",
   "metadata": {
    "slideshow": {
     "slide_type": "slide"
    },
    "tags": []
   },
   "source": [
    "**Objects inside functions**\n",
    "\n",
    "Objects created inside a function only exists while the function is run; i.e. the objects are not created outside of the function and does not become part of the accessible environment:"
   ]
  },
  {
   "cell_type": "code",
   "execution_count": 32,
   "metadata": {
    "slideshow": {
     "slide_type": "fragment"
    },
    "tags": []
   },
   "outputs": [
    {
     "ename": "ERROR",
     "evalue": "Error in eval(expr, envir, enclos): objekt 'result' blev ikke fundet\n",
     "output_type": "error",
     "traceback": [
      "Error in eval(expr, envir, enclos): objekt 'result' blev ikke fundet\nTraceback:\n"
     ]
    }
   ],
   "source": [
    "result # Does not exist - only created inside the function"
   ]
  },
  {
   "cell_type": "markdown",
   "metadata": {
    "slideshow": {
     "slide_type": "slide"
    },
    "tags": []
   },
   "source": [
    "### Functions and control structures\n",
    "\n",
    "Control structures like if-else statements can easily be incorporated in a function. In a previous example an if-else statement was used to check wheter a number is larger than 10. This could be written as a function instead:"
   ]
  },
  {
   "cell_type": "code",
   "execution_count": 28,
   "metadata": {
    "slideshow": {
     "slide_type": "fragment"
    },
    "tags": []
   },
   "outputs": [
    {
     "name": "stdout",
     "output_type": "stream",
     "text": [
      "[1] \"The number is larger than 10!\"\n"
     ]
    }
   ],
   "source": [
    "isabove10 <- function(x){\n",
    "    if (x > 10){\n",
    "        print(\"The number is larger than 10!\")\n",
    "    } else {\n",
    "        print(\"The number is not larger than 10!\")\n",
    "    }\n",
    "    } \n",
    "\n",
    "isabove10(12)"
   ]
  },
  {
   "cell_type": "markdown",
   "metadata": {
    "slideshow": {
     "slide_type": "fragment"
    },
    "tags": []
   },
   "source": [
    "Note that this function does not contain a return statement because it simply prints text telling whether or not the number is larger than 10."
   ]
  },
  {
   "cell_type": "markdown",
   "metadata": {
    "slideshow": {
     "slide_type": "slide"
    },
    "tags": []
   },
   "source": [
    "### Functions in functions\n",
    "\n",
    "When writing functions, it is possible to incorporate other functions. This allows one to fx create so-called \"wrapper functions\": functions that use existing functions but with different settings. (`read_csv` from the package `readr` is fx a wrapper function of `read_delim`).\n",
    "\n",
    "Here is a simple wrapper function for the `head()` function with a different default:"
   ]
  },
  {
   "cell_type": "code",
   "execution_count": 2,
   "metadata": {
    "slideshow": {
     "slide_type": "subslide"
    },
    "tags": []
   },
   "outputs": [],
   "source": [
    "head10 <- function(x, n = 10){\n",
    "    head(x, n)\n",
    "    }"
   ]
  },
  {
   "cell_type": "code",
   "execution_count": 30,
   "metadata": {
    "slideshow": {
     "slide_type": "subslide"
    },
    "tags": []
   },
   "outputs": [
    {
     "name": "stderr",
     "output_type": "stream",
     "text": [
      "Parsed with column specification:\n",
      "cols(\n",
      "  idno = col_double(),\n",
      "  netustm = col_double(),\n",
      "  ppltrst = col_double(),\n",
      "  vote = col_character(),\n",
      "  prtvtddk = col_character(),\n",
      "  lvpntyr = col_character(),\n",
      "  tygrtr = col_character(),\n",
      "  gndr = col_character(),\n",
      "  yrbrn = col_double(),\n",
      "  edlvddk = col_character(),\n",
      "  eduyrs = col_double(),\n",
      "  wkhct = col_double(),\n",
      "  wkhtot = col_double(),\n",
      "  grspnum = col_double(),\n",
      "  frlgrsp = col_double(),\n",
      "  inwtm = col_double()\n",
      ")\n"
     ]
    },
    {
     "data": {
      "text/html": [
       "<table>\n",
       "<thead><tr><th scope=col>idno</th><th scope=col>netustm</th><th scope=col>ppltrst</th><th scope=col>vote</th><th scope=col>prtvtddk</th><th scope=col>lvpntyr</th><th scope=col>tygrtr</th><th scope=col>gndr</th><th scope=col>yrbrn</th><th scope=col>edlvddk</th><th scope=col>eduyrs</th><th scope=col>wkhct</th><th scope=col>wkhtot</th><th scope=col>grspnum</th><th scope=col>frlgrsp</th><th scope=col>inwtm</th></tr></thead>\n",
       "<tbody>\n",
       "\t<tr><td>  110                                                                         </td><td>180                                                                           </td><td>8                                                                             </td><td>Yes                                                                           </td><td>Socialdemokratiet - The Social democrats                                      </td><td>1968                                                                          </td><td>Never too young                                                               </td><td>Male                                                                          </td><td>1949                                                                          </td><td>Kort videregående uddannelse af op til 2-3 års varighed, F.eks. Erhvervsakadem</td><td> 9                                                                            </td><td>28                                                                            </td><td>28                                                                            </td><td>   NA                                                                         </td><td>   NA                                                                         </td><td>119                                                                           </td></tr>\n",
       "\t<tr><td>  705                                                                         </td><td> 60                                                                           </td><td>5                                                                             </td><td>Yes                                                                           </td><td>Det Konservative Folkeparti - Conservative People's Party                     </td><td>1976                                                                          </td><td>67                                                                            </td><td>Male                                                                          </td><td>1958                                                                          </td><td>Kort videregående uddannelse af op til 2-3 års varighed, F.eks. Erhvervsakadem</td><td>22                                                                            </td><td>37                                                                            </td><td>45                                                                            </td><td>   NA                                                                         </td><td>   NA                                                                         </td><td> 55                                                                           </td></tr>\n",
       "\t<tr><td> 1327                                                                         </td><td>240                                                                           </td><td>5                                                                             </td><td>NA                                                                            </td><td>NA                                                                            </td><td>Still in parental home, never left 2 months                                   </td><td>NA                                                                            </td><td>Male                                                                          </td><td>2000                                                                          </td><td>Folkeskole 9.-10. klasse                                                      </td><td>11                                                                            </td><td>37                                                                            </td><td>37                                                                            </td><td>   NA                                                                         </td><td>   NA                                                                         </td><td> 37                                                                           </td></tr>\n",
       "\t<tr><td> 3760                                                                         </td><td>300                                                                           </td><td>7                                                                             </td><td>Not eligible to vote                                                          </td><td>NA                                                                            </td><td>Still in parental home, never left 2 months                                   </td><td>40                                                                            </td><td>Male                                                                          </td><td>2002                                                                          </td><td>Folkeskole 9.-10. klasse                                                      </td><td> 9                                                                            </td><td> 2                                                                            </td><td> 2                                                                            </td><td>  200                                                                         </td><td>   NA                                                                         </td><td> 43                                                                           </td></tr>\n",
       "\t<tr><td> 4658                                                                         </td><td> 90                                                                           </td><td>8                                                                             </td><td>Yes                                                                           </td><td>NA                                                                            </td><td>1974                                                                          </td><td>50                                                                            </td><td>Female                                                                        </td><td>1956                                                                          </td><td>Kort videregående uddannelse af op til 2-3 års varighed, F.eks. Erhvervsakadem</td><td> 4                                                                            </td><td>30                                                                            </td><td>30                                                                            </td><td>   NA                                                                         </td><td>   NA                                                                         </td><td> 62                                                                           </td></tr>\n",
       "\t<tr><td> 5816                                                                         </td><td> 90                                                                           </td><td>7                                                                             </td><td>Yes                                                                           </td><td>SF Socialistisk Folkeparti - Socialist People's Party                         </td><td>1994                                                                          </td><td>60                                                                            </td><td>Male                                                                          </td><td>1974                                                                          </td><td>Mellemlang videregående uddannelse af 3-4 års varighed. Professionsbachelorer,</td><td>35                                                                            </td><td>37                                                                            </td><td>37                                                                            </td><td>37000                                                                         </td><td>35000                                                                         </td><td> 61                                                                           </td></tr>\n",
       "\t<tr><td> 7251                                                                         </td><td>300                                                                           </td><td>5                                                                             </td><td>Yes                                                                           </td><td>Dansk Folkeparti - Danish People's Party                                      </td><td>1993                                                                          </td><td>40                                                                            </td><td>Female                                                                        </td><td>1975                                                                          </td><td>Faglig uddannelse (håndværk, handel, landbrug mv.), F.eks. Faglærte, Social-  </td><td>13                                                                            </td><td>32                                                                            </td><td>34                                                                            </td><td>22000                                                                         </td><td>30000                                                                         </td><td> 68                                                                           </td></tr>\n",
       "\t<tr><td> 7887                                                                         </td><td>360                                                                           </td><td>8                                                                             </td><td>Yes                                                                           </td><td>Socialdemokratiet - The Social democrats                                      </td><td>1983                                                                          </td><td>55                                                                            </td><td>Male                                                                          </td><td>1958                                                                          </td><td>Lang videregående uddannelse. Kandidatuddannelser af 5.-6. års varighed, F.eks</td><td>25                                                                            </td><td>39                                                                            </td><td>39                                                                            </td><td>36000                                                                         </td><td>42000                                                                         </td><td> 89                                                                           </td></tr>\n",
       "\t<tr><td> 9607                                                                         </td><td>540                                                                           </td><td>9                                                                             </td><td>Yes                                                                           </td><td>Alternativet - The Alternative                                                </td><td>1982                                                                          </td><td>64                                                                            </td><td>Female                                                                        </td><td>1964                                                                          </td><td>Mellemlang videregående uddannelse af 3-4 års varighed. Professionsbachelorer,</td><td>13                                                                            </td><td>32                                                                            </td><td>34                                                                            </td><td>32000                                                                         </td><td>   NA                                                                         </td><td> 50                                                                           </td></tr>\n",
       "\t<tr><td>11123                                                                         </td><td>150                                                                           </td><td>7                                                                             </td><td>Yes                                                                           </td><td>Socialdemokratiet - The Social democrats                                      </td><td>1994                                                                          </td><td>45                                                                            </td><td>Male                                                                          </td><td>1974                                                                          </td><td>Faglig uddannelse (håndværk, handel, landbrug mv.), F.eks. Faglærte, Social-  </td><td>16                                                                            </td><td>37                                                                            </td><td>37                                                                            </td><td> 9000                                                                         </td><td>   NA                                                                         </td><td> 62                                                                           </td></tr>\n",
       "</tbody>\n",
       "</table>\n"
      ],
      "text/latex": [
       "\\begin{tabular}{r|llllllllllllllll}\n",
       " idno & netustm & ppltrst & vote & prtvtddk & lvpntyr & tygrtr & gndr & yrbrn & edlvddk & eduyrs & wkhct & wkhtot & grspnum & frlgrsp & inwtm\\\\\n",
       "\\hline\n",
       "\t   110                                                                          & 180                                                                            & 8                                                                              & Yes                                                                            & Socialdemokratiet - The Social democrats                                       & 1968                                                                           & Never too young                                                                & Male                                                                           & 1949                                                                           & Kort videregående uddannelse af op til 2-3 års varighed, F.eks. Erhvervsakadem &  9                                                                             & 28                                                                             & 28                                                                             &    NA                                                                          &    NA                                                                          & 119                                                                           \\\\\n",
       "\t   705                                                                          &  60                                                                            & 5                                                                              & Yes                                                                            & Det Konservative Folkeparti - Conservative People's Party                      & 1976                                                                           & 67                                                                             & Male                                                                           & 1958                                                                           & Kort videregående uddannelse af op til 2-3 års varighed, F.eks. Erhvervsakadem & 22                                                                             & 37                                                                             & 45                                                                             &    NA                                                                          &    NA                                                                          &  55                                                                           \\\\\n",
       "\t  1327                                                                          & 240                                                                            & 5                                                                              & NA                                                                             & NA                                                                             & Still in parental home, never left 2 months                                    & NA                                                                             & Male                                                                           & 2000                                                                           & Folkeskole 9.-10. klasse                                                       & 11                                                                             & 37                                                                             & 37                                                                             &    NA                                                                          &    NA                                                                          &  37                                                                           \\\\\n",
       "\t  3760                                                                          & 300                                                                            & 7                                                                              & Not eligible to vote                                                           & NA                                                                             & Still in parental home, never left 2 months                                    & 40                                                                             & Male                                                                           & 2002                                                                           & Folkeskole 9.-10. klasse                                                       &  9                                                                             &  2                                                                             &  2                                                                             &   200                                                                          &    NA                                                                          &  43                                                                           \\\\\n",
       "\t  4658                                                                          &  90                                                                            & 8                                                                              & Yes                                                                            & NA                                                                             & 1974                                                                           & 50                                                                             & Female                                                                         & 1956                                                                           & Kort videregående uddannelse af op til 2-3 års varighed, F.eks. Erhvervsakadem &  4                                                                             & 30                                                                             & 30                                                                             &    NA                                                                          &    NA                                                                          &  62                                                                           \\\\\n",
       "\t  5816                                                                          &  90                                                                            & 7                                                                              & Yes                                                                            & SF Socialistisk Folkeparti - Socialist People's Party                          & 1994                                                                           & 60                                                                             & Male                                                                           & 1974                                                                           & Mellemlang videregående uddannelse af 3-4 års varighed. Professionsbachelorer, & 35                                                                             & 37                                                                             & 37                                                                             & 37000                                                                          & 35000                                                                          &  61                                                                           \\\\\n",
       "\t  7251                                                                          & 300                                                                            & 5                                                                              & Yes                                                                            & Dansk Folkeparti - Danish People's Party                                       & 1993                                                                           & 40                                                                             & Female                                                                         & 1975                                                                           & Faglig uddannelse (håndværk, handel, landbrug mv.), F.eks. Faglærte, Social-   & 13                                                                             & 32                                                                             & 34                                                                             & 22000                                                                          & 30000                                                                          &  68                                                                           \\\\\n",
       "\t  7887                                                                          & 360                                                                            & 8                                                                              & Yes                                                                            & Socialdemokratiet - The Social democrats                                       & 1983                                                                           & 55                                                                             & Male                                                                           & 1958                                                                           & Lang videregående uddannelse. Kandidatuddannelser af 5.-6. års varighed, F.eks & 25                                                                             & 39                                                                             & 39                                                                             & 36000                                                                          & 42000                                                                          &  89                                                                           \\\\\n",
       "\t  9607                                                                          & 540                                                                            & 9                                                                              & Yes                                                                            & Alternativet - The Alternative                                                 & 1982                                                                           & 64                                                                             & Female                                                                         & 1964                                                                           & Mellemlang videregående uddannelse af 3-4 års varighed. Professionsbachelorer, & 13                                                                             & 32                                                                             & 34                                                                             & 32000                                                                          &    NA                                                                          &  50                                                                           \\\\\n",
       "\t 11123                                                                          & 150                                                                            & 7                                                                              & Yes                                                                            & Socialdemokratiet - The Social democrats                                       & 1994                                                                           & 45                                                                             & Male                                                                           & 1974                                                                           & Faglig uddannelse (håndværk, handel, landbrug mv.), F.eks. Faglærte, Social-   & 16                                                                             & 37                                                                             & 37                                                                             &  9000                                                                          &    NA                                                                          &  62                                                                           \\\\\n",
       "\\end{tabular}\n"
      ],
      "text/markdown": [
       "\n",
       "| idno | netustm | ppltrst | vote | prtvtddk | lvpntyr | tygrtr | gndr | yrbrn | edlvddk | eduyrs | wkhct | wkhtot | grspnum | frlgrsp | inwtm |\n",
       "|---|---|---|---|---|---|---|---|---|---|---|---|---|---|---|---|\n",
       "|   110                                                                          | 180                                                                            | 8                                                                              | Yes                                                                            | Socialdemokratiet - The Social democrats                                       | 1968                                                                           | Never too young                                                                | Male                                                                           | 1949                                                                           | Kort videregående uddannelse af op til 2-3 års varighed, F.eks. Erhvervsakadem |  9                                                                             | 28                                                                             | 28                                                                             |    NA                                                                          |    NA                                                                          | 119                                                                            |\n",
       "|   705                                                                          |  60                                                                            | 5                                                                              | Yes                                                                            | Det Konservative Folkeparti - Conservative People's Party                      | 1976                                                                           | 67                                                                             | Male                                                                           | 1958                                                                           | Kort videregående uddannelse af op til 2-3 års varighed, F.eks. Erhvervsakadem | 22                                                                             | 37                                                                             | 45                                                                             |    NA                                                                          |    NA                                                                          |  55                                                                            |\n",
       "|  1327                                                                          | 240                                                                            | 5                                                                              | NA                                                                             | NA                                                                             | Still in parental home, never left 2 months                                    | NA                                                                             | Male                                                                           | 2000                                                                           | Folkeskole 9.-10. klasse                                                       | 11                                                                             | 37                                                                             | 37                                                                             |    NA                                                                          |    NA                                                                          |  37                                                                            |\n",
       "|  3760                                                                          | 300                                                                            | 7                                                                              | Not eligible to vote                                                           | NA                                                                             | Still in parental home, never left 2 months                                    | 40                                                                             | Male                                                                           | 2002                                                                           | Folkeskole 9.-10. klasse                                                       |  9                                                                             |  2                                                                             |  2                                                                             |   200                                                                          |    NA                                                                          |  43                                                                            |\n",
       "|  4658                                                                          |  90                                                                            | 8                                                                              | Yes                                                                            | NA                                                                             | 1974                                                                           | 50                                                                             | Female                                                                         | 1956                                                                           | Kort videregående uddannelse af op til 2-3 års varighed, F.eks. Erhvervsakadem |  4                                                                             | 30                                                                             | 30                                                                             |    NA                                                                          |    NA                                                                          |  62                                                                            |\n",
       "|  5816                                                                          |  90                                                                            | 7                                                                              | Yes                                                                            | SF Socialistisk Folkeparti - Socialist People's Party                          | 1994                                                                           | 60                                                                             | Male                                                                           | 1974                                                                           | Mellemlang videregående uddannelse af 3-4 års varighed. Professionsbachelorer, | 35                                                                             | 37                                                                             | 37                                                                             | 37000                                                                          | 35000                                                                          |  61                                                                            |\n",
       "|  7251                                                                          | 300                                                                            | 5                                                                              | Yes                                                                            | Dansk Folkeparti - Danish People's Party                                       | 1993                                                                           | 40                                                                             | Female                                                                         | 1975                                                                           | Faglig uddannelse (håndværk, handel, landbrug mv.), F.eks. Faglærte, Social-   | 13                                                                             | 32                                                                             | 34                                                                             | 22000                                                                          | 30000                                                                          |  68                                                                            |\n",
       "|  7887                                                                          | 360                                                                            | 8                                                                              | Yes                                                                            | Socialdemokratiet - The Social democrats                                       | 1983                                                                           | 55                                                                             | Male                                                                           | 1958                                                                           | Lang videregående uddannelse. Kandidatuddannelser af 5.-6. års varighed, F.eks | 25                                                                             | 39                                                                             | 39                                                                             | 36000                                                                          | 42000                                                                          |  89                                                                            |\n",
       "|  9607                                                                          | 540                                                                            | 9                                                                              | Yes                                                                            | Alternativet - The Alternative                                                 | 1982                                                                           | 64                                                                             | Female                                                                         | 1964                                                                           | Mellemlang videregående uddannelse af 3-4 års varighed. Professionsbachelorer, | 13                                                                             | 32                                                                             | 34                                                                             | 32000                                                                          |    NA                                                                          |  50                                                                            |\n",
       "| 11123                                                                          | 150                                                                            | 7                                                                              | Yes                                                                            | Socialdemokratiet - The Social democrats                                       | 1994                                                                           | 45                                                                             | Male                                                                           | 1974                                                                           | Faglig uddannelse (håndværk, handel, landbrug mv.), F.eks. Faglærte, Social-   | 16                                                                             | 37                                                                             | 37                                                                             |  9000                                                                          |    NA                                                                          |  62                                                                            |\n",
       "\n"
      ],
      "text/plain": [
       "   idno  netustm ppltrst vote                \n",
       "1    110 180     8       Yes                 \n",
       "2    705  60     5       Yes                 \n",
       "3   1327 240     5       NA                  \n",
       "4   3760 300     7       Not eligible to vote\n",
       "5   4658  90     8       Yes                 \n",
       "6   5816  90     7       Yes                 \n",
       "7   7251 300     5       Yes                 \n",
       "8   7887 360     8       Yes                 \n",
       "9   9607 540     9       Yes                 \n",
       "10 11123 150     7       Yes                 \n",
       "   prtvtddk                                                 \n",
       "1  Socialdemokratiet - The Social democrats                 \n",
       "2  Det Konservative Folkeparti - Conservative People's Party\n",
       "3  NA                                                       \n",
       "4  NA                                                       \n",
       "5  NA                                                       \n",
       "6  SF Socialistisk Folkeparti - Socialist People's Party    \n",
       "7  Dansk Folkeparti - Danish People's Party                 \n",
       "8  Socialdemokratiet - The Social democrats                 \n",
       "9  Alternativet - The Alternative                           \n",
       "10 Socialdemokratiet - The Social democrats                 \n",
       "   lvpntyr                                     tygrtr          gndr   yrbrn\n",
       "1  1968                                        Never too young Male   1949 \n",
       "2  1976                                        67              Male   1958 \n",
       "3  Still in parental home, never left 2 months NA              Male   2000 \n",
       "4  Still in parental home, never left 2 months 40              Male   2002 \n",
       "5  1974                                        50              Female 1956 \n",
       "6  1994                                        60              Male   1974 \n",
       "7  1993                                        40              Female 1975 \n",
       "8  1983                                        55              Male   1958 \n",
       "9  1982                                        64              Female 1964 \n",
       "10 1994                                        45              Male   1974 \n",
       "   edlvddk                                                                       \n",
       "1  Kort videregående uddannelse af op til 2-3 års varighed, F.eks. Erhvervsakadem\n",
       "2  Kort videregående uddannelse af op til 2-3 års varighed, F.eks. Erhvervsakadem\n",
       "3  Folkeskole 9.-10. klasse                                                      \n",
       "4  Folkeskole 9.-10. klasse                                                      \n",
       "5  Kort videregående uddannelse af op til 2-3 års varighed, F.eks. Erhvervsakadem\n",
       "6  Mellemlang videregående uddannelse af 3-4 års varighed. Professionsbachelorer,\n",
       "7  Faglig uddannelse (håndværk, handel, landbrug mv.), F.eks. Faglærte, Social-  \n",
       "8  Lang videregående uddannelse. Kandidatuddannelser af 5.-6. års varighed, F.eks\n",
       "9  Mellemlang videregående uddannelse af 3-4 års varighed. Professionsbachelorer,\n",
       "10 Faglig uddannelse (håndværk, handel, landbrug mv.), F.eks. Faglærte, Social-  \n",
       "   eduyrs wkhct wkhtot grspnum frlgrsp inwtm\n",
       "1   9     28    28        NA      NA   119  \n",
       "2  22     37    45        NA      NA    55  \n",
       "3  11     37    37        NA      NA    37  \n",
       "4   9      2     2       200      NA    43  \n",
       "5   4     30    30        NA      NA    62  \n",
       "6  35     37    37     37000   35000    61  \n",
       "7  13     32    34     22000   30000    68  \n",
       "8  25     39    39     36000   42000    89  \n",
       "9  13     32    34     32000      NA    50  \n",
       "10 16     37    37      9000      NA    62  "
      ]
     },
     "metadata": {},
     "output_type": "display_data"
    }
   ],
   "source": [
    "library(readr)\n",
    "\n",
    "data <- read_csv(\"https://github.com/CALDISS-AAU/workshop_R-intro/raw/master/data/ESS2018DK_subset.csv\")\n",
    "\n",
    "head10(data)"
   ]
  },
  {
   "cell_type": "markdown",
   "metadata": {
    "slideshow": {
     "slide_type": "slide"
    },
    "tags": []
   },
   "source": [
    "## EXERCISE 5: CREATING FUNCTIONS\n",
    "\n",
    "- Create a wrapper function for the `mean()` function where missing values are removed by default.\n",
    "\n",
    "- Use the function on a valid variable in the ESS dataset."
   ]
  },
  {
   "cell_type": "markdown",
   "metadata": {
    "slideshow": {
     "slide_type": "slide"
    },
    "tags": []
   },
   "source": [
    "### Use cases for creating own functions\n",
    "\n",
    "Creating your own functions is often not necessary at all when using R but it can come in handy. Here are some examples of possible use cases:\n",
    "\n",
    "- Creating wrapper functions\n",
    "- Convert repeated parts of a script to a function\n",
    "- Creating functions for specific datasets (fx a single function containing various datamanagement tasks for varialbes in ESS data that are used in several rounds. That way the same function can be used for ESS 2010, 2012, 2014 and so on)."
   ]
  }
 ],
 "metadata": {
  "kernelspec": {
   "display_name": "R",
   "language": "R",
   "name": "ir"
  },
  "language_info": {
   "codemirror_mode": "r",
   "file_extension": ".r",
   "mimetype": "text/x-r-source",
   "name": "R",
   "pygments_lexer": "r",
   "version": "3.6.1"
  }
 },
 "nbformat": 4,
 "nbformat_minor": 4
}
