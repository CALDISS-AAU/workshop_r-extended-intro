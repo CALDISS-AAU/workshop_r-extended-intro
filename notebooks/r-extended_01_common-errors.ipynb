{
 "cells": [
  {
   "cell_type": "markdown",
   "metadata": {},
   "source": [
    "# Common errors in R\n",
    "\n",
    "- Wrong separator\n",
    "- Classes\n",
    "- Missing not coded as missing\n",
    "- Wrong decimal denotator"
   ]
  },
  {
   "cell_type": "code",
   "execution_count": 1,
   "metadata": {},
   "outputs": [],
   "source": [
    "library(readr)"
   ]
  },
  {
   "cell_type": "code",
   "execution_count": 2,
   "metadata": {},
   "outputs": [
    {
     "name": "stderr",
     "output_type": "stream",
     "text": [
      "Parsed with column specification:\n",
      "cols(\n",
      "  `idno;netustm;ppltrst;vote;prtvtddk;lvpntyr;tygrtr;gndr;yrbrn;edlvddk;eduyrs;wkhct;wkhtot;grspnum;frlgrsp;inwtm` = col_character()\n",
      ")\n",
      "Warning message:\n",
      "\"1572 parsing failures.\n",
      "row col  expected    actual                                       file\n",
      "  1  -- 1 columns 4 columns '../data/ESS2918DK_subset_with-errors.csv'\n",
      "  2  -- 1 columns 4 columns '../data/ESS2918DK_subset_with-errors.csv'\n",
      "  3  -- 1 columns 4 columns '../data/ESS2918DK_subset_with-errors.csv'\n",
      "  4  -- 1 columns 4 columns '../data/ESS2918DK_subset_with-errors.csv'\n",
      "  5  -- 1 columns 4 columns '../data/ESS2918DK_subset_with-errors.csv'\n",
      "... ... ......... ......... ..........................................\n",
      "See problems(...) for more details.\n",
      "\""
     ]
    },
    {
     "data": {
      "text/html": [
       "<table>\n",
       "<thead><tr><th scope=col>idno;netustm;ppltrst;vote;prtvtddk;lvpntyr;tygrtr;gndr;yrbrn;edlvddk;eduyrs;wkhct;wkhtot;grspnum;frlgrsp;inwtm</th></tr></thead>\n",
       "<tbody>\n",
       "\t<tr><td>110;180 </td></tr>\n",
       "\t<tr><td>705;60  </td></tr>\n",
       "\t<tr><td>1327;240</td></tr>\n",
       "\t<tr><td>3760;300</td></tr>\n",
       "\t<tr><td>4658;90 </td></tr>\n",
       "</tbody>\n",
       "</table>\n"
      ],
      "text/latex": [
       "\\begin{tabular}{r|l}\n",
       " idno;netustm;ppltrst;vote;prtvtddk;lvpntyr;tygrtr;gndr;yrbrn;edlvddk;eduyrs;wkhct;wkhtot;grspnum;frlgrsp;inwtm\\\\\n",
       "\\hline\n",
       "\t 110;180 \\\\\n",
       "\t 705;60  \\\\\n",
       "\t 1327;240\\\\\n",
       "\t 3760;300\\\\\n",
       "\t 4658;90 \\\\\n",
       "\\end{tabular}\n"
      ],
      "text/markdown": [
       "\n",
       "| idno;netustm;ppltrst;vote;prtvtddk;lvpntyr;tygrtr;gndr;yrbrn;edlvddk;eduyrs;wkhct;wkhtot;grspnum;frlgrsp;inwtm |\n",
       "|---|\n",
       "| 110;180  |\n",
       "| 705;60   |\n",
       "| 1327;240 |\n",
       "| 3760;300 |\n",
       "| 4658;90  |\n",
       "\n"
      ],
      "text/plain": [
       "  idno;netustm;ppltrst;vote;prtvtddk;lvpntyr;tygrtr;gndr;yrbrn;edlvddk;eduyrs;wkhct;wkhtot;grspnum;frlgrsp;inwtm\n",
       "1 110;180                                                                                                       \n",
       "2 705;60                                                                                                        \n",
       "3 1327;240                                                                                                      \n",
       "4 3760;300                                                                                                      \n",
       "5 4658;90                                                                                                       "
      ]
     },
     "metadata": {},
     "output_type": "display_data"
    }
   ],
   "source": [
    "# 1 - Wrong separator when reading in data (demonstration only)\n",
    "\n",
    "ess2018 <- read_csv(\"../data/ESS2918DK_subset_with-errors.csv\")\n",
    "\n",
    "head(ess2018, 5)"
   ]
  },
  {
   "cell_type": "code",
   "execution_count": 38,
   "metadata": {},
   "outputs": [
    {
     "name": "stderr",
     "output_type": "stream",
     "text": [
      "Using ',' as decimal and '.' as grouping mark. Use read_delim() for more control.\n",
      "\n",
      "Parsed with column specification:\n",
      "cols(\n",
      "  idno = \u001b[32mcol_double()\u001b[39m,\n",
      "  netustm = \u001b[31mcol_character()\u001b[39m,\n",
      "  ppltrst = \u001b[31mcol_character()\u001b[39m,\n",
      "  vote = \u001b[31mcol_character()\u001b[39m,\n",
      "  prtvtddk = \u001b[31mcol_character()\u001b[39m,\n",
      "  lvpntyr = \u001b[31mcol_character()\u001b[39m,\n",
      "  tygrtr = \u001b[31mcol_character()\u001b[39m,\n",
      "  gndr = \u001b[31mcol_character()\u001b[39m,\n",
      "  yrbrn = \u001b[32mcol_double()\u001b[39m,\n",
      "  edlvddk = \u001b[31mcol_character()\u001b[39m,\n",
      "  eduyrs = \u001b[32mcol_double()\u001b[39m,\n",
      "  wkhct = \u001b[32mcol_double()\u001b[39m,\n",
      "  wkhtot = \u001b[32mcol_double()\u001b[39m,\n",
      "  grspnum = \u001b[32mcol_double()\u001b[39m,\n",
      "  frlgrsp = \u001b[32mcol_double()\u001b[39m,\n",
      "  inwtm = \u001b[31mcol_character()\u001b[39m\n",
      ")\n",
      "\n"
     ]
    },
    {
     "data": {
      "text/html": [
       "<table>\n",
       "<caption>A tibble: 6 × 16</caption>\n",
       "<thead>\n",
       "\t<tr><th scope=col>idno</th><th scope=col>netustm</th><th scope=col>ppltrst</th><th scope=col>vote</th><th scope=col>prtvtddk</th><th scope=col>lvpntyr</th><th scope=col>tygrtr</th><th scope=col>gndr</th><th scope=col>yrbrn</th><th scope=col>edlvddk</th><th scope=col>eduyrs</th><th scope=col>wkhct</th><th scope=col>wkhtot</th><th scope=col>grspnum</th><th scope=col>frlgrsp</th><th scope=col>inwtm</th></tr>\n",
       "\t<tr><th scope=col>&lt;dbl&gt;</th><th scope=col>&lt;chr&gt;</th><th scope=col>&lt;chr&gt;</th><th scope=col>&lt;chr&gt;</th><th scope=col>&lt;chr&gt;</th><th scope=col>&lt;chr&gt;</th><th scope=col>&lt;chr&gt;</th><th scope=col>&lt;chr&gt;</th><th scope=col>&lt;dbl&gt;</th><th scope=col>&lt;chr&gt;</th><th scope=col>&lt;dbl&gt;</th><th scope=col>&lt;dbl&gt;</th><th scope=col>&lt;dbl&gt;</th><th scope=col>&lt;dbl&gt;</th><th scope=col>&lt;dbl&gt;</th><th scope=col>&lt;chr&gt;</th></tr>\n",
       "</thead>\n",
       "<tbody>\n",
       "\t<tr><td> 110</td><td>180,0</td><td>8</td><td>Yes                 </td><td>Socialdemokratiet - The Social democrats                 </td><td>1968                                       </td><td>Never too young</td><td>Male  </td><td>1949</td><td>Kort videregående uddannelse af op til 2-3 års varighed, F.eks. Erhvervsakadem</td><td> 9</td><td>28</td><td>28</td><td>9999999</td><td>9999999</td><td>119,0</td></tr>\n",
       "\t<tr><td> 705</td><td>60,0 </td><td>5</td><td>Yes                 </td><td>Det Konservative Folkeparti - Conservative People's Party</td><td>1976                                       </td><td>67             </td><td>Male  </td><td>1958</td><td>Kort videregående uddannelse af op til 2-3 års varighed, F.eks. Erhvervsakadem</td><td>22</td><td>37</td><td>45</td><td>9999999</td><td>9999999</td><td>55,0 </td></tr>\n",
       "\t<tr><td>1327</td><td>240,0</td><td>5</td><td>NA                  </td><td>NA                                                       </td><td>Still in parental home, never left 2 months</td><td>NA             </td><td>Male  </td><td>2000</td><td>Folkeskole 9.-10. klasse                                                      </td><td>11</td><td>37</td><td>37</td><td>9999999</td><td>9999999</td><td>37,0 </td></tr>\n",
       "\t<tr><td>3760</td><td>300,0</td><td>7</td><td>Not eligible to vote</td><td>NA                                                       </td><td>Still in parental home, never left 2 months</td><td>40             </td><td>Male  </td><td>2002</td><td>Folkeskole 9.-10. klasse                                                      </td><td> 9</td><td> 2</td><td> 2</td><td>    200</td><td>9999999</td><td>43,0 </td></tr>\n",
       "\t<tr><td>4658</td><td>90,0 </td><td>8</td><td>Yes                 </td><td>NA                                                       </td><td>1974                                       </td><td>50             </td><td>Female</td><td>1956</td><td>Kort videregående uddannelse af op til 2-3 års varighed, F.eks. Erhvervsakadem</td><td> 4</td><td>30</td><td>30</td><td>9999999</td><td>9999999</td><td>62,0 </td></tr>\n",
       "\t<tr><td>5816</td><td>90,0 </td><td>7</td><td>Yes                 </td><td>SF Socialistisk Folkeparti - Socialist People's Party    </td><td>1994                                       </td><td>60             </td><td>Male  </td><td>1974</td><td>Mellemlang videregående uddannelse af 3-4 års varighed. Professionsbachelorer,</td><td>35</td><td>37</td><td>37</td><td>  37000</td><td>  35000</td><td>61,0 </td></tr>\n",
       "</tbody>\n",
       "</table>\n"
      ],
      "text/latex": [
       "A tibble: 6 × 16\n",
       "\\begin{tabular}{llllllllllllllll}\n",
       " idno & netustm & ppltrst & vote & prtvtddk & lvpntyr & tygrtr & gndr & yrbrn & edlvddk & eduyrs & wkhct & wkhtot & grspnum & frlgrsp & inwtm\\\\\n",
       " <dbl> & <chr> & <chr> & <chr> & <chr> & <chr> & <chr> & <chr> & <dbl> & <chr> & <dbl> & <dbl> & <dbl> & <dbl> & <dbl> & <chr>\\\\\n",
       "\\hline\n",
       "\t  110 & 180,0 & 8 & Yes                  & Socialdemokratiet - The Social democrats                  & 1968                                        & Never too young & Male   & 1949 & Kort videregående uddannelse af op til 2-3 års varighed, F.eks. Erhvervsakadem &  9 & 28 & 28 & 9999999 & 9999999 & 119,0\\\\\n",
       "\t  705 & 60,0  & 5 & Yes                  & Det Konservative Folkeparti - Conservative People's Party & 1976                                        & 67              & Male   & 1958 & Kort videregående uddannelse af op til 2-3 års varighed, F.eks. Erhvervsakadem & 22 & 37 & 45 & 9999999 & 9999999 & 55,0 \\\\\n",
       "\t 1327 & 240,0 & 5 & NA                   & NA                                                        & Still in parental home, never left 2 months & NA              & Male   & 2000 & Folkeskole 9.-10. klasse                                                       & 11 & 37 & 37 & 9999999 & 9999999 & 37,0 \\\\\n",
       "\t 3760 & 300,0 & 7 & Not eligible to vote & NA                                                        & Still in parental home, never left 2 months & 40              & Male   & 2002 & Folkeskole 9.-10. klasse                                                       &  9 &  2 &  2 &     200 & 9999999 & 43,0 \\\\\n",
       "\t 4658 & 90,0  & 8 & Yes                  & NA                                                        & 1974                                        & 50              & Female & 1956 & Kort videregående uddannelse af op til 2-3 års varighed, F.eks. Erhvervsakadem &  4 & 30 & 30 & 9999999 & 9999999 & 62,0 \\\\\n",
       "\t 5816 & 90,0  & 7 & Yes                  & SF Socialistisk Folkeparti - Socialist People's Party     & 1994                                        & 60              & Male   & 1974 & Mellemlang videregående uddannelse af 3-4 års varighed. Professionsbachelorer, & 35 & 37 & 37 &   37000 &   35000 & 61,0 \\\\\n",
       "\\end{tabular}\n"
      ],
      "text/markdown": [
       "\n",
       "A tibble: 6 × 16\n",
       "\n",
       "| idno &lt;dbl&gt; | netustm &lt;chr&gt; | ppltrst &lt;chr&gt; | vote &lt;chr&gt; | prtvtddk &lt;chr&gt; | lvpntyr &lt;chr&gt; | tygrtr &lt;chr&gt; | gndr &lt;chr&gt; | yrbrn &lt;dbl&gt; | edlvddk &lt;chr&gt; | eduyrs &lt;dbl&gt; | wkhct &lt;dbl&gt; | wkhtot &lt;dbl&gt; | grspnum &lt;dbl&gt; | frlgrsp &lt;dbl&gt; | inwtm &lt;chr&gt; |\n",
       "|---|---|---|---|---|---|---|---|---|---|---|---|---|---|---|---|\n",
       "|  110 | 180,0 | 8 | Yes                  | Socialdemokratiet - The Social democrats                  | 1968                                        | Never too young | Male   | 1949 | Kort videregående uddannelse af op til 2-3 års varighed, F.eks. Erhvervsakadem |  9 | 28 | 28 | 9999999 | 9999999 | 119,0 |\n",
       "|  705 | 60,0  | 5 | Yes                  | Det Konservative Folkeparti - Conservative People's Party | 1976                                        | 67              | Male   | 1958 | Kort videregående uddannelse af op til 2-3 års varighed, F.eks. Erhvervsakadem | 22 | 37 | 45 | 9999999 | 9999999 | 55,0  |\n",
       "| 1327 | 240,0 | 5 | NA                   | NA                                                        | Still in parental home, never left 2 months | NA              | Male   | 2000 | Folkeskole 9.-10. klasse                                                       | 11 | 37 | 37 | 9999999 | 9999999 | 37,0  |\n",
       "| 3760 | 300,0 | 7 | Not eligible to vote | NA                                                        | Still in parental home, never left 2 months | 40              | Male   | 2002 | Folkeskole 9.-10. klasse                                                       |  9 |  2 |  2 |     200 | 9999999 | 43,0  |\n",
       "| 4658 | 90,0  | 8 | Yes                  | NA                                                        | 1974                                        | 50              | Female | 1956 | Kort videregående uddannelse af op til 2-3 års varighed, F.eks. Erhvervsakadem |  4 | 30 | 30 | 9999999 | 9999999 | 62,0  |\n",
       "| 5816 | 90,0  | 7 | Yes                  | SF Socialistisk Folkeparti - Socialist People's Party     | 1994                                        | 60              | Male   | 1974 | Mellemlang videregående uddannelse af 3-4 års varighed. Professionsbachelorer, | 35 | 37 | 37 |   37000 |   35000 | 61,0  |\n",
       "\n"
      ],
      "text/plain": [
       "  idno netustm ppltrst vote                \n",
       "1  110 180,0   8       Yes                 \n",
       "2  705 60,0    5       Yes                 \n",
       "3 1327 240,0   5       NA                  \n",
       "4 3760 300,0   7       Not eligible to vote\n",
       "5 4658 90,0    8       Yes                 \n",
       "6 5816 90,0    7       Yes                 \n",
       "  prtvtddk                                                 \n",
       "1 Socialdemokratiet - The Social democrats                 \n",
       "2 Det Konservative Folkeparti - Conservative People's Party\n",
       "3 NA                                                       \n",
       "4 NA                                                       \n",
       "5 NA                                                       \n",
       "6 SF Socialistisk Folkeparti - Socialist People's Party    \n",
       "  lvpntyr                                     tygrtr          gndr   yrbrn\n",
       "1 1968                                        Never too young Male   1949 \n",
       "2 1976                                        67              Male   1958 \n",
       "3 Still in parental home, never left 2 months NA              Male   2000 \n",
       "4 Still in parental home, never left 2 months 40              Male   2002 \n",
       "5 1974                                        50              Female 1956 \n",
       "6 1994                                        60              Male   1974 \n",
       "  edlvddk                                                                       \n",
       "1 Kort videregående uddannelse af op til 2-3 års varighed, F.eks. Erhvervsakadem\n",
       "2 Kort videregående uddannelse af op til 2-3 års varighed, F.eks. Erhvervsakadem\n",
       "3 Folkeskole 9.-10. klasse                                                      \n",
       "4 Folkeskole 9.-10. klasse                                                      \n",
       "5 Kort videregående uddannelse af op til 2-3 års varighed, F.eks. Erhvervsakadem\n",
       "6 Mellemlang videregående uddannelse af 3-4 års varighed. Professionsbachelorer,\n",
       "  eduyrs wkhct wkhtot grspnum frlgrsp inwtm\n",
       "1  9     28    28     9999999 9999999 119,0\n",
       "2 22     37    45     9999999 9999999 55,0 \n",
       "3 11     37    37     9999999 9999999 37,0 \n",
       "4  9      2     2         200 9999999 43,0 \n",
       "5  4     30    30     9999999 9999999 62,0 \n",
       "6 35     37    37       37000   35000 61,0 "
      ]
     },
     "metadata": {},
     "output_type": "display_data"
    }
   ],
   "source": [
    "ess2018 <- read_csv2(\"../data/ESS2918DK_subset_with-errors.csv\") # Works with \";\"\n",
    "head(ess2018)"
   ]
  },
  {
   "cell_type": "code",
   "execution_count": 44,
   "metadata": {},
   "outputs": [
    {
     "name": "stderr",
     "output_type": "stream",
     "text": [
      "Parsed with column specification:\n",
      "cols(\n",
      "  idno = \u001b[32mcol_double()\u001b[39m,\n",
      "  netustm = \u001b[31mcol_character()\u001b[39m,\n",
      "  ppltrst = \u001b[31mcol_character()\u001b[39m,\n",
      "  vote = \u001b[31mcol_character()\u001b[39m,\n",
      "  prtvtddk = \u001b[31mcol_character()\u001b[39m,\n",
      "  lvpntyr = \u001b[31mcol_character()\u001b[39m,\n",
      "  tygrtr = \u001b[31mcol_character()\u001b[39m,\n",
      "  gndr = \u001b[31mcol_character()\u001b[39m,\n",
      "  yrbrn = \u001b[32mcol_double()\u001b[39m,\n",
      "  edlvddk = \u001b[31mcol_character()\u001b[39m,\n",
      "  eduyrs = \u001b[32mcol_double()\u001b[39m,\n",
      "  wkhct = \u001b[32mcol_double()\u001b[39m,\n",
      "  wkhtot = \u001b[32mcol_double()\u001b[39m,\n",
      "  grspnum = \u001b[32mcol_double()\u001b[39m,\n",
      "  frlgrsp = \u001b[32mcol_double()\u001b[39m,\n",
      "  inwtm = \u001b[31mcol_character()\u001b[39m\n",
      ")\n",
      "\n"
     ]
    },
    {
     "data": {
      "text/html": [
       "<table>\n",
       "<caption>A tibble: 6 × 16</caption>\n",
       "<thead>\n",
       "\t<tr><th scope=col>idno</th><th scope=col>netustm</th><th scope=col>ppltrst</th><th scope=col>vote</th><th scope=col>prtvtddk</th><th scope=col>lvpntyr</th><th scope=col>tygrtr</th><th scope=col>gndr</th><th scope=col>yrbrn</th><th scope=col>edlvddk</th><th scope=col>eduyrs</th><th scope=col>wkhct</th><th scope=col>wkhtot</th><th scope=col>grspnum</th><th scope=col>frlgrsp</th><th scope=col>inwtm</th></tr>\n",
       "\t<tr><th scope=col>&lt;dbl&gt;</th><th scope=col>&lt;chr&gt;</th><th scope=col>&lt;chr&gt;</th><th scope=col>&lt;chr&gt;</th><th scope=col>&lt;chr&gt;</th><th scope=col>&lt;chr&gt;</th><th scope=col>&lt;chr&gt;</th><th scope=col>&lt;chr&gt;</th><th scope=col>&lt;dbl&gt;</th><th scope=col>&lt;chr&gt;</th><th scope=col>&lt;dbl&gt;</th><th scope=col>&lt;dbl&gt;</th><th scope=col>&lt;dbl&gt;</th><th scope=col>&lt;dbl&gt;</th><th scope=col>&lt;dbl&gt;</th><th scope=col>&lt;chr&gt;</th></tr>\n",
       "</thead>\n",
       "<tbody>\n",
       "\t<tr><td> 110</td><td>180,0</td><td>8</td><td>Yes                 </td><td>Socialdemokratiet - The Social democrats                 </td><td>1968                                       </td><td>Never too young</td><td>Male  </td><td>1949</td><td>Kort videregående uddannelse af op til 2-3 års varighed, F.eks. Erhvervsakadem</td><td> 9</td><td>28</td><td>28</td><td>9999999</td><td>9999999</td><td>119,0</td></tr>\n",
       "\t<tr><td> 705</td><td>60,0 </td><td>5</td><td>Yes                 </td><td>Det Konservative Folkeparti - Conservative People's Party</td><td>1976                                       </td><td>67             </td><td>Male  </td><td>1958</td><td>Kort videregående uddannelse af op til 2-3 års varighed, F.eks. Erhvervsakadem</td><td>22</td><td>37</td><td>45</td><td>9999999</td><td>9999999</td><td>55,0 </td></tr>\n",
       "\t<tr><td>1327</td><td>240,0</td><td>5</td><td>NA                  </td><td>NA                                                       </td><td>Still in parental home, never left 2 months</td><td>NA             </td><td>Male  </td><td>2000</td><td>Folkeskole 9.-10. klasse                                                      </td><td>11</td><td>37</td><td>37</td><td>9999999</td><td>9999999</td><td>37,0 </td></tr>\n",
       "\t<tr><td>3760</td><td>300,0</td><td>7</td><td>Not eligible to vote</td><td>NA                                                       </td><td>Still in parental home, never left 2 months</td><td>40             </td><td>Male  </td><td>2002</td><td>Folkeskole 9.-10. klasse                                                      </td><td> 9</td><td> 2</td><td> 2</td><td>    200</td><td>9999999</td><td>43,0 </td></tr>\n",
       "\t<tr><td>4658</td><td>90,0 </td><td>8</td><td>Yes                 </td><td>NA                                                       </td><td>1974                                       </td><td>50             </td><td>Female</td><td>1956</td><td>Kort videregående uddannelse af op til 2-3 års varighed, F.eks. Erhvervsakadem</td><td> 4</td><td>30</td><td>30</td><td>9999999</td><td>9999999</td><td>62,0 </td></tr>\n",
       "\t<tr><td>5816</td><td>90,0 </td><td>7</td><td>Yes                 </td><td>SF Socialistisk Folkeparti - Socialist People's Party    </td><td>1994                                       </td><td>60             </td><td>Male  </td><td>1974</td><td>Mellemlang videregående uddannelse af 3-4 års varighed. Professionsbachelorer,</td><td>35</td><td>37</td><td>37</td><td>  37000</td><td>  35000</td><td>61,0 </td></tr>\n",
       "</tbody>\n",
       "</table>\n"
      ],
      "text/latex": [
       "A tibble: 6 × 16\n",
       "\\begin{tabular}{llllllllllllllll}\n",
       " idno & netustm & ppltrst & vote & prtvtddk & lvpntyr & tygrtr & gndr & yrbrn & edlvddk & eduyrs & wkhct & wkhtot & grspnum & frlgrsp & inwtm\\\\\n",
       " <dbl> & <chr> & <chr> & <chr> & <chr> & <chr> & <chr> & <chr> & <dbl> & <chr> & <dbl> & <dbl> & <dbl> & <dbl> & <dbl> & <chr>\\\\\n",
       "\\hline\n",
       "\t  110 & 180,0 & 8 & Yes                  & Socialdemokratiet - The Social democrats                  & 1968                                        & Never too young & Male   & 1949 & Kort videregående uddannelse af op til 2-3 års varighed, F.eks. Erhvervsakadem &  9 & 28 & 28 & 9999999 & 9999999 & 119,0\\\\\n",
       "\t  705 & 60,0  & 5 & Yes                  & Det Konservative Folkeparti - Conservative People's Party & 1976                                        & 67              & Male   & 1958 & Kort videregående uddannelse af op til 2-3 års varighed, F.eks. Erhvervsakadem & 22 & 37 & 45 & 9999999 & 9999999 & 55,0 \\\\\n",
       "\t 1327 & 240,0 & 5 & NA                   & NA                                                        & Still in parental home, never left 2 months & NA              & Male   & 2000 & Folkeskole 9.-10. klasse                                                       & 11 & 37 & 37 & 9999999 & 9999999 & 37,0 \\\\\n",
       "\t 3760 & 300,0 & 7 & Not eligible to vote & NA                                                        & Still in parental home, never left 2 months & 40              & Male   & 2002 & Folkeskole 9.-10. klasse                                                       &  9 &  2 &  2 &     200 & 9999999 & 43,0 \\\\\n",
       "\t 4658 & 90,0  & 8 & Yes                  & NA                                                        & 1974                                        & 50              & Female & 1956 & Kort videregående uddannelse af op til 2-3 års varighed, F.eks. Erhvervsakadem &  4 & 30 & 30 & 9999999 & 9999999 & 62,0 \\\\\n",
       "\t 5816 & 90,0  & 7 & Yes                  & SF Socialistisk Folkeparti - Socialist People's Party     & 1994                                        & 60              & Male   & 1974 & Mellemlang videregående uddannelse af 3-4 års varighed. Professionsbachelorer, & 35 & 37 & 37 &   37000 &   35000 & 61,0 \\\\\n",
       "\\end{tabular}\n"
      ],
      "text/markdown": [
       "\n",
       "A tibble: 6 × 16\n",
       "\n",
       "| idno &lt;dbl&gt; | netustm &lt;chr&gt; | ppltrst &lt;chr&gt; | vote &lt;chr&gt; | prtvtddk &lt;chr&gt; | lvpntyr &lt;chr&gt; | tygrtr &lt;chr&gt; | gndr &lt;chr&gt; | yrbrn &lt;dbl&gt; | edlvddk &lt;chr&gt; | eduyrs &lt;dbl&gt; | wkhct &lt;dbl&gt; | wkhtot &lt;dbl&gt; | grspnum &lt;dbl&gt; | frlgrsp &lt;dbl&gt; | inwtm &lt;chr&gt; |\n",
       "|---|---|---|---|---|---|---|---|---|---|---|---|---|---|---|---|\n",
       "|  110 | 180,0 | 8 | Yes                  | Socialdemokratiet - The Social democrats                  | 1968                                        | Never too young | Male   | 1949 | Kort videregående uddannelse af op til 2-3 års varighed, F.eks. Erhvervsakadem |  9 | 28 | 28 | 9999999 | 9999999 | 119,0 |\n",
       "|  705 | 60,0  | 5 | Yes                  | Det Konservative Folkeparti - Conservative People's Party | 1976                                        | 67              | Male   | 1958 | Kort videregående uddannelse af op til 2-3 års varighed, F.eks. Erhvervsakadem | 22 | 37 | 45 | 9999999 | 9999999 | 55,0  |\n",
       "| 1327 | 240,0 | 5 | NA                   | NA                                                        | Still in parental home, never left 2 months | NA              | Male   | 2000 | Folkeskole 9.-10. klasse                                                       | 11 | 37 | 37 | 9999999 | 9999999 | 37,0  |\n",
       "| 3760 | 300,0 | 7 | Not eligible to vote | NA                                                        | Still in parental home, never left 2 months | 40              | Male   | 2002 | Folkeskole 9.-10. klasse                                                       |  9 |  2 |  2 |     200 | 9999999 | 43,0  |\n",
       "| 4658 | 90,0  | 8 | Yes                  | NA                                                        | 1974                                        | 50              | Female | 1956 | Kort videregående uddannelse af op til 2-3 års varighed, F.eks. Erhvervsakadem |  4 | 30 | 30 | 9999999 | 9999999 | 62,0  |\n",
       "| 5816 | 90,0  | 7 | Yes                  | SF Socialistisk Folkeparti - Socialist People's Party     | 1994                                        | 60              | Male   | 1974 | Mellemlang videregående uddannelse af 3-4 års varighed. Professionsbachelorer, | 35 | 37 | 37 |   37000 |   35000 | 61,0  |\n",
       "\n"
      ],
      "text/plain": [
       "  idno netustm ppltrst vote                \n",
       "1  110 180,0   8       Yes                 \n",
       "2  705 60,0    5       Yes                 \n",
       "3 1327 240,0   5       NA                  \n",
       "4 3760 300,0   7       Not eligible to vote\n",
       "5 4658 90,0    8       Yes                 \n",
       "6 5816 90,0    7       Yes                 \n",
       "  prtvtddk                                                 \n",
       "1 Socialdemokratiet - The Social democrats                 \n",
       "2 Det Konservative Folkeparti - Conservative People's Party\n",
       "3 NA                                                       \n",
       "4 NA                                                       \n",
       "5 NA                                                       \n",
       "6 SF Socialistisk Folkeparti - Socialist People's Party    \n",
       "  lvpntyr                                     tygrtr          gndr   yrbrn\n",
       "1 1968                                        Never too young Male   1949 \n",
       "2 1976                                        67              Male   1958 \n",
       "3 Still in parental home, never left 2 months NA              Male   2000 \n",
       "4 Still in parental home, never left 2 months 40              Male   2002 \n",
       "5 1974                                        50              Female 1956 \n",
       "6 1994                                        60              Male   1974 \n",
       "  edlvddk                                                                       \n",
       "1 Kort videregående uddannelse af op til 2-3 års varighed, F.eks. Erhvervsakadem\n",
       "2 Kort videregående uddannelse af op til 2-3 års varighed, F.eks. Erhvervsakadem\n",
       "3 Folkeskole 9.-10. klasse                                                      \n",
       "4 Folkeskole 9.-10. klasse                                                      \n",
       "5 Kort videregående uddannelse af op til 2-3 års varighed, F.eks. Erhvervsakadem\n",
       "6 Mellemlang videregående uddannelse af 3-4 års varighed. Professionsbachelorer,\n",
       "  eduyrs wkhct wkhtot grspnum frlgrsp inwtm\n",
       "1  9     28    28     9999999 9999999 119,0\n",
       "2 22     37    45     9999999 9999999 55,0 \n",
       "3 11     37    37     9999999 9999999 37,0 \n",
       "4  9      2     2         200 9999999 43,0 \n",
       "5  4     30    30     9999999 9999999 62,0 \n",
       "6 35     37    37       37000   35000 61,0 "
      ]
     },
     "metadata": {},
     "output_type": "display_data"
    }
   ],
   "source": [
    "ess2018 <- read_delim(\"../data/ESS2918DK_subset_with-errors.csv\", delim = \";\") # Alternative - specify the delimiter\n",
    "head(ess2018)"
   ]
  },
  {
   "cell_type": "code",
   "execution_count": 40,
   "metadata": {},
   "outputs": [
    {
     "data": {
      "text/html": [
       "4833783.85114504"
      ],
      "text/latex": [
       "4833783.85114504"
      ],
      "text/markdown": [
       "4833783.85114504"
      ],
      "text/plain": [
       "[1] 4833784"
      ]
     },
     "metadata": {},
     "output_type": "display_data"
    }
   ],
   "source": [
    "# 2 - Missing not coded as missing (grspnum for demonstration, frlgrsp for exercise)\n",
    "\n",
    "mean(ess2018$grspnum)"
   ]
  },
  {
   "cell_type": "code",
   "execution_count": 51,
   "metadata": {},
   "outputs": [
    {
     "data": {
      "text/html": [
       "95986.543902439"
      ],
      "text/latex": [
       "95986.543902439"
      ],
      "text/markdown": [
       "95986.543902439"
      ],
      "text/plain": [
       "[1] 95986.54"
      ]
     },
     "metadata": {},
     "output_type": "display_data"
    }
   ],
   "source": [
    "ess2018 <- ess2018 %>%\n",
    "mutate(grspnum = na_if(grspnum, 9999999))\n",
    "\n",
    "head(ess2018)"
   ]
  },
  {
   "cell_type": "code",
   "execution_count": null,
   "metadata": {},
   "outputs": [],
   "source": [
    "mean(ess2018$grspnum, na.rm = TRUE)"
   ]
  },
  {
   "cell_type": "code",
   "execution_count": 53,
   "metadata": {},
   "outputs": [
    {
     "name": "stderr",
     "output_type": "stream",
     "text": [
      "Warning message in mean.default(ess2018$inwtm, na.rm = TRUE):\n",
      "“argument is not numeric or logical: returning NA”\n"
     ]
    },
    {
     "data": {
      "text/html": [
       "&lt;NA&gt;"
      ],
      "text/latex": [
       "<NA>"
      ],
      "text/markdown": [
       "&lt;NA&gt;"
      ],
      "text/plain": [
       "[1] NA"
      ]
     },
     "metadata": {},
     "output_type": "display_data"
    }
   ],
   "source": [
    "# 3 - Wrong decimal denotator (inwtm for demonstration, netustm for exercise)\n",
    "\n",
    "mean(ess2018$inwtm, na.rm = TRUE)"
   ]
  },
  {
   "cell_type": "code",
   "execution_count": 54,
   "metadata": {},
   "outputs": [],
   "source": [
    "ess2018$inwtm <- as.character(ess2018$inwtm)"
   ]
  },
  {
   "cell_type": "code",
   "execution_count": 21,
   "metadata": {},
   "outputs": [
    {
     "name": "stdout",
     "output_type": "stream",
     "text": [
      "[1] \"119,0\"\n",
      "[1] 119\n"
     ]
    }
   ],
   "source": [
    "print(ess2018e$inwtm[1])\n",
    "print(as.numeric(str_replace(ess2018e$inwtm[1], \",\", \".\")))"
   ]
  },
  {
   "cell_type": "code",
   "execution_count": null,
   "metadata": {},
   "outputs": [],
   "source": []
  }
 ],
 "metadata": {
  "kernelspec": {
   "display_name": "R",
   "language": "R",
   "name": "ir"
  },
  "language_info": {
   "codemirror_mode": "r",
   "file_extension": ".r",
   "mimetype": "text/x-r-source",
   "name": "R",
   "pygments_lexer": "r",
   "version": "3.6.3"
  }
 },
 "nbformat": 4,
 "nbformat_minor": 4
}
