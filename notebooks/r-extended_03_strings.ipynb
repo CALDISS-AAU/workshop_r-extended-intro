{
 "cells": [
  {
   "cell_type": "markdown",
   "metadata": {},
   "source": [
    "# Strings\n",
    "\n",
    "A \"string\" is a programming term for a value containing text. A value of the class \"character\" is a string.\n",
    "\n",
    "Below the first paragraph from chapter 15 of \"The Picture of Dorian Gray\" by Oscar Wilde is stored as a string (copied from: https://www.gutenberg.org/files/174/174-h/174-h.htm#chap15)"
   ]
  },
  {
   "cell_type": "code",
   "execution_count": 2,
   "metadata": {},
   "outputs": [
    {
     "data": {
      "text/html": [
       "'character'"
      ],
      "text/latex": [
       "'character'"
      ],
      "text/markdown": [
       "'character'"
      ],
      "text/plain": [
       "[1] \"character\""
      ]
     },
     "metadata": {},
     "output_type": "display_data"
    }
   ],
   "source": [
    "my_text <- \"That evening, at eight-thirty, exquisitely dressed and wearing a large button-hole of Parma violets, Dorian Gray was ushered into Lady Narborough’s drawing-room by bowing servants. His forehead was throbbing with maddened nerves, and he felt wildly excited, but his manner as he bent over his hostess’s hand was as easy and graceful as ever. Perhaps one never seems so much at one’s ease as when one has to play a part. Certainly no one looking at Dorian Gray that night could have believed that he had passed through a tragedy as horrible as any tragedy of our age. Those finely shaped fingers could never have clutched a knife for sin, nor those smiling lips have cried out on God and goodness. He himself could not help wondering at the calm of his demeanour, and for a moment felt keenly the terrible pleasure of a double life. \"\n",
    "class(my_text)"
   ]
  },
  {
   "cell_type": "markdown",
   "metadata": {
    "slideshow": {
     "slide_type": "slide"
    }
   },
   "source": [
    "## Texts as vectors\n",
    "Texts can be thought of as vectors in a number of ways:\n",
    "1. A collection of texts\n",
    "2. A collection of words in a text\n",
    "3. A collection of sentences in a text\n",
    "\n",
    "Depending on what we are trying to figure out with text, R can be used in a number of ways."
   ]
  },
  {
   "cell_type": "markdown",
   "metadata": {
    "slideshow": {
     "slide_type": "slide"
    }
   },
   "source": [
    "Let's start by thinking of a text as a series of single words:"
   ]
  },
  {
   "cell_type": "code",
   "execution_count": 4,
   "metadata": {
    "slideshow": {
     "slide_type": "fragment"
    }
   },
   "outputs": [
    {
     "data": {
      "text/html": [
       "<ol class=list-inline>\n",
       "\t<li>'That'</li>\n",
       "\t<li>'evening,'</li>\n",
       "\t<li>'at'</li>\n",
       "\t<li>'eight-thirty,'</li>\n",
       "\t<li>'exquisitely'</li>\n",
       "\t<li>'dressed'</li>\n",
       "\t<li>'and'</li>\n",
       "\t<li>'wearing'</li>\n",
       "\t<li>'a'</li>\n",
       "\t<li>'large'</li>\n",
       "\t<li>'button-hole'</li>\n",
       "\t<li>'of'</li>\n",
       "\t<li>'Parma'</li>\n",
       "\t<li>'violets,'</li>\n",
       "\t<li>'Dorian'</li>\n",
       "\t<li>'Gray'</li>\n",
       "\t<li>'was'</li>\n",
       "\t<li>'ushered'</li>\n",
       "\t<li>'into'</li>\n",
       "\t<li>'Lady'</li>\n",
       "\t<li>'Narborough’s'</li>\n",
       "\t<li>'drawing-room'</li>\n",
       "\t<li>'by'</li>\n",
       "\t<li>'bowing'</li>\n",
       "\t<li>'servants.'</li>\n",
       "\t<li>'His'</li>\n",
       "\t<li>'forehead'</li>\n",
       "\t<li>'was'</li>\n",
       "\t<li>'throbbing'</li>\n",
       "\t<li>'with'</li>\n",
       "\t<li>'maddened'</li>\n",
       "\t<li>'nerves,'</li>\n",
       "\t<li>'and'</li>\n",
       "\t<li>'he'</li>\n",
       "\t<li>'felt'</li>\n",
       "\t<li>'wildly'</li>\n",
       "\t<li>'excited,'</li>\n",
       "\t<li>'but'</li>\n",
       "\t<li>'his'</li>\n",
       "\t<li>'manner'</li>\n",
       "\t<li>'as'</li>\n",
       "\t<li>'he'</li>\n",
       "\t<li>'bent'</li>\n",
       "\t<li>'over'</li>\n",
       "\t<li>'his'</li>\n",
       "\t<li>'hostess’s'</li>\n",
       "\t<li>'hand'</li>\n",
       "\t<li>'was'</li>\n",
       "\t<li>'as'</li>\n",
       "\t<li>'easy'</li>\n",
       "\t<li>'and'</li>\n",
       "\t<li>'graceful'</li>\n",
       "\t<li>'as'</li>\n",
       "\t<li>'ever.'</li>\n",
       "\t<li>'Perhaps'</li>\n",
       "\t<li>'one'</li>\n",
       "\t<li>'never'</li>\n",
       "\t<li>'seems'</li>\n",
       "\t<li>'so'</li>\n",
       "\t<li>'much'</li>\n",
       "\t<li>'at'</li>\n",
       "\t<li>'one’s'</li>\n",
       "\t<li>'ease'</li>\n",
       "\t<li>'as'</li>\n",
       "\t<li>'when'</li>\n",
       "\t<li>'one'</li>\n",
       "\t<li>'has'</li>\n",
       "\t<li>'to'</li>\n",
       "\t<li>'play'</li>\n",
       "\t<li>'a'</li>\n",
       "\t<li>'part.'</li>\n",
       "\t<li>'Certainly'</li>\n",
       "\t<li>'no'</li>\n",
       "\t<li>'one'</li>\n",
       "\t<li>'looking'</li>\n",
       "\t<li>'at'</li>\n",
       "\t<li>'Dorian'</li>\n",
       "\t<li>'Gray'</li>\n",
       "\t<li>'that'</li>\n",
       "\t<li>'night'</li>\n",
       "\t<li>'could'</li>\n",
       "\t<li>'have'</li>\n",
       "\t<li>'believed'</li>\n",
       "\t<li>'that'</li>\n",
       "\t<li>'he'</li>\n",
       "\t<li>'had'</li>\n",
       "\t<li>'passed'</li>\n",
       "\t<li>'through'</li>\n",
       "\t<li>'a'</li>\n",
       "\t<li>'tragedy'</li>\n",
       "\t<li>'as'</li>\n",
       "\t<li>'horrible'</li>\n",
       "\t<li>'as'</li>\n",
       "\t<li>'any'</li>\n",
       "\t<li>'tragedy'</li>\n",
       "\t<li>'of'</li>\n",
       "\t<li>'our'</li>\n",
       "\t<li>'age.'</li>\n",
       "\t<li>'Those'</li>\n",
       "\t<li>'finely'</li>\n",
       "\t<li>'shaped'</li>\n",
       "\t<li>'fingers'</li>\n",
       "\t<li>'could'</li>\n",
       "\t<li>'never'</li>\n",
       "\t<li>'have'</li>\n",
       "\t<li>'clutched'</li>\n",
       "\t<li>'a'</li>\n",
       "\t<li>'knife'</li>\n",
       "\t<li>'for'</li>\n",
       "\t<li>'sin,'</li>\n",
       "\t<li>'nor'</li>\n",
       "\t<li>'those'</li>\n",
       "\t<li>'smiling'</li>\n",
       "\t<li>'lips'</li>\n",
       "\t<li>'have'</li>\n",
       "\t<li>'cried'</li>\n",
       "\t<li>'out'</li>\n",
       "\t<li>'on'</li>\n",
       "\t<li>'God'</li>\n",
       "\t<li>'and'</li>\n",
       "\t<li>'goodness.'</li>\n",
       "\t<li>'He'</li>\n",
       "\t<li>'himself'</li>\n",
       "\t<li>'could'</li>\n",
       "\t<li>'not'</li>\n",
       "\t<li>'help'</li>\n",
       "\t<li>'wondering'</li>\n",
       "\t<li>'at'</li>\n",
       "\t<li>'the'</li>\n",
       "\t<li>'calm'</li>\n",
       "\t<li>'of'</li>\n",
       "\t<li>'his'</li>\n",
       "\t<li>'demeanour,'</li>\n",
       "\t<li>'and'</li>\n",
       "\t<li>'for'</li>\n",
       "\t<li>'a'</li>\n",
       "\t<li>'moment'</li>\n",
       "\t<li>'felt'</li>\n",
       "\t<li>'keenly'</li>\n",
       "\t<li>'the'</li>\n",
       "\t<li>'terrible'</li>\n",
       "\t<li>'pleasure'</li>\n",
       "\t<li>'of'</li>\n",
       "\t<li>'a'</li>\n",
       "\t<li>'double'</li>\n",
       "\t<li>'life.'</li>\n",
       "</ol>\n"
      ],
      "text/latex": [
       "\\begin{enumerate*}\n",
       "\\item 'That'\n",
       "\\item 'evening,'\n",
       "\\item 'at'\n",
       "\\item 'eight-thirty,'\n",
       "\\item 'exquisitely'\n",
       "\\item 'dressed'\n",
       "\\item 'and'\n",
       "\\item 'wearing'\n",
       "\\item 'a'\n",
       "\\item 'large'\n",
       "\\item 'button-hole'\n",
       "\\item 'of'\n",
       "\\item 'Parma'\n",
       "\\item 'violets,'\n",
       "\\item 'Dorian'\n",
       "\\item 'Gray'\n",
       "\\item 'was'\n",
       "\\item 'ushered'\n",
       "\\item 'into'\n",
       "\\item 'Lady'\n",
       "\\item 'Narborough’s'\n",
       "\\item 'drawing-room'\n",
       "\\item 'by'\n",
       "\\item 'bowing'\n",
       "\\item 'servants.'\n",
       "\\item 'His'\n",
       "\\item 'forehead'\n",
       "\\item 'was'\n",
       "\\item 'throbbing'\n",
       "\\item 'with'\n",
       "\\item 'maddened'\n",
       "\\item 'nerves,'\n",
       "\\item 'and'\n",
       "\\item 'he'\n",
       "\\item 'felt'\n",
       "\\item 'wildly'\n",
       "\\item 'excited,'\n",
       "\\item 'but'\n",
       "\\item 'his'\n",
       "\\item 'manner'\n",
       "\\item 'as'\n",
       "\\item 'he'\n",
       "\\item 'bent'\n",
       "\\item 'over'\n",
       "\\item 'his'\n",
       "\\item 'hostess’s'\n",
       "\\item 'hand'\n",
       "\\item 'was'\n",
       "\\item 'as'\n",
       "\\item 'easy'\n",
       "\\item 'and'\n",
       "\\item 'graceful'\n",
       "\\item 'as'\n",
       "\\item 'ever.'\n",
       "\\item 'Perhaps'\n",
       "\\item 'one'\n",
       "\\item 'never'\n",
       "\\item 'seems'\n",
       "\\item 'so'\n",
       "\\item 'much'\n",
       "\\item 'at'\n",
       "\\item 'one’s'\n",
       "\\item 'ease'\n",
       "\\item 'as'\n",
       "\\item 'when'\n",
       "\\item 'one'\n",
       "\\item 'has'\n",
       "\\item 'to'\n",
       "\\item 'play'\n",
       "\\item 'a'\n",
       "\\item 'part.'\n",
       "\\item 'Certainly'\n",
       "\\item 'no'\n",
       "\\item 'one'\n",
       "\\item 'looking'\n",
       "\\item 'at'\n",
       "\\item 'Dorian'\n",
       "\\item 'Gray'\n",
       "\\item 'that'\n",
       "\\item 'night'\n",
       "\\item 'could'\n",
       "\\item 'have'\n",
       "\\item 'believed'\n",
       "\\item 'that'\n",
       "\\item 'he'\n",
       "\\item 'had'\n",
       "\\item 'passed'\n",
       "\\item 'through'\n",
       "\\item 'a'\n",
       "\\item 'tragedy'\n",
       "\\item 'as'\n",
       "\\item 'horrible'\n",
       "\\item 'as'\n",
       "\\item 'any'\n",
       "\\item 'tragedy'\n",
       "\\item 'of'\n",
       "\\item 'our'\n",
       "\\item 'age.'\n",
       "\\item 'Those'\n",
       "\\item 'finely'\n",
       "\\item 'shaped'\n",
       "\\item 'fingers'\n",
       "\\item 'could'\n",
       "\\item 'never'\n",
       "\\item 'have'\n",
       "\\item 'clutched'\n",
       "\\item 'a'\n",
       "\\item 'knife'\n",
       "\\item 'for'\n",
       "\\item 'sin,'\n",
       "\\item 'nor'\n",
       "\\item 'those'\n",
       "\\item 'smiling'\n",
       "\\item 'lips'\n",
       "\\item 'have'\n",
       "\\item 'cried'\n",
       "\\item 'out'\n",
       "\\item 'on'\n",
       "\\item 'God'\n",
       "\\item 'and'\n",
       "\\item 'goodness.'\n",
       "\\item 'He'\n",
       "\\item 'himself'\n",
       "\\item 'could'\n",
       "\\item 'not'\n",
       "\\item 'help'\n",
       "\\item 'wondering'\n",
       "\\item 'at'\n",
       "\\item 'the'\n",
       "\\item 'calm'\n",
       "\\item 'of'\n",
       "\\item 'his'\n",
       "\\item 'demeanour,'\n",
       "\\item 'and'\n",
       "\\item 'for'\n",
       "\\item 'a'\n",
       "\\item 'moment'\n",
       "\\item 'felt'\n",
       "\\item 'keenly'\n",
       "\\item 'the'\n",
       "\\item 'terrible'\n",
       "\\item 'pleasure'\n",
       "\\item 'of'\n",
       "\\item 'a'\n",
       "\\item 'double'\n",
       "\\item 'life.'\n",
       "\\end{enumerate*}\n"
      ],
      "text/markdown": [
       "1. 'That'\n",
       "2. 'evening,'\n",
       "3. 'at'\n",
       "4. 'eight-thirty,'\n",
       "5. 'exquisitely'\n",
       "6. 'dressed'\n",
       "7. 'and'\n",
       "8. 'wearing'\n",
       "9. 'a'\n",
       "10. 'large'\n",
       "11. 'button-hole'\n",
       "12. 'of'\n",
       "13. 'Parma'\n",
       "14. 'violets,'\n",
       "15. 'Dorian'\n",
       "16. 'Gray'\n",
       "17. 'was'\n",
       "18. 'ushered'\n",
       "19. 'into'\n",
       "20. 'Lady'\n",
       "21. 'Narborough’s'\n",
       "22. 'drawing-room'\n",
       "23. 'by'\n",
       "24. 'bowing'\n",
       "25. 'servants.'\n",
       "26. 'His'\n",
       "27. 'forehead'\n",
       "28. 'was'\n",
       "29. 'throbbing'\n",
       "30. 'with'\n",
       "31. 'maddened'\n",
       "32. 'nerves,'\n",
       "33. 'and'\n",
       "34. 'he'\n",
       "35. 'felt'\n",
       "36. 'wildly'\n",
       "37. 'excited,'\n",
       "38. 'but'\n",
       "39. 'his'\n",
       "40. 'manner'\n",
       "41. 'as'\n",
       "42. 'he'\n",
       "43. 'bent'\n",
       "44. 'over'\n",
       "45. 'his'\n",
       "46. 'hostess’s'\n",
       "47. 'hand'\n",
       "48. 'was'\n",
       "49. 'as'\n",
       "50. 'easy'\n",
       "51. 'and'\n",
       "52. 'graceful'\n",
       "53. 'as'\n",
       "54. 'ever.'\n",
       "55. 'Perhaps'\n",
       "56. 'one'\n",
       "57. 'never'\n",
       "58. 'seems'\n",
       "59. 'so'\n",
       "60. 'much'\n",
       "61. 'at'\n",
       "62. 'one’s'\n",
       "63. 'ease'\n",
       "64. 'as'\n",
       "65. 'when'\n",
       "66. 'one'\n",
       "67. 'has'\n",
       "68. 'to'\n",
       "69. 'play'\n",
       "70. 'a'\n",
       "71. 'part.'\n",
       "72. 'Certainly'\n",
       "73. 'no'\n",
       "74. 'one'\n",
       "75. 'looking'\n",
       "76. 'at'\n",
       "77. 'Dorian'\n",
       "78. 'Gray'\n",
       "79. 'that'\n",
       "80. 'night'\n",
       "81. 'could'\n",
       "82. 'have'\n",
       "83. 'believed'\n",
       "84. 'that'\n",
       "85. 'he'\n",
       "86. 'had'\n",
       "87. 'passed'\n",
       "88. 'through'\n",
       "89. 'a'\n",
       "90. 'tragedy'\n",
       "91. 'as'\n",
       "92. 'horrible'\n",
       "93. 'as'\n",
       "94. 'any'\n",
       "95. 'tragedy'\n",
       "96. 'of'\n",
       "97. 'our'\n",
       "98. 'age.'\n",
       "99. 'Those'\n",
       "100. 'finely'\n",
       "101. 'shaped'\n",
       "102. 'fingers'\n",
       "103. 'could'\n",
       "104. 'never'\n",
       "105. 'have'\n",
       "106. 'clutched'\n",
       "107. 'a'\n",
       "108. 'knife'\n",
       "109. 'for'\n",
       "110. 'sin,'\n",
       "111. 'nor'\n",
       "112. 'those'\n",
       "113. 'smiling'\n",
       "114. 'lips'\n",
       "115. 'have'\n",
       "116. 'cried'\n",
       "117. 'out'\n",
       "118. 'on'\n",
       "119. 'God'\n",
       "120. 'and'\n",
       "121. 'goodness.'\n",
       "122. 'He'\n",
       "123. 'himself'\n",
       "124. 'could'\n",
       "125. 'not'\n",
       "126. 'help'\n",
       "127. 'wondering'\n",
       "128. 'at'\n",
       "129. 'the'\n",
       "130. 'calm'\n",
       "131. 'of'\n",
       "132. 'his'\n",
       "133. 'demeanour,'\n",
       "134. 'and'\n",
       "135. 'for'\n",
       "136. 'a'\n",
       "137. 'moment'\n",
       "138. 'felt'\n",
       "139. 'keenly'\n",
       "140. 'the'\n",
       "141. 'terrible'\n",
       "142. 'pleasure'\n",
       "143. 'of'\n",
       "144. 'a'\n",
       "145. 'double'\n",
       "146. 'life.'\n",
       "\n",
       "\n"
      ],
      "text/plain": [
       "  [1] \"That\"          \"evening,\"      \"at\"            \"eight-thirty,\"\n",
       "  [5] \"exquisitely\"   \"dressed\"       \"and\"           \"wearing\"      \n",
       "  [9] \"a\"             \"large\"         \"button-hole\"   \"of\"           \n",
       " [13] \"Parma\"         \"violets,\"      \"Dorian\"        \"Gray\"         \n",
       " [17] \"was\"           \"ushered\"       \"into\"          \"Lady\"         \n",
       " [21] \"Narborough’s\"  \"drawing-room\"  \"by\"            \"bowing\"       \n",
       " [25] \"servants.\"     \"His\"           \"forehead\"      \"was\"          \n",
       " [29] \"throbbing\"     \"with\"          \"maddened\"      \"nerves,\"      \n",
       " [33] \"and\"           \"he\"            \"felt\"          \"wildly\"       \n",
       " [37] \"excited,\"      \"but\"           \"his\"           \"manner\"       \n",
       " [41] \"as\"            \"he\"            \"bent\"          \"over\"         \n",
       " [45] \"his\"           \"hostess’s\"     \"hand\"          \"was\"          \n",
       " [49] \"as\"            \"easy\"          \"and\"           \"graceful\"     \n",
       " [53] \"as\"            \"ever.\"         \"Perhaps\"       \"one\"          \n",
       " [57] \"never\"         \"seems\"         \"so\"            \"much\"         \n",
       " [61] \"at\"            \"one’s\"         \"ease\"          \"as\"           \n",
       " [65] \"when\"          \"one\"           \"has\"           \"to\"           \n",
       " [69] \"play\"          \"a\"             \"part.\"         \"Certainly\"    \n",
       " [73] \"no\"            \"one\"           \"looking\"       \"at\"           \n",
       " [77] \"Dorian\"        \"Gray\"          \"that\"          \"night\"        \n",
       " [81] \"could\"         \"have\"          \"believed\"      \"that\"         \n",
       " [85] \"he\"            \"had\"           \"passed\"        \"through\"      \n",
       " [89] \"a\"             \"tragedy\"       \"as\"            \"horrible\"     \n",
       " [93] \"as\"            \"any\"           \"tragedy\"       \"of\"           \n",
       " [97] \"our\"           \"age.\"          \"Those\"         \"finely\"       \n",
       "[101] \"shaped\"        \"fingers\"       \"could\"         \"never\"        \n",
       "[105] \"have\"          \"clutched\"      \"a\"             \"knife\"        \n",
       "[109] \"for\"           \"sin,\"          \"nor\"           \"those\"        \n",
       "[113] \"smiling\"       \"lips\"          \"have\"          \"cried\"        \n",
       "[117] \"out\"           \"on\"            \"God\"           \"and\"          \n",
       "[121] \"goodness.\"     \"He\"            \"himself\"       \"could\"        \n",
       "[125] \"not\"           \"help\"          \"wondering\"     \"at\"           \n",
       "[129] \"the\"           \"calm\"          \"of\"            \"his\"          \n",
       "[133] \"demeanour,\"    \"and\"           \"for\"           \"a\"            \n",
       "[137] \"moment\"        \"felt\"          \"keenly\"        \"the\"          \n",
       "[141] \"terrible\"      \"pleasure\"      \"of\"            \"a\"            \n",
       "[145] \"double\"        \"life.\"        "
      ]
     },
     "metadata": {},
     "output_type": "display_data"
    }
   ],
   "source": [
    "text_words <- unlist(strsplit(my_text, split = \"\\\\s\"))  #split at every whitespace - \\\\s is an escape character\n",
    "text_words"
   ]
  },
  {
   "cell_type": "markdown",
   "metadata": {
    "slideshow": {
     "slide_type": "fragment"
    }
   },
   "source": [
    "The text is now a vector, each word with its own index (subset using `[]`):"
   ]
  },
  {
   "cell_type": "code",
   "execution_count": 5,
   "metadata": {
    "slideshow": {
     "slide_type": "fragment"
    }
   },
   "outputs": [
    {
     "data": {
      "text/html": [
       "'exquisitely'"
      ],
      "text/latex": [
       "'exquisitely'"
      ],
      "text/markdown": [
       "'exquisitely'"
      ],
      "text/plain": [
       "[1] \"exquisitely\""
      ]
     },
     "metadata": {},
     "output_type": "display_data"
    },
    {
     "data": {
      "text/html": [
       "'drawing-room'"
      ],
      "text/latex": [
       "'drawing-room'"
      ],
      "text/markdown": [
       "'drawing-room'"
      ],
      "text/plain": [
       "[1] \"drawing-room\""
      ]
     },
     "metadata": {},
     "output_type": "display_data"
    }
   ],
   "source": [
    "text_words[5]\n",
    "text_words[22]"
   ]
  },
  {
   "cell_type": "markdown",
   "metadata": {
    "slideshow": {
     "slide_type": "fragment"
    }
   },
   "source": [
    "This allows us to perform counts and other summaries."
   ]
  },
  {
   "cell_type": "markdown",
   "metadata": {
    "slideshow": {
     "slide_type": "slide"
    }
   },
   "source": [
    "## Working with strings: The `stringr` package\n",
    "\n",
    "The package `stringr` is a tidyverse package for working with strings."
   ]
  },
  {
   "cell_type": "code",
   "execution_count": 6,
   "metadata": {},
   "outputs": [],
   "source": [
    "library(stringr)"
   ]
  },
  {
   "cell_type": "markdown",
   "metadata": {
    "slideshow": {
     "slide_type": "slide"
    }
   },
   "source": [
    "`stringr` can be used in a variety of different ways."
   ]
  },
  {
   "cell_type": "code",
   "execution_count": 7,
   "metadata": {
    "slideshow": {
     "slide_type": "fragment"
    }
   },
   "outputs": [
    {
     "data": {
      "text/html": [
       "'that evening, at eight-thirty, exquisitely dressed and wearing a large button-hole of parma violets, dorian gray was ushered into lady narborough’s drawing-room by bowing servants. his forehead was throbbing with maddened nerves, and he felt wildly excited, but his manner as he bent over his hostess’s hand was as easy and graceful as ever. perhaps one never seems so much at one’s ease as when one has to play a part. certainly no one looking at dorian gray that night could have believed that he had passed through a tragedy as horrible as any tragedy of our age. those finely shaped fingers could never have clutched a knife for sin, nor those smiling lips have cried out on god and goodness. he himself could not help wondering at the calm of his demeanour, and for a moment felt keenly the terrible pleasure of a double life. '"
      ],
      "text/latex": [
       "'that evening, at eight-thirty, exquisitely dressed and wearing a large button-hole of parma violets, dorian gray was ushered into lady narborough’s drawing-room by bowing servants. his forehead was throbbing with maddened nerves, and he felt wildly excited, but his manner as he bent over his hostess’s hand was as easy and graceful as ever. perhaps one never seems so much at one’s ease as when one has to play a part. certainly no one looking at dorian gray that night could have believed that he had passed through a tragedy as horrible as any tragedy of our age. those finely shaped fingers could never have clutched a knife for sin, nor those smiling lips have cried out on god and goodness. he himself could not help wondering at the calm of his demeanour, and for a moment felt keenly the terrible pleasure of a double life. '"
      ],
      "text/markdown": [
       "'that evening, at eight-thirty, exquisitely dressed and wearing a large button-hole of parma violets, dorian gray was ushered into lady narborough’s drawing-room by bowing servants. his forehead was throbbing with maddened nerves, and he felt wildly excited, but his manner as he bent over his hostess’s hand was as easy and graceful as ever. perhaps one never seems so much at one’s ease as when one has to play a part. certainly no one looking at dorian gray that night could have believed that he had passed through a tragedy as horrible as any tragedy of our age. those finely shaped fingers could never have clutched a knife for sin, nor those smiling lips have cried out on god and goodness. he himself could not help wondering at the calm of his demeanour, and for a moment felt keenly the terrible pleasure of a double life. '"
      ],
      "text/plain": [
       "[1] \"that evening, at eight-thirty, exquisitely dressed and wearing a large button-hole of parma violets, dorian gray was ushered into lady narborough’s drawing-room by bowing servants. his forehead was throbbing with maddened nerves, and he felt wildly excited, but his manner as he bent over his hostess’s hand was as easy and graceful as ever. perhaps one never seems so much at one’s ease as when one has to play a part. certainly no one looking at dorian gray that night could have believed that he had passed through a tragedy as horrible as any tragedy of our age. those finely shaped fingers could never have clutched a knife for sin, nor those smiling lips have cried out on god and goodness. he himself could not help wondering at the calm of his demeanour, and for a moment felt keenly the terrible pleasure of a double life. \""
      ]
     },
     "metadata": {},
     "output_type": "display_data"
    }
   ],
   "source": [
    "# Changing case (here to lowercase)\n",
    "str_to_lower(my_text)"
   ]
  },
  {
   "cell_type": "code",
   "execution_count": 9,
   "metadata": {
    "slideshow": {
     "slide_type": "fragment"
    }
   },
   "outputs": [
    {
     "data": {
      "text/html": [
       "TRUE"
      ],
      "text/latex": [
       "TRUE"
      ],
      "text/markdown": [
       "TRUE"
      ],
      "text/plain": [
       "[1] TRUE"
      ]
     },
     "metadata": {},
     "output_type": "display_data"
    }
   ],
   "source": [
    "# Looking up words\n",
    "str_detect(my_text, \"tragedy\")"
   ]
  },
  {
   "cell_type": "code",
   "execution_count": 11,
   "metadata": {
    "slideshow": {
     "slide_type": "fragment"
    }
   },
   "outputs": [
    {
     "data": {
      "text/html": [
       "2"
      ],
      "text/latex": [
       "2"
      ],
      "text/markdown": [
       "2"
      ],
      "text/plain": [
       "[1] 2"
      ]
     },
     "metadata": {},
     "output_type": "display_data"
    }
   ],
   "source": [
    "# Counting matches\n",
    "str_count(my_text, \"tragedy\")"
   ]
  },
  {
   "cell_type": "markdown",
   "metadata": {
    "slideshow": {
     "slide_type": "slide"
    }
   },
   "source": [
    "The functions of `stringr` also work on a grouping of elements (like a vector). We can see this when we split the text into sentences and then use the same functions"
   ]
  },
  {
   "cell_type": "code",
   "execution_count": 20,
   "metadata": {
    "slideshow": {
     "slide_type": "fragment"
    }
   },
   "outputs": [],
   "source": [
    "# Splitting text into elements; here separating at commas\n",
    "# unlist is used to coerce to a vector; otherwise it is returned as a list\n",
    "text_sent <- str_split(my_text, pattern = \"\\\\.\") %>% \n",
    "unlist()"
   ]
  },
  {
   "cell_type": "code",
   "execution_count": 21,
   "metadata": {
    "slideshow": {
     "slide_type": "fragment"
    }
   },
   "outputs": [
    {
     "data": {
      "text/html": [
       "<ol class=list-inline>\n",
       "\t<li>FALSE</li>\n",
       "\t<li>FALSE</li>\n",
       "\t<li>FALSE</li>\n",
       "\t<li>TRUE</li>\n",
       "\t<li>FALSE</li>\n",
       "\t<li>FALSE</li>\n",
       "\t<li>FALSE</li>\n",
       "</ol>\n"
      ],
      "text/latex": [
       "\\begin{enumerate*}\n",
       "\\item FALSE\n",
       "\\item FALSE\n",
       "\\item FALSE\n",
       "\\item TRUE\n",
       "\\item FALSE\n",
       "\\item FALSE\n",
       "\\item FALSE\n",
       "\\end{enumerate*}\n"
      ],
      "text/markdown": [
       "1. FALSE\n",
       "2. FALSE\n",
       "3. FALSE\n",
       "4. TRUE\n",
       "5. FALSE\n",
       "6. FALSE\n",
       "7. FALSE\n",
       "\n",
       "\n"
      ],
      "text/plain": [
       "[1] FALSE FALSE FALSE  TRUE FALSE FALSE FALSE"
      ]
     },
     "metadata": {},
     "output_type": "display_data"
    }
   ],
   "source": [
    "# Looking up word in each sentence\n",
    "str_detect(text_sent, \"tragedy\")"
   ]
  },
  {
   "cell_type": "code",
   "execution_count": 22,
   "metadata": {
    "slideshow": {
     "slide_type": "fragment"
    }
   },
   "outputs": [
    {
     "data": {
      "text/html": [
       "<ol class=list-inline>\n",
       "\t<li>0</li>\n",
       "\t<li>0</li>\n",
       "\t<li>0</li>\n",
       "\t<li>2</li>\n",
       "\t<li>0</li>\n",
       "\t<li>0</li>\n",
       "\t<li>0</li>\n",
       "</ol>\n"
      ],
      "text/latex": [
       "\\begin{enumerate*}\n",
       "\\item 0\n",
       "\\item 0\n",
       "\\item 0\n",
       "\\item 2\n",
       "\\item 0\n",
       "\\item 0\n",
       "\\item 0\n",
       "\\end{enumerate*}\n"
      ],
      "text/markdown": [
       "1. 0\n",
       "2. 0\n",
       "3. 0\n",
       "4. 2\n",
       "5. 0\n",
       "6. 0\n",
       "7. 0\n",
       "\n",
       "\n"
      ],
      "text/plain": [
       "[1] 0 0 0 2 0 0 0"
      ]
     },
     "metadata": {},
     "output_type": "display_data"
    }
   ],
   "source": [
    "# Counting word in each sentence\n",
    "str_count(text_sent, \"tragedy\")"
   ]
  },
  {
   "cell_type": "markdown",
   "metadata": {
    "slideshow": {
     "slide_type": "subslide"
    }
   },
   "source": [
    "### A note on indexing and booleans\n",
    "When inputting boolean valules as an index, R will only return the `TRUE` values.\n",
    "\n",
    "This means that we can use commands like `str_detect` to only return text elements containing specific words."
   ]
  },
  {
   "cell_type": "code",
   "execution_count": 23,
   "metadata": {
    "slideshow": {
     "slide_type": "fragment"
    }
   },
   "outputs": [
    {
     "data": {
      "text/html": [
       "' Certainly no one looking at Dorian Gray that night could have believed that he had passed through a tragedy as horrible as any tragedy of our age'"
      ],
      "text/latex": [
       "' Certainly no one looking at Dorian Gray that night could have believed that he had passed through a tragedy as horrible as any tragedy of our age'"
      ],
      "text/markdown": [
       "' Certainly no one looking at Dorian Gray that night could have believed that he had passed through a tragedy as horrible as any tragedy of our age'"
      ],
      "text/plain": [
       "[1] \" Certainly no one looking at Dorian Gray that night could have believed that he had passed through a tragedy as horrible as any tragedy of our age\""
      ]
     },
     "metadata": {},
     "output_type": "display_data"
    }
   ],
   "source": [
    "text_sent[str_detect(text_sent, \"tragedy\")]"
   ]
  },
  {
   "cell_type": "markdown",
   "metadata": {},
   "source": [
    "`str_subset` has combined this functionality in one function:"
   ]
  },
  {
   "cell_type": "code",
   "execution_count": 25,
   "metadata": {},
   "outputs": [
    {
     "data": {
      "text/html": [
       "' Certainly no one looking at Dorian Gray that night could have believed that he had passed through a tragedy as horrible as any tragedy of our age'"
      ],
      "text/latex": [
       "' Certainly no one looking at Dorian Gray that night could have believed that he had passed through a tragedy as horrible as any tragedy of our age'"
      ],
      "text/markdown": [
       "' Certainly no one looking at Dorian Gray that night could have believed that he had passed through a tragedy as horrible as any tragedy of our age'"
      ],
      "text/plain": [
       "[1] \" Certainly no one looking at Dorian Gray that night could have believed that he had passed through a tragedy as horrible as any tragedy of our age\""
      ]
     },
     "metadata": {},
     "output_type": "display_data"
    }
   ],
   "source": [
    "str_subset(text_sent, \"tragedy\")"
   ]
  },
  {
   "cell_type": "markdown",
   "metadata": {
    "slideshow": {
     "slide_type": "slide"
    }
   },
   "source": [
    "## EXERCISE: WORKING WITH A TEXT AS A VECTOR\n",
    "\n",
    "In the following, you will create a vector containing the sentences of the texts and then looking up certain words.\n",
    "\n",
    "Make sure you have the package `stringr` installed and loaded.\n",
    "\n",
    "1. Assign the following text snippet to an object:\n",
    "\n",
    "    \"Themis, who has already been alluded to as the wife of Zeus, was the daughter of Cronus and Rhea, and personified those divine laws of justice and order by means of which the well-being and morality of communities are regulated. She presided over the assemblies of the people and the laws of hospitality.\"\n",
    "    \n",
    "\n",
    "2. Convert the text snippet to a vector of senteces.\n",
    "    \n",
    "    a. Split the texts into sentences using `str_split(texts, pattern = \",\")`. Assign to an object (splitting at commas instead of periods).\n",
    "    \n",
    "    c. Unlist the object to convert to a vector using `unlist()`. Assign to the same or a new object.\n",
    "    \n",
    "    \n",
    "2. Use `str_subset()` to see extract sentences that contain the name \"Zeus\". "
   ]
  },
  {
   "cell_type": "markdown",
   "metadata": {
    "slideshow": {
     "slide_type": "slide"
    }
   },
   "source": [
    "## Regular expressions\n",
    "Often when working with text, we have more \"fuzzy\" patterns we want to search for. \n",
    "\n",
    "Regular expression is a common \"language\" for processing text patterns.\n",
    "\n",
    "`stringr` supports regular expression arguements.\n",
    "\n",
    "Possible uses:\n",
    "- Finding words of a certain length\n",
    "- Finding sentences containing a certain word or pattern\n",
    "- Finding words following a certain pattern\n",
    "- and so on.\n",
    "\n",
    "Regular expression (or \"regex\") can be used in most function in `stringr`. "
   ]
  },
  {
   "cell_type": "markdown",
   "metadata": {
    "slideshow": {
     "slide_type": "slide"
    }
   },
   "source": [
    "The function `str_subset()` creates a subset of elements with the strings containing the pattern."
   ]
  },
  {
   "cell_type": "code",
   "execution_count": 26,
   "metadata": {
    "slideshow": {
     "slide_type": "skip"
    }
   },
   "outputs": [
    {
     "data": {
      "text/html": [
       "<ol class=list-inline>\n",
       "\t<li>'That evening, at eight-thirty, exquisitely dressed and wearing a large button-hole of Parma violets, Dorian Gray was ushered into Lady Narborough’s drawing-room by bowing servants'</li>\n",
       "\t<li>' His forehead was throbbing with maddened nerves, and he felt wildly excited, but his manner as he bent over his hostess’s hand was as easy and graceful as ever'</li>\n",
       "\t<li>' Perhaps one never seems so much at one’s ease as when one has to play a part'</li>\n",
       "\t<li>' Certainly no one looking at Dorian Gray that night could have believed that he had passed through a tragedy as horrible as any tragedy of our age'</li>\n",
       "\t<li>' Those finely shaped fingers could never have clutched a knife for sin, nor those smiling lips have cried out on God and goodness'</li>\n",
       "\t<li>' He himself could not help wondering at the calm of his demeanour, and for a moment felt keenly the terrible pleasure of a double life'</li>\n",
       "\t<li>' '</li>\n",
       "</ol>\n"
      ],
      "text/latex": [
       "\\begin{enumerate*}\n",
       "\\item 'That evening, at eight-thirty, exquisitely dressed and wearing a large button-hole of Parma violets, Dorian Gray was ushered into Lady Narborough’s drawing-room by bowing servants'\n",
       "\\item ' His forehead was throbbing with maddened nerves, and he felt wildly excited, but his manner as he bent over his hostess’s hand was as easy and graceful as ever'\n",
       "\\item ' Perhaps one never seems so much at one’s ease as when one has to play a part'\n",
       "\\item ' Certainly no one looking at Dorian Gray that night could have believed that he had passed through a tragedy as horrible as any tragedy of our age'\n",
       "\\item ' Those finely shaped fingers could never have clutched a knife for sin, nor those smiling lips have cried out on God and goodness'\n",
       "\\item ' He himself could not help wondering at the calm of his demeanour, and for a moment felt keenly the terrible pleasure of a double life'\n",
       "\\item ' '\n",
       "\\end{enumerate*}\n"
      ],
      "text/markdown": [
       "1. 'That evening, at eight-thirty, exquisitely dressed and wearing a large button-hole of Parma violets, Dorian Gray was ushered into Lady Narborough’s drawing-room by bowing servants'\n",
       "2. ' His forehead was throbbing with maddened nerves, and he felt wildly excited, but his manner as he bent over his hostess’s hand was as easy and graceful as ever'\n",
       "3. ' Perhaps one never seems so much at one’s ease as when one has to play a part'\n",
       "4. ' Certainly no one looking at Dorian Gray that night could have believed that he had passed through a tragedy as horrible as any tragedy of our age'\n",
       "5. ' Those finely shaped fingers could never have clutched a knife for sin, nor those smiling lips have cried out on God and goodness'\n",
       "6. ' He himself could not help wondering at the calm of his demeanour, and for a moment felt keenly the terrible pleasure of a double life'\n",
       "7. ' '\n",
       "\n",
       "\n"
      ],
      "text/plain": [
       "[1] \"That evening, at eight-thirty, exquisitely dressed and wearing a large button-hole of Parma violets, Dorian Gray was ushered into Lady Narborough’s drawing-room by bowing servants\"\n",
       "[2] \" His forehead was throbbing with maddened nerves, and he felt wildly excited, but his manner as he bent over his hostess’s hand was as easy and graceful as ever\"                   \n",
       "[3] \" Perhaps one never seems so much at one’s ease as when one has to play a part\"                                                                                                      \n",
       "[4] \" Certainly no one looking at Dorian Gray that night could have believed that he had passed through a tragedy as horrible as any tragedy of our age\"                                 \n",
       "[5] \" Those finely shaped fingers could never have clutched a knife for sin, nor those smiling lips have cried out on God and goodness\"                                                  \n",
       "[6] \" He himself could not help wondering at the calm of his demeanour, and for a moment felt keenly the terrible pleasure of a double life\"                                             \n",
       "[7] \" \"                                                                                                                                                                                  "
      ]
     },
     "metadata": {},
     "output_type": "display_data"
    }
   ],
   "source": [
    "text_sent"
   ]
  },
  {
   "cell_type": "code",
   "execution_count": 27,
   "metadata": {
    "slideshow": {
     "slide_type": "fragment"
    }
   },
   "outputs": [
    {
     "data": {
      "text/html": [
       "<ol class=list-inline>\n",
       "\t<li>' His forehead was throbbing with maddened nerves, and he felt wildly excited, but his manner as he bent over his hostess’s hand was as easy and graceful as ever'</li>\n",
       "\t<li>' He himself could not help wondering at the calm of his demeanour, and for a moment felt keenly the terrible pleasure of a double life'</li>\n",
       "</ol>\n"
      ],
      "text/latex": [
       "\\begin{enumerate*}\n",
       "\\item ' His forehead was throbbing with maddened nerves, and he felt wildly excited, but his manner as he bent over his hostess’s hand was as easy and graceful as ever'\n",
       "\\item ' He himself could not help wondering at the calm of his demeanour, and for a moment felt keenly the terrible pleasure of a double life'\n",
       "\\end{enumerate*}\n"
      ],
      "text/markdown": [
       "1. ' His forehead was throbbing with maddened nerves, and he felt wildly excited, but his manner as he bent over his hostess’s hand was as easy and graceful as ever'\n",
       "2. ' He himself could not help wondering at the calm of his demeanour, and for a moment felt keenly the terrible pleasure of a double life'\n",
       "\n",
       "\n"
      ],
      "text/plain": [
       "[1] \" His forehead was throbbing with maddened nerves, and he felt wildly excited, but his manner as he bent over his hostess’s hand was as easy and graceful as ever\"\n",
       "[2] \" He himself could not help wondering at the calm of his demeanour, and for a moment felt keenly the terrible pleasure of a double life\"                          "
      ]
     },
     "metadata": {},
     "output_type": "display_data"
    }
   ],
   "source": [
    "# Return sentences containing either \"origin\" or \"before\"\n",
    "str_subset(text_sent, \"excited|wonder\")"
   ]
  },
  {
   "cell_type": "code",
   "execution_count": 33,
   "metadata": {
    "slideshow": {
     "slide_type": "fragment"
    }
   },
   "outputs": [
    {
     "data": {
      "text/html": [
       "<ol class=list-inline>\n",
       "\t<li>'That evening, at eight-thirty, exquisitely dressed and wearing a large button-hole of Parma violets, Dorian Gray was ushered into Lady Narborough’s drawing-room by bowing servants'</li>\n",
       "\t<li>' Certainly no one looking at Dorian Gray that night could have believed that he had passed through a tragedy as horrible as any tragedy of our age'</li>\n",
       "\t<li>' Those finely shaped fingers could never have clutched a knife for sin, nor those smiling lips have cried out on God and goodness'</li>\n",
       "</ol>\n"
      ],
      "text/latex": [
       "\\begin{enumerate*}\n",
       "\\item 'That evening, at eight-thirty, exquisitely dressed and wearing a large button-hole of Parma violets, Dorian Gray was ushered into Lady Narborough’s drawing-room by bowing servants'\n",
       "\\item ' Certainly no one looking at Dorian Gray that night could have believed that he had passed through a tragedy as horrible as any tragedy of our age'\n",
       "\\item ' Those finely shaped fingers could never have clutched a knife for sin, nor those smiling lips have cried out on God and goodness'\n",
       "\\end{enumerate*}\n"
      ],
      "text/markdown": [
       "1. 'That evening, at eight-thirty, exquisitely dressed and wearing a large button-hole of Parma violets, Dorian Gray was ushered into Lady Narborough’s drawing-room by bowing servants'\n",
       "2. ' Certainly no one looking at Dorian Gray that night could have believed that he had passed through a tragedy as horrible as any tragedy of our age'\n",
       "3. ' Those finely shaped fingers could never have clutched a knife for sin, nor those smiling lips have cried out on God and goodness'\n",
       "\n",
       "\n"
      ],
      "text/plain": [
       "[1] \"That evening, at eight-thirty, exquisitely dressed and wearing a large button-hole of Parma violets, Dorian Gray was ushered into Lady Narborough’s drawing-room by bowing servants\"\n",
       "[2] \" Certainly no one looking at Dorian Gray that night could have believed that he had passed through a tragedy as horrible as any tragedy of our age\"                                 \n",
       "[3] \" Those finely shaped fingers could never have clutched a knife for sin, nor those smiling lips have cried out on God and goodness\"                                                  "
      ]
     },
     "metadata": {},
     "output_type": "display_data"
    }
   ],
   "source": [
    "# Return sentences containing words with uppercase (not including the first word of the sentence).\n",
    "str_subset(text_sent, \"\\\\w.*[A-Z]\")"
   ]
  },
  {
   "cell_type": "markdown",
   "metadata": {
    "slideshow": {
     "slide_type": "slide"
    }
   },
   "source": [
    "## EXERCISE: SIMPLE REGEX\n",
    "\n",
    "Use your vector of sentences from the previous exercise.\n",
    "\n",
    "1. Use `str_subset()` to extract sentences containing either the word \"justice\" or \"people\"."
   ]
  }
 ],
 "metadata": {
  "kernelspec": {
   "display_name": "R",
   "language": "R",
   "name": "ir"
  },
  "language_info": {
   "codemirror_mode": "r",
   "file_extension": ".r",
   "mimetype": "text/x-r-source",
   "name": "R",
   "pygments_lexer": "r",
   "version": "3.6.3"
  }
 },
 "nbformat": 4,
 "nbformat_minor": 4
}
