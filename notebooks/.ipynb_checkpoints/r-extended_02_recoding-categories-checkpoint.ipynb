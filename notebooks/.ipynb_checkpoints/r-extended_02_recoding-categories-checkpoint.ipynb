{
 "cells": [
  {
   "cell_type": "markdown",
   "metadata": {},
   "source": [
    "# Recoding categories in R"
   ]
  },
  {
   "cell_type": "markdown",
   "metadata": {},
   "source": [
    "## Recoding categories with base R"
   ]
  },
  {
   "cell_type": "markdown",
   "metadata": {},
   "source": [
    "## Recoding categories with dplyr \n",
    "\n",
    "`dplyr` offers functions for recoding. There are three main functions:\n",
    "- `recode`: For recoding single values\n",
    "- `if_else`: For recoding based on logical\n",
    "- `case_when`: For recoding based on several logicals\n",
    "\n",
    "All these have to be combined with `mutate`."
   ]
  },
  {
   "cell_type": "code",
   "execution_count": null,
   "metadata": {},
   "outputs": [],
   "source": [
    "#Recoding alcfreq to two categories\n",
    "ess_data %>%\n",
    "    mutate(alcfreq = recode(alcfreq, \"Every day\" = \"DAILY DRINKER\", \"Once a week\" = \"WEEKLY DRINKER\"))"
   ]
  },
  {
   "cell_type": "markdown",
   "metadata": {},
   "source": [
    "Using the `.default` arguement, new values can be set for the values not specified."
   ]
  },
  {
   "cell_type": "code",
   "execution_count": null,
   "metadata": {},
   "outputs": [],
   "source": [
    "#Recoding alcfreq to three categories\n",
    "ess_data %>%\n",
    "    mutate(new_alcfreq = recode(alcfreq, \"Every day\" = \"DAILY DRINKER\", \"Once a week\" = \"WEEKLY DRINKER\", \n",
    "                            .default = \"IRRELEVANT\"))"
   ]
  },
  {
   "cell_type": "markdown",
   "metadata": {},
   "source": [
    "Use `if_else` when recoding based on a single logical condition."
   ]
  },
  {
   "cell_type": "code",
   "execution_count": null,
   "metadata": {},
   "outputs": [],
   "source": [
    "ess_data %>% #note that this code also recodes missing\n",
    "    mutate(health = if_else(health == \"Very good\", \"HEALTHY PERSON\", \"LESS HEALTHY PERSON\"))"
   ]
  },
  {
   "cell_type": "markdown",
   "metadata": {},
   "source": [
    "Use `case_when` when recoding based on several logicals."
   ]
  },
  {
   "cell_type": "code",
   "execution_count": null,
   "metadata": {},
   "outputs": [],
   "source": [
    "#Recoding health to healthy/unhealthy\n",
    "ess_data %>%\n",
    "    mutate(health = case_when(\n",
    "        health == \"Very good\" ~ \"healthy\", \n",
    "        health == \"Good\" ~ \"healthy\",\n",
    "        health == \"Bad\" ~ \"unhealthy\",\n",
    "        health == \"Very bad\" ~ \"unhealthy\", \n",
    "        TRUE ~ health)) #This line keeps remaining values as they are"
   ]
  }
 ],
 "metadata": {
  "kernelspec": {
   "display_name": "Python 3",
   "language": "python",
   "name": "python3"
  },
  "language_info": {
   "codemirror_mode": {
    "name": "ipython",
    "version": 3
   },
   "file_extension": ".py",
   "mimetype": "text/x-python",
   "name": "python",
   "nbconvert_exporter": "python",
   "pygments_lexer": "ipython3",
   "version": "3.8.3"
  }
 },
 "nbformat": 4,
 "nbformat_minor": 4
}
