{
 "cells": [
  {
   "cell_type": "markdown",
   "metadata": {
    "slideshow": {
     "slide_type": "slide"
    },
    "tags": []
   },
   "source": [
    "## EXERCISE 1: COMMON ERRORS\n",
    "\n",
    "- Load the data \"ESS2018DK_subset_with-errors.csv\" if you have not already. Make sure it is imported using the correct delimiter.\n",
    "    - Link: https://raw.githubusercontent.com/CALDISS-AAU/workshop_r-extended-intro/master/data/ESS2018DK_subset_with-errors.csv\n",
    "\n",
    "\n",
    "- The variable `frlgrsp` contains what level of weekly/monthly/annual gross pay the respondent feel is fair for them. Try calculating the mean of the variable. The variable may contain high values to denote missing values so be sure to recode these first.\n",
    "\n",
    "- The variable `netustm` contains how much time the respondent spends on the internet on a typical day (in minutes). Try calculating the mean time the repondent spends on the internet on a typical day. If you encounter errors, try correcting them and calculaing the mean again."
   ]
  },
  {
   "cell_type": "markdown",
   "metadata": {
    "slideshow": {
     "slide_type": "slide"
    },
    "tags": []
   },
   "source": [
    "## DISCUSSION: RECODING FUNCTIONS\n",
    "\n",
    "- Now being familiar with the various ways of recoding with `dplyr`, how would you prefer recoding all values in `edlvddk` to the ISCED categories?\n",
    "\n",
    "- Can you identify (possibly other) situations where `case_when` could be useful?"
   ]
  },
  {
   "cell_type": "markdown",
   "metadata": {
    "slideshow": {
     "slide_type": "slide"
    },
    "tags": []
   },
   "source": [
    "## EXERCISE 2: WORKING WITH A TEXT AS A VECTOR\n",
    "\n",
    "In the following, you will create a vector containing the sentences of the texts and then looking up certain words.\n",
    "\n",
    "Make sure you have the package `stringr` installed and loaded.\n",
    "\n",
    "1. Assign the following text snippet to an object:\n",
    "\n",
    "    \"Themis, who has already been alluded to as the wife of Zeus, was the daughter of Cronus and Rhea, and personified those divine laws of justice and order by means of which the well-being and morality of communities are regulated. She presided over the assemblies of the people and the laws of hospitality.\"\n",
    "    \n",
    "\n",
    "2. Convert the text snippet to a vector of senteces.\n",
    "    \n",
    "    a. Split the texts into sentences using `str_split(texts, pattern = \",\")`. Assign to an object (splitting at commas instead of periods).\n",
    "    \n",
    "    c. Unlist the object to convert to a vector using `unlist()`. Assign to the same or a new object.\n",
    "    \n",
    "    \n",
    "2. Use `str_subset()` to see extract sentences that contain the name \"Zeus\". "
   ]
  },
  {
   "cell_type": "markdown",
   "metadata": {
    "slideshow": {
     "slide_type": "slide"
    },
    "tags": []
   },
   "source": [
    "# EXERCISE 3: CONTROL STRUCTURES\n",
    "\n",
    "- Create a vector of words: `words <- c(\"potato\", \"cat\", \"dog\", \"monitor\", \"carpenter\", \"mouse\", \"refrigerator\")`\n",
    "\n",
    "- Write a for loop that only prints the words with more than 5 characters (the function `nchar` returns the number of characters in a word)."
   ]
  },
  {
   "cell_type": "markdown",
   "metadata": {
    "slideshow": {
     "slide_type": "slide"
    },
    "tags": []
   },
   "source": [
    "## EXERCISE 4: FUNCTIONS AND THEIR ARGUMENTS\n",
    "\n",
    "- Inspect the documentation for `str_detect`. What arguments does the function require and what are optional?\n",
    "\n",
    "- The function `head()` is used to return the first 6 rows of a dataframe. Is there a way to make the function return more than 6 rows?"
   ]
  },
  {
   "cell_type": "markdown",
   "metadata": {
    "slideshow": {
     "slide_type": "slide"
    },
    "tags": []
   },
   "source": [
    "## EXERCISE 5: CREATING FUNCTIONS\n",
    "\n",
    "- Create a wrapper function for the `mean()` function where missing values are removed by default.\n",
    "\n",
    "- Use the function on a valid variable in the ESS dataset."
   ]
  }
 ],
 "metadata": {
  "kernelspec": {
   "display_name": "R",
   "language": "R",
   "name": "ir"
  },
  "language_info": {
   "codemirror_mode": "r",
   "file_extension": ".r",
   "mimetype": "text/x-r-source",
   "name": "R",
   "pygments_lexer": "r",
   "version": "3.6.1"
  }
 },
 "nbformat": 4,
 "nbformat_minor": 4
}
